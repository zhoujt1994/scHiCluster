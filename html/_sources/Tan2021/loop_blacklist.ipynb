{
 "cells": [
  {
   "cell_type": "markdown",
   "id": "f2d69bd3-cbcf-4f0b-bbc4-a8e3908d126b",
   "metadata": {},
   "source": [
    "# Generate blacklist for loop calling"
   ]
  },
  {
   "cell_type": "code",
   "execution_count": 1,
   "id": "aaa053e2-da89-40ef-a971-cc48a0d811d0",
   "metadata": {
    "execution": {
     "iopub.execute_input": "2023-06-27T22:29:48.039052Z",
     "iopub.status.busy": "2023-06-27T22:29:48.038877Z",
     "iopub.status.idle": "2023-06-27T22:29:51.702348Z",
     "shell.execute_reply": "2023-06-27T22:29:51.701535Z",
     "shell.execute_reply.started": "2023-06-27T22:29:48.039036Z"
    },
    "tags": []
   },
   "outputs": [],
   "source": [
    "import cooler\n",
    "import numpy as np\n",
    "import pandas as pd\n",
    "import matplotlib as mpl\n",
    "import matplotlib.pyplot as plt\n",
    "from matplotlib import cm as cm\n",
    "import seaborn as sns\n",
    "from scipy.sparse import csr_matrix\n",
    "\n",
    "mpl.style.use('default')\n",
    "mpl.rcParams['pdf.fonttype'] = 42\n",
    "mpl.rcParams['ps.fonttype'] = 42\n",
    "mpl.rcParams['font.family'] = 'sans-serif'\n",
    "mpl.rcParams['font.sans-serif'] = 'Helvetica'\n"
   ]
  },
  {
   "cell_type": "code",
   "execution_count": 7,
   "id": "a5c95434-a2d5-437d-b408-c498bd1a7ab0",
   "metadata": {
    "execution": {
     "iopub.execute_input": "2023-06-27T22:31:33.300125Z",
     "iopub.status.busy": "2023-06-27T22:31:33.299838Z",
     "iopub.status.idle": "2023-06-27T22:31:33.552228Z",
     "shell.execute_reply": "2023-06-27T22:31:33.551526Z",
     "shell.execute_reply.started": "2023-06-27T22:31:33.300103Z"
    },
    "tags": []
   },
   "outputs": [],
   "source": [
    "chrom_size_path = '/data/ref/mm10/genome/mm10.main20.chrom.sizes'\n",
    "chrom_sizes = pd.read_csv(chrom_size_path, sep='\\t', header=None, index_col=0)\n"
   ]
  },
  {
   "cell_type": "code",
   "execution_count": 4,
   "id": "7b5a1ae8-f3a8-4811-a109-7c334b5747c6",
   "metadata": {
    "execution": {
     "iopub.execute_input": "2023-06-27T22:30:58.045182Z",
     "iopub.status.busy": "2023-06-27T22:30:58.044909Z",
     "iopub.status.idle": "2023-06-27T22:30:58.325912Z",
     "shell.execute_reply": "2023-06-27T22:30:58.325274Z",
     "shell.execute_reply.started": "2023-06-27T22:30:58.045161Z"
    },
    "tags": []
   },
   "outputs": [],
   "source": [
    "cool = cooler.Cooler('merged_raw/Tan2021.raw.mcool::/resolutions/10000')\n"
   ]
  },
  {
   "cell_type": "code",
   "execution_count": 25,
   "id": "faa700f0-3879-406c-b240-65f895b2c7ff",
   "metadata": {
    "execution": {
     "iopub.execute_input": "2023-06-27T22:36:44.971007Z",
     "iopub.status.busy": "2023-06-27T22:36:44.970691Z",
     "iopub.status.idle": "2023-06-27T22:37:17.570992Z",
     "shell.execute_reply": "2023-06-27T22:37:17.569955Z",
     "shell.execute_reply.started": "2023-06-27T22:36:44.970981Z"
    },
    "tags": []
   },
   "outputs": [],
   "source": [
    "data = cool.pixels()[:]\n",
    "data = csr_matrix((data['count'], (data['bin1_id'], data['bin2_id'])), shape=cool.shape)\n"
   ]
  },
  {
   "cell_type": "code",
   "execution_count": 29,
   "id": "c2d5fd35-9525-4cb6-acbd-204386e54e2e",
   "metadata": {
    "execution": {
     "iopub.execute_input": "2023-06-27T22:40:11.013603Z",
     "iopub.status.busy": "2023-06-27T22:40:11.013374Z",
     "iopub.status.idle": "2023-06-27T22:40:11.918552Z",
     "shell.execute_reply": "2023-06-27T22:40:11.917720Z",
     "shell.execute_reply.started": "2023-06-27T22:40:11.013582Z"
    },
    "tags": []
   },
   "outputs": [],
   "source": [
    "bin_df = cool.bins()[:]\n",
    "bin_df['rowsum'] = data.sum(axis=0).A1"
   ]
  },
  {
   "cell_type": "code",
   "execution_count": 39,
   "id": "15e2b888-746b-407a-acca-386d497b8cfe",
   "metadata": {
    "execution": {
     "iopub.execute_input": "2023-06-27T22:43:35.439100Z",
     "iopub.status.busy": "2023-06-27T22:43:35.438875Z",
     "iopub.status.idle": "2023-06-27T22:43:35.874733Z",
     "shell.execute_reply": "2023-06-27T22:43:35.873839Z",
     "shell.execute_reply.started": "2023-06-27T22:43:35.439074Z"
    },
    "tags": []
   },
   "outputs": [
    {
     "data": {
      "text/plain": [
       "<AxesSubplot:xlabel='rowsum', ylabel='Count'>"
      ]
     },
     "execution_count": 39,
     "metadata": {},
     "output_type": "execute_result"
    },
    {
     "data": {
      "image/png": "[encoded data removed]",
      "text/plain": [
       "<Figure size 432x288 with 1 Axes>"
      ]
     },
     "metadata": {
      "needs_background": "light"
     },
     "output_type": "display_data"
    }
   ],
   "source": [
    "sns.histplot(bin_df.loc[bin_df['rowsum']>0, 'rowsum'], bins=100, log_scale=10, binrange=(2.5,4.5))"
   ]
  },
  {
   "cell_type": "code",
   "execution_count": 45,
   "id": "da7b863d-1543-40af-9d1f-1029c5f58510",
   "metadata": {
    "execution": {
     "iopub.execute_input": "2023-06-27T22:46:49.558860Z",
     "iopub.status.busy": "2023-06-27T22:46:49.558562Z",
     "iopub.status.idle": "2023-06-27T22:46:49.565268Z",
     "shell.execute_reply": "2023-06-27T22:46:49.564616Z",
     "shell.execute_reply.started": "2023-06-27T22:46:49.558838Z"
    },
    "tags": []
   },
   "outputs": [
    {
     "data": {
      "text/plain": [
       "23669"
      ]
     },
     "execution_count": 45,
     "metadata": {},
     "output_type": "execute_result"
    }
   ],
   "source": [
    "((bin_df['rowsum']<1e3)).sum()"
   ]
  },
  {
   "cell_type": "code",
   "execution_count": 47,
   "id": "9ede1caf-9024-4e07-a42d-21c958588aba",
   "metadata": {
    "execution": {
     "iopub.execute_input": "2023-06-27T23:52:31.035234Z",
     "iopub.status.busy": "2023-06-27T23:52:31.034682Z",
     "iopub.status.idle": "2023-06-27T23:52:31.321344Z",
     "shell.execute_reply": "2023-06-27T23:52:31.320692Z",
     "shell.execute_reply.started": "2023-06-27T23:52:31.035212Z"
    },
    "tags": []
   },
   "outputs": [],
   "source": [
    "bin_df[['chrom', 'start', 'end']].to_csv('mm10.main.10kb.bed', sep='\\t', header=False, index=False)\n",
    "bin_df.loc[bin_df['rowsum']<1e3, ['chrom', 'start', 'end']].to_csv('mm10.main.rowsum1000.10kb.bed', sep='\\t', header=False, index=False)\n"
   ]
  },
  {
   "cell_type": "code",
   "execution_count": null,
   "id": "a64d2e8a-2bd0-4aa7-b86a-140ebb0a6b51",
   "metadata": {},
   "outputs": [],
   "source": []
  }
 ],
 "metadata": {
  "kernelspec": {
   "display_name": "Python 3 (ipykernel)",
   "language": "python",
   "name": "python3"
  },
  "language_info": {
   "codemirror_mode": {
    "name": "ipython",
    "version": 3
   },
   "file_extension": ".py",
   "mimetype": "text/x-python",
   "name": "python",
   "nbconvert_exporter": "python",
   "pygments_lexer": "ipython3",
   "version": "3.7.12"
  }
 },
 "nbformat": 4,
 "nbformat_minor": 5
}
