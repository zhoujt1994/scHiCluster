{
 "cells": [
  {
   "cell_type": "markdown",
   "id": "c48fd63c-594c-46cc-bf53-f62af7e3dbf9",
   "metadata": {},
   "source": [
    "# RNA correlated compartment"
   ]
  },
  {
   "cell_type": "code",
   "execution_count": 2,
   "id": "b7d43d83-9ed4-4858-8a1a-5a3af2562c9c",
   "metadata": {
    "execution": {
     "iopub.execute_input": "2023-06-24T07:38:00.089311Z",
     "iopub.status.busy": "2023-06-24T07:38:00.089050Z",
     "iopub.status.idle": "2023-06-24T07:38:00.094112Z",
     "shell.execute_reply": "2023-06-24T07:38:00.093597Z",
     "shell.execute_reply.started": "2023-06-24T07:38:00.089292Z"
    },
    "tags": []
   },
   "outputs": [],
   "source": [
    "import numpy as np\n",
    "import pandas as pd\n",
    "import cooler\n",
    "import anndata\n",
    "import scanpy as sc\n",
    "import matplotlib as mpl\n",
    "import matplotlib.pyplot as plt\n",
    "from matplotlib.colors import LogNorm\n",
    "from matplotlib import cm as cm\n",
    "import seaborn as sns\n",
    "\n",
    "mpl.style.use('default')\n",
    "mpl.rcParams['pdf.fonttype'] = 42\n",
    "mpl.rcParams['ps.fonttype'] = 42\n",
    "mpl.rcParams['font.family'] = 'sans-serif'\n",
    "mpl.rcParams['font.sans-serif'] = 'Helvetica'\n"
   ]
  },
  {
   "cell_type": "code",
   "execution_count": 3,
   "id": "68f9e975-0696-405a-8c59-cdae9a279069",
   "metadata": {
    "execution": {
     "iopub.execute_input": "2023-06-24T07:38:04.283044Z",
     "iopub.status.busy": "2023-06-24T07:38:04.282186Z",
     "iopub.status.idle": "2023-06-24T07:38:04.287043Z",
     "shell.execute_reply": "2023-06-24T07:38:04.286325Z",
     "shell.execute_reply.started": "2023-06-24T07:38:04.282988Z"
    },
    "tags": []
   },
   "outputs": [],
   "source": [
    "indir = f'/home/jzhou_salk_edu/sky_workdir/hba/compartment_majortype/diff/neu/'\n",
    "outdir = '/home/jzhou_salk_edu/sky_workdir/hba/rna_majortype/'"
   ]
  },
  {
   "cell_type": "code",
   "execution_count": 5,
   "id": "d842f034-2e5c-407c-a905-e8a18109cce9",
   "metadata": {
    "execution": {
     "iopub.execute_input": "2023-06-24T07:38:13.380129Z",
     "iopub.status.busy": "2023-06-24T07:38:13.379627Z",
     "iopub.status.idle": "2023-06-24T07:38:13.383654Z",
     "shell.execute_reply": "2023-06-24T07:38:13.383074Z",
     "shell.execute_reply.started": "2023-06-24T07:38:13.380108Z"
    },
    "tags": []
   },
   "outputs": [],
   "source": [
    "# no L5ET\n",
    "leg = ['L23_IT', 'L4_IT', 'L5_IT', 'L6_IT', 'L6_IT_Car3', 'L56_NP', 'L6_CT', 'L6b', 'Amy', \n",
    "       'Lamp5', 'Lamp5_LHX6', 'Sncg', 'Vip', 'Pvalb', 'Pvalb_ChC', 'Sst', 'CHD7', \n",
    "       'MSN_D1', 'MSN_D2', 'Foxp2', 'SubCtx', \n",
    "       # 'ASC', 'ODC', 'OPC', 'MGC', 'PC', 'EC', 'VLMC'\n",
    "      ]\n",
    "res = 100000\n"
   ]
  },
  {
   "cell_type": "code",
   "execution_count": 6,
   "id": "61a535c1-4448-4ebe-89cd-6840211ca072",
   "metadata": {
    "execution": {
     "iopub.execute_input": "2023-06-24T07:38:19.518666Z",
     "iopub.status.busy": "2023-06-24T07:38:19.518350Z",
     "iopub.status.idle": "2023-06-24T07:38:20.039560Z",
     "shell.execute_reply": "2023-06-24T07:38:20.038877Z",
     "shell.execute_reply.started": "2023-06-24T07:38:19.518627Z"
    },
    "tags": []
   },
   "outputs": [
    {
     "data": {
      "text/html": [
       "<div>\n",
       "<style scoped>\n",
       "    .dataframe tbody tr th:only-of-type {\n",
       "        vertical-align: middle;\n",
       "    }\n",
       "\n",
       "    .dataframe tbody tr th {\n",
       "        vertical-align: top;\n",
       "    }\n",
       "\n",
       "    .dataframe thead th {\n",
       "        text-align: right;\n",
       "    }\n",
       "</style>\n",
       "<table border=\"1\" class=\"dataframe\">\n",
       "  <thead>\n",
       "    <tr style=\"text-align: right;\">\n",
       "      <th></th>\n",
       "      <th>chr</th>\n",
       "      <th>start</th>\n",
       "      <th>end</th>\n",
       "      <th>L23_IT_100Kb</th>\n",
       "      <th>L4_IT_100Kb</th>\n",
       "      <th>L5_IT_100Kb</th>\n",
       "      <th>L6_IT_100Kb</th>\n",
       "      <th>L6_IT_Car3_100Kb</th>\n",
       "      <th>L56_NP_100Kb</th>\n",
       "      <th>L6_CT_100Kb</th>\n",
       "      <th>...</th>\n",
       "      <th>Sst</th>\n",
       "      <th>CHD7</th>\n",
       "      <th>MSN_D1</th>\n",
       "      <th>MSN_D2</th>\n",
       "      <th>Foxp2</th>\n",
       "      <th>SubCtx</th>\n",
       "      <th>sample_maha</th>\n",
       "      <th>pval</th>\n",
       "      <th>padj</th>\n",
       "      <th>dist_clust</th>\n",
       "    </tr>\n",
       "  </thead>\n",
       "  <tbody>\n",
       "    <tr>\n",
       "      <th>chr10_2</th>\n",
       "      <td>chr10</td>\n",
       "      <td>200000</td>\n",
       "      <td>300000</td>\n",
       "      <td>1.20141</td>\n",
       "      <td>1.40148</td>\n",
       "      <td>1.12274</td>\n",
       "      <td>0.91856</td>\n",
       "      <td>0.71971</td>\n",
       "      <td>1.45364</td>\n",
       "      <td>1.35924</td>\n",
       "      <td>...</td>\n",
       "      <td>1.60003</td>\n",
       "      <td>1.79399</td>\n",
       "      <td>1.18581</td>\n",
       "      <td>1.14140</td>\n",
       "      <td>1.64998</td>\n",
       "      <td>1.77294</td>\n",
       "      <td>78.797991</td>\n",
       "      <td>6.274326e-09</td>\n",
       "      <td>1.654675e-08</td>\n",
       "      <td>1</td>\n",
       "    </tr>\n",
       "    <tr>\n",
       "      <th>chr10_3</th>\n",
       "      <td>chr10</td>\n",
       "      <td>300000</td>\n",
       "      <td>400000</td>\n",
       "      <td>1.67618</td>\n",
       "      <td>1.43001</td>\n",
       "      <td>1.33450</td>\n",
       "      <td>1.32691</td>\n",
       "      <td>0.51945</td>\n",
       "      <td>1.22911</td>\n",
       "      <td>1.53759</td>\n",
       "      <td>...</td>\n",
       "      <td>1.69831</td>\n",
       "      <td>1.69831</td>\n",
       "      <td>1.61143</td>\n",
       "      <td>1.15231</td>\n",
       "      <td>1.94190</td>\n",
       "      <td>2.06830</td>\n",
       "      <td>101.685104</td>\n",
       "      <td>6.282661e-13</td>\n",
       "      <td>1.940153e-12</td>\n",
       "      <td>1</td>\n",
       "    </tr>\n",
       "    <tr>\n",
       "      <th>chr10_4</th>\n",
       "      <td>chr10</td>\n",
       "      <td>400000</td>\n",
       "      <td>500000</td>\n",
       "      <td>1.27442</td>\n",
       "      <td>1.33094</td>\n",
       "      <td>1.21215</td>\n",
       "      <td>1.43974</td>\n",
       "      <td>0.96214</td>\n",
       "      <td>1.59233</td>\n",
       "      <td>1.40148</td>\n",
       "      <td>...</td>\n",
       "      <td>1.58100</td>\n",
       "      <td>1.61143</td>\n",
       "      <td>1.64171</td>\n",
       "      <td>1.62984</td>\n",
       "      <td>1.69065</td>\n",
       "      <td>1.68152</td>\n",
       "      <td>28.864611</td>\n",
       "      <td>9.045962e-02</td>\n",
       "      <td>1.563036e-01</td>\n",
       "      <td>1</td>\n",
       "    </tr>\n",
       "    <tr>\n",
       "      <th>chr10_5</th>\n",
       "      <td>chr10</td>\n",
       "      <td>500000</td>\n",
       "      <td>600000</td>\n",
       "      <td>1.43001</td>\n",
       "      <td>1.39806</td>\n",
       "      <td>1.69428</td>\n",
       "      <td>1.60003</td>\n",
       "      <td>0.57439</td>\n",
       "      <td>1.61143</td>\n",
       "      <td>1.37993</td>\n",
       "      <td>...</td>\n",
       "      <td>1.76052</td>\n",
       "      <td>1.79952</td>\n",
       "      <td>1.58100</td>\n",
       "      <td>1.83248</td>\n",
       "      <td>1.55484</td>\n",
       "      <td>2.17604</td>\n",
       "      <td>110.773702</td>\n",
       "      <td>1.418987e-14</td>\n",
       "      <td>4.640257e-14</td>\n",
       "      <td>1</td>\n",
       "    </tr>\n",
       "    <tr>\n",
       "      <th>chr10_6</th>\n",
       "      <td>chr10</td>\n",
       "      <td>600000</td>\n",
       "      <td>700000</td>\n",
       "      <td>1.43350</td>\n",
       "      <td>1.69065</td>\n",
       "      <td>1.44978</td>\n",
       "      <td>1.66232</td>\n",
       "      <td>1.23573</td>\n",
       "      <td>1.26750</td>\n",
       "      <td>1.73916</td>\n",
       "      <td>...</td>\n",
       "      <td>1.90078</td>\n",
       "      <td>1.82624</td>\n",
       "      <td>1.85399</td>\n",
       "      <td>1.42406</td>\n",
       "      <td>1.60286</td>\n",
       "      <td>1.35578</td>\n",
       "      <td>8.253318</td>\n",
       "      <td>9.900547e-01</td>\n",
       "      <td>1.000000e+00</td>\n",
       "      <td>1</td>\n",
       "    </tr>\n",
       "    <tr>\n",
       "      <th>...</th>\n",
       "      <td>...</td>\n",
       "      <td>...</td>\n",
       "      <td>...</td>\n",
       "      <td>...</td>\n",
       "      <td>...</td>\n",
       "      <td>...</td>\n",
       "      <td>...</td>\n",
       "      <td>...</td>\n",
       "      <td>...</td>\n",
       "      <td>...</td>\n",
       "      <td>...</td>\n",
       "      <td>...</td>\n",
       "      <td>...</td>\n",
       "      <td>...</td>\n",
       "      <td>...</td>\n",
       "      <td>...</td>\n",
       "      <td>...</td>\n",
       "      <td>...</td>\n",
       "      <td>...</td>\n",
       "      <td>...</td>\n",
       "      <td>...</td>\n",
       "    </tr>\n",
       "    <tr>\n",
       "      <th>chr9_1367</th>\n",
       "      <td>chr9</td>\n",
       "      <td>136700000</td>\n",
       "      <td>136800000</td>\n",
       "      <td>2.53781</td>\n",
       "      <td>2.49765</td>\n",
       "      <td>2.43707</td>\n",
       "      <td>2.53781</td>\n",
       "      <td>2.64364</td>\n",
       "      <td>2.50284</td>\n",
       "      <td>2.61332</td>\n",
       "      <td>...</td>\n",
       "      <td>2.49765</td>\n",
       "      <td>2.30178</td>\n",
       "      <td>2.55214</td>\n",
       "      <td>2.61332</td>\n",
       "      <td>2.42730</td>\n",
       "      <td>2.37386</td>\n",
       "      <td>0.208439</td>\n",
       "      <td>1.000000e+00</td>\n",
       "      <td>1.000000e+00</td>\n",
       "      <td>1</td>\n",
       "    </tr>\n",
       "    <tr>\n",
       "      <th>chr9_1368</th>\n",
       "      <td>chr9</td>\n",
       "      <td>136800000</td>\n",
       "      <td>136900000</td>\n",
       "      <td>2.25818</td>\n",
       "      <td>2.34290</td>\n",
       "      <td>2.30178</td>\n",
       "      <td>2.27476</td>\n",
       "      <td>2.20722</td>\n",
       "      <td>2.28698</td>\n",
       "      <td>2.49765</td>\n",
       "      <td>...</td>\n",
       "      <td>2.35196</td>\n",
       "      <td>2.29048</td>\n",
       "      <td>2.25515</td>\n",
       "      <td>2.25515</td>\n",
       "      <td>2.17299</td>\n",
       "      <td>2.22961</td>\n",
       "      <td>1.756256</td>\n",
       "      <td>1.000000e+00</td>\n",
       "      <td>1.000000e+00</td>\n",
       "      <td>1</td>\n",
       "    </tr>\n",
       "    <tr>\n",
       "      <th>chr9_1369</th>\n",
       "      <td>chr9</td>\n",
       "      <td>136900000</td>\n",
       "      <td>137000000</td>\n",
       "      <td>2.26494</td>\n",
       "      <td>2.13128</td>\n",
       "      <td>2.34837</td>\n",
       "      <td>2.37084</td>\n",
       "      <td>2.33576</td>\n",
       "      <td>2.35196</td>\n",
       "      <td>2.46547</td>\n",
       "      <td>...</td>\n",
       "      <td>2.39138</td>\n",
       "      <td>2.22605</td>\n",
       "      <td>2.35521</td>\n",
       "      <td>2.31751</td>\n",
       "      <td>2.40634</td>\n",
       "      <td>2.33914</td>\n",
       "      <td>0.318975</td>\n",
       "      <td>1.000000e+00</td>\n",
       "      <td>1.000000e+00</td>\n",
       "      <td>1</td>\n",
       "    </tr>\n",
       "    <tr>\n",
       "      <th>chr9_1370</th>\n",
       "      <td>chr9</td>\n",
       "      <td>137000000</td>\n",
       "      <td>137100000</td>\n",
       "      <td>2.35196</td>\n",
       "      <td>2.04449</td>\n",
       "      <td>2.36778</td>\n",
       "      <td>2.18888</td>\n",
       "      <td>2.30471</td>\n",
       "      <td>2.28174</td>\n",
       "      <td>2.42333</td>\n",
       "      <td>...</td>\n",
       "      <td>2.35761</td>\n",
       "      <td>2.25818</td>\n",
       "      <td>2.30178</td>\n",
       "      <td>2.18888</td>\n",
       "      <td>2.30759</td>\n",
       "      <td>2.36778</td>\n",
       "      <td>0.952000</td>\n",
       "      <td>1.000000e+00</td>\n",
       "      <td>1.000000e+00</td>\n",
       "      <td>1</td>\n",
       "    </tr>\n",
       "    <tr>\n",
       "      <th>chr9_1372</th>\n",
       "      <td>chr9</td>\n",
       "      <td>137200000</td>\n",
       "      <td>137300000</td>\n",
       "      <td>2.33276</td>\n",
       "      <td>2.13811</td>\n",
       "      <td>2.29494</td>\n",
       "      <td>2.32970</td>\n",
       "      <td>2.46547</td>\n",
       "      <td>2.41199</td>\n",
       "      <td>2.52050</td>\n",
       "      <td>...</td>\n",
       "      <td>2.46547</td>\n",
       "      <td>2.46252</td>\n",
       "      <td>2.38687</td>\n",
       "      <td>2.35196</td>\n",
       "      <td>2.32339</td>\n",
       "      <td>2.21984</td>\n",
       "      <td>0.170553</td>\n",
       "      <td>1.000000e+00</td>\n",
       "      <td>1.000000e+00</td>\n",
       "      <td>1</td>\n",
       "    </tr>\n",
       "  </tbody>\n",
       "</table>\n",
       "<p>24745 rows × 49 columns</p>\n",
       "</div>"
      ],
      "text/plain": [
       "             chr      start        end  L23_IT_100Kb  L4_IT_100Kb  \\\n",
       "chr10_2    chr10     200000     300000       1.20141      1.40148   \n",
       "chr10_3    chr10     300000     400000       1.67618      1.43001   \n",
       "chr10_4    chr10     400000     500000       1.27442      1.33094   \n",
       "chr10_5    chr10     500000     600000       1.43001      1.39806   \n",
       "chr10_6    chr10     600000     700000       1.43350      1.69065   \n",
       "...          ...        ...        ...           ...          ...   \n",
       "chr9_1367   chr9  136700000  136800000       2.53781      2.49765   \n",
       "chr9_1368   chr9  136800000  136900000       2.25818      2.34290   \n",
       "chr9_1369   chr9  136900000  137000000       2.26494      2.13128   \n",
       "chr9_1370   chr9  137000000  137100000       2.35196      2.04449   \n",
       "chr9_1372   chr9  137200000  137300000       2.33276      2.13811   \n",
       "\n",
       "           L5_IT_100Kb  L6_IT_100Kb  L6_IT_Car3_100Kb  L56_NP_100Kb  \\\n",
       "chr10_2        1.12274      0.91856           0.71971       1.45364   \n",
       "chr10_3        1.33450      1.32691           0.51945       1.22911   \n",
       "chr10_4        1.21215      1.43974           0.96214       1.59233   \n",
       "chr10_5        1.69428      1.60003           0.57439       1.61143   \n",
       "chr10_6        1.44978      1.66232           1.23573       1.26750   \n",
       "...                ...          ...               ...           ...   \n",
       "chr9_1367      2.43707      2.53781           2.64364       2.50284   \n",
       "chr9_1368      2.30178      2.27476           2.20722       2.28698   \n",
       "chr9_1369      2.34837      2.37084           2.33576       2.35196   \n",
       "chr9_1370      2.36778      2.18888           2.30471       2.28174   \n",
       "chr9_1372      2.29494      2.32970           2.46547       2.41199   \n",
       "\n",
       "           L6_CT_100Kb  ...      Sst     CHD7   MSN_D1   MSN_D2    Foxp2  \\\n",
       "chr10_2        1.35924  ...  1.60003  1.79399  1.18581  1.14140  1.64998   \n",
       "chr10_3        1.53759  ...  1.69831  1.69831  1.61143  1.15231  1.94190   \n",
       "chr10_4        1.40148  ...  1.58100  1.61143  1.64171  1.62984  1.69065   \n",
       "chr10_5        1.37993  ...  1.76052  1.79952  1.58100  1.83248  1.55484   \n",
       "chr10_6        1.73916  ...  1.90078  1.82624  1.85399  1.42406  1.60286   \n",
       "...                ...  ...      ...      ...      ...      ...      ...   \n",
       "chr9_1367      2.61332  ...  2.49765  2.30178  2.55214  2.61332  2.42730   \n",
       "chr9_1368      2.49765  ...  2.35196  2.29048  2.25515  2.25515  2.17299   \n",
       "chr9_1369      2.46547  ...  2.39138  2.22605  2.35521  2.31751  2.40634   \n",
       "chr9_1370      2.42333  ...  2.35761  2.25818  2.30178  2.18888  2.30759   \n",
       "chr9_1372      2.52050  ...  2.46547  2.46252  2.38687  2.35196  2.32339   \n",
       "\n",
       "            SubCtx  sample_maha          pval          padj  dist_clust  \n",
       "chr10_2    1.77294    78.797991  6.274326e-09  1.654675e-08           1  \n",
       "chr10_3    2.06830   101.685104  6.282661e-13  1.940153e-12           1  \n",
       "chr10_4    1.68152    28.864611  9.045962e-02  1.563036e-01           1  \n",
       "chr10_5    2.17604   110.773702  1.418987e-14  4.640257e-14           1  \n",
       "chr10_6    1.35578     8.253318  9.900547e-01  1.000000e+00           1  \n",
       "...            ...          ...           ...           ...         ...  \n",
       "chr9_1367  2.37386     0.208439  1.000000e+00  1.000000e+00           1  \n",
       "chr9_1368  2.22961     1.756256  1.000000e+00  1.000000e+00           1  \n",
       "chr9_1369  2.33914     0.318975  1.000000e+00  1.000000e+00           1  \n",
       "chr9_1370  2.36778     0.952000  1.000000e+00  1.000000e+00           1  \n",
       "chr9_1372  2.21984     0.170553  1.000000e+00  1.000000e+00           1  \n",
       "\n",
       "[24745 rows x 49 columns]"
      ]
     },
     "execution_count": 6,
     "metadata": {},
     "output_type": "execute_result"
    }
   ],
   "source": [
    "comp = pd.read_csv(f'{indir}DifferentialResult/fdr_result/differential.intra_sample_combined.pcQnm.bedGraph', sep='\\t', header=0, index_col=None)\n",
    "comp.index = comp['chr'] + '_' + (comp['start'] // res).astype(str)\n",
    "comp"
   ]
  },
  {
   "cell_type": "code",
   "execution_count": 7,
   "id": "04a8c48a-c2c5-474b-b528-72212ec049b0",
   "metadata": {
    "execution": {
     "iopub.execute_input": "2023-06-24T07:38:23.330349Z",
     "iopub.status.busy": "2023-06-24T07:38:23.330019Z",
     "iopub.status.idle": "2023-06-24T07:38:23.336471Z",
     "shell.execute_reply": "2023-06-24T07:38:23.335838Z",
     "shell.execute_reply.started": "2023-06-24T07:38:23.330326Z"
    },
    "tags": []
   },
   "outputs": [],
   "source": [
    "binall = comp[['chr', 'start', 'end', 'sample_maha', 'pval', 'padj']]\n",
    "binall = binall.rename({'chr':'chrom'}, axis=1)\n",
    "comp = comp[leg]\n"
   ]
  },
  {
   "cell_type": "code",
   "execution_count": 8,
   "id": "93685311-0fd1-46cd-a887-9edd426b799e",
   "metadata": {
    "execution": {
     "iopub.execute_input": "2023-06-24T07:38:26.321089Z",
     "iopub.status.busy": "2023-06-24T07:38:26.320467Z",
     "iopub.status.idle": "2023-06-24T07:38:26.377191Z",
     "shell.execute_reply": "2023-06-24T07:38:26.376628Z",
     "shell.execute_reply.started": "2023-06-24T07:38:26.321063Z"
    },
    "tags": []
   },
   "outputs": [],
   "source": [
    "expr = pd.read_hdf('/home/jzhou_salk_edu/sky_workdir/hba/rna_majortype/cluster_expr.hdf').loc[leg]\n"
   ]
  },
  {
   "cell_type": "code",
   "execution_count": 10,
   "id": "bbae0874-85ea-4dc0-beaf-c82c04e35d5a",
   "metadata": {
    "ExecuteTime": {
     "end_time": "2022-09-25T09:00:31.484241Z",
     "start_time": "2022-09-25T09:00:28.908273Z"
    },
    "execution": {
     "iopub.execute_input": "2023-06-24T07:39:02.236328Z",
     "iopub.status.busy": "2023-06-24T07:39:02.235944Z",
     "iopub.status.idle": "2023-06-24T07:39:02.840687Z",
     "shell.execute_reply": "2023-06-24T07:39:02.836633Z",
     "shell.execute_reply.started": "2023-06-24T07:39:02.236304Z"
    },
    "tags": []
   },
   "outputs": [
    {
     "name": "stdout",
     "output_type": "stream",
     "text": [
      "1131.0\n"
     ]
    }
   ],
   "source": [
    "from scipy.stats import rankdata\n",
    "\n",
    "deg = np.zeros(expr.shape[1])\n",
    "for i in range(len(leg)-1):\n",
    "    for j in range(i+1, len(leg)):\n",
    "        tmp = np.load(f'/home/jzhou_salk_edu/sky_workdir/hba/rna_majortype/DEG/{leg[i]}-{leg[j]}.npz')\n",
    "        # deg[np.logical_and(np.abs(tmp['fc'])>1, tmp['fdr']<1e-3)] = 1\n",
    "        rank = rankdata(tmp['fdr'])\n",
    "        deg[rank<=100] = 1\n",
    "\n",
    "print(deg.sum())\n"
   ]
  },
  {
   "cell_type": "code",
   "execution_count": 11,
   "id": "51709670-c4de-4efa-bdf6-b5f5b43a561d",
   "metadata": {
    "execution": {
     "iopub.execute_input": "2023-06-24T07:39:17.391103Z",
     "iopub.status.busy": "2023-06-24T07:39:17.390838Z",
     "iopub.status.idle": "2023-06-24T07:39:17.516033Z",
     "shell.execute_reply": "2023-06-24T07:39:17.515360Z",
     "shell.execute_reply.started": "2023-06-24T07:39:17.391083Z"
    },
    "tags": []
   },
   "outputs": [],
   "source": [
    "chrom_size_path = f'/data/hba/loop_majortype/hg38_with_chrl.main.chrom.sizes'\n",
    "chrom_sizes = cooler.read_chromsizes(chrom_size_path, all_names=True)\n"
   ]
  },
  {
   "cell_type": "code",
   "execution_count": 12,
   "id": "80b48658-4cf9-4ed2-8479-77857231dd87",
   "metadata": {
    "execution": {
     "iopub.execute_input": "2023-06-24T07:39:25.572964Z",
     "iopub.status.busy": "2023-06-24T07:39:25.572702Z",
     "iopub.status.idle": "2023-06-24T07:39:25.644520Z",
     "shell.execute_reply": "2023-06-24T07:39:25.643885Z",
     "shell.execute_reply.started": "2023-06-24T07:39:25.572945Z"
    }
   },
   "outputs": [
    {
     "data": {
      "text/html": [
       "<div>\n",
       "<style scoped>\n",
       "    .dataframe tbody tr th:only-of-type {\n",
       "        vertical-align: middle;\n",
       "    }\n",
       "\n",
       "    .dataframe tbody tr th {\n",
       "        vertical-align: top;\n",
       "    }\n",
       "\n",
       "    .dataframe thead th {\n",
       "        text-align: right;\n",
       "    }\n",
       "</style>\n",
       "<table border=\"1\" class=\"dataframe\">\n",
       "  <thead>\n",
       "    <tr style=\"text-align: right;\">\n",
       "      <th></th>\n",
       "      <th>chrom</th>\n",
       "      <th>start</th>\n",
       "      <th>end</th>\n",
       "      <th>gene_name</th>\n",
       "      <th>strand</th>\n",
       "    </tr>\n",
       "    <tr>\n",
       "      <th>gene</th>\n",
       "      <th></th>\n",
       "      <th></th>\n",
       "      <th></th>\n",
       "      <th></th>\n",
       "      <th></th>\n",
       "    </tr>\n",
       "  </thead>\n",
       "  <tbody>\n",
       "    <tr>\n",
       "      <th>ENSG00000002746.15</th>\n",
       "      <td>chr7</td>\n",
       "      <td>43112629</td>\n",
       "      <td>43566001</td>\n",
       "      <td>HECW1</td>\n",
       "      <td>+</td>\n",
       "    </tr>\n",
       "    <tr>\n",
       "      <th>ENSG00000005108.16</th>\n",
       "      <td>chr7</td>\n",
       "      <td>11370365</td>\n",
       "      <td>11832198</td>\n",
       "      <td>THSD7A</td>\n",
       "      <td>-</td>\n",
       "    </tr>\n",
       "    <tr>\n",
       "      <th>ENSG00000006128.12</th>\n",
       "      <td>chr7</td>\n",
       "      <td>97732084</td>\n",
       "      <td>97740472</td>\n",
       "      <td>TAC1</td>\n",
       "      <td>+</td>\n",
       "    </tr>\n",
       "    <tr>\n",
       "      <th>ENSG00000006468.14</th>\n",
       "      <td>chr7</td>\n",
       "      <td>13891229</td>\n",
       "      <td>13991425</td>\n",
       "      <td>ETV1</td>\n",
       "      <td>-</td>\n",
       "    </tr>\n",
       "    <tr>\n",
       "      <th>ENSG00000007237.18</th>\n",
       "      <td>chr17</td>\n",
       "      <td>9910609</td>\n",
       "      <td>10198551</td>\n",
       "      <td>AC005747.1</td>\n",
       "      <td>-</td>\n",
       "    </tr>\n",
       "    <tr>\n",
       "      <th>...</th>\n",
       "      <td>...</td>\n",
       "      <td>...</td>\n",
       "      <td>...</td>\n",
       "      <td>...</td>\n",
       "      <td>...</td>\n",
       "    </tr>\n",
       "    <tr>\n",
       "      <th>ENSG00000286954.1</th>\n",
       "      <td>chr6</td>\n",
       "      <td>22663507</td>\n",
       "      <td>22675493</td>\n",
       "      <td>AL033539.2</td>\n",
       "      <td>+</td>\n",
       "    </tr>\n",
       "    <tr>\n",
       "      <th>ENSG00000287172.1</th>\n",
       "      <td>chr2</td>\n",
       "      <td>76185020</td>\n",
       "      <td>76399490</td>\n",
       "      <td>AC073091.3</td>\n",
       "      <td>+</td>\n",
       "    </tr>\n",
       "    <tr>\n",
       "      <th>ENSG00000287694.1</th>\n",
       "      <td>chr16</td>\n",
       "      <td>76277288</td>\n",
       "      <td>76819624</td>\n",
       "      <td>AC106741.2</td>\n",
       "      <td>+</td>\n",
       "    </tr>\n",
       "    <tr>\n",
       "      <th>ENSG00000287722.1</th>\n",
       "      <td>chr13</td>\n",
       "      <td>53207831</td>\n",
       "      <td>53801489</td>\n",
       "      <td>AL356295.1</td>\n",
       "      <td>+</td>\n",
       "    </tr>\n",
       "    <tr>\n",
       "      <th>ENSG00000287912.1</th>\n",
       "      <td>chr11</td>\n",
       "      <td>81175201</td>\n",
       "      <td>81431520</td>\n",
       "      <td>AP003464.1</td>\n",
       "      <td>+</td>\n",
       "    </tr>\n",
       "  </tbody>\n",
       "</table>\n",
       "<p>1099 rows × 5 columns</p>\n",
       "</div>"
      ],
      "text/plain": [
       "                    chrom     start       end   gene_name strand\n",
       "gene                                                            \n",
       "ENSG00000002746.15   chr7  43112629  43566001       HECW1      +\n",
       "ENSG00000005108.16   chr7  11370365  11832198      THSD7A      -\n",
       "ENSG00000006128.12   chr7  97732084  97740472        TAC1      +\n",
       "ENSG00000006468.14   chr7  13891229  13991425        ETV1      -\n",
       "ENSG00000007237.18  chr17   9910609  10198551  AC005747.1      -\n",
       "...                   ...       ...       ...         ...    ...\n",
       "ENSG00000286954.1    chr6  22663507  22675493  AL033539.2      +\n",
       "ENSG00000287172.1    chr2  76185020  76399490  AC073091.3      +\n",
       "ENSG00000287694.1   chr16  76277288  76819624  AC106741.2      +\n",
       "ENSG00000287722.1   chr13  53207831  53801489  AL356295.1      +\n",
       "ENSG00000287912.1   chr11  81175201  81431520  AP003464.1      +\n",
       "\n",
       "[1099 rows x 5 columns]"
      ]
     },
     "execution_count": 12,
     "metadata": {},
     "output_type": "execute_result"
    }
   ],
   "source": [
    "gene_meta = pd.read_csv('/home/jzhou_salk_edu/sky_workdir/hba/ref/gencode.v33.bed', sep='\\t', index_col=None, header=None)\n",
    "gene_meta.columns = ['chrom', 'start', 'end', 'gene_id', 'gene_name', 'strand']\n",
    "gene_meta = gene_meta.set_index('gene_id').loc[expr.columns[deg==1]]\n",
    "gene_meta = gene_meta.loc[gene_meta['chrom'].isin(chrom_sizes.index[:22])]\n",
    "gene_meta"
   ]
  },
  {
   "cell_type": "code",
   "execution_count": 13,
   "id": "0389d1ea-0b77-4e1a-8a38-973a3ee3f330",
   "metadata": {
    "execution": {
     "iopub.execute_input": "2023-06-24T07:39:28.168795Z",
     "iopub.status.busy": "2023-06-24T07:39:28.168498Z",
     "iopub.status.idle": "2023-06-24T07:39:28.760047Z",
     "shell.execute_reply": "2023-06-24T07:39:28.759163Z",
     "shell.execute_reply.started": "2023-06-24T07:39:28.168775Z"
    },
    "tags": []
   },
   "outputs": [],
   "source": [
    "import joblib\n",
    "# from qnorm import quantile_normalize\n",
    "from scipy.stats import norm\n",
    "from statsmodels.sandbox.stats.multicomp import multipletests as FDR\n",
    "from tqdm import tqdm\n",
    "from ALLCools.mcds.correlation import corr_array\n"
   ]
  },
  {
   "cell_type": "code",
   "execution_count": 14,
   "id": "636956e1-684f-49d6-a346-b82317a0375c",
   "metadata": {
    "execution": {
     "iopub.execute_input": "2023-06-24T07:39:29.416202Z",
     "iopub.status.busy": "2023-06-24T07:39:29.415955Z",
     "iopub.status.idle": "2023-06-24T07:39:29.421334Z",
     "shell.execute_reply": "2023-06-24T07:39:29.420703Z",
     "shell.execute_reply.started": "2023-06-24T07:39:29.416180Z"
    },
    "tags": []
   },
   "outputs": [],
   "source": [
    "def shuffle_corr_norm(rna_data, dmr_data):\n",
    "    \n",
    "    shuffle_rna_data = rna_data.copy()\n",
    "    for col, data in shuffle_rna_data.items():\n",
    "        n_gene = shuffle_rna_data.shape[0]\n",
    "        shuffle_rna_data[col] = shuffle_rna_data[col].sample(n_gene).values\n",
    "    \n",
    "    if dmr_data.shape[0] > 50000:\n",
    "        shuffle_dmr_data = dmr_data.sample(50000).copy()\n",
    "    else:\n",
    "        shuffle_dmr_data = dmr_data.copy()\n",
    "    for col, data in shuffle_dmr_data.items():\n",
    "        n_dmr = shuffle_dmr_data.shape[0]\n",
    "        shuffle_dmr_data[col] = shuffle_dmr_data[col].sample(n_dmr).values\n",
    "\n",
    "    # shuffle corr\n",
    "    shuffle_corr = corr_array(shuffle_rna_data, shuffle_dmr_data)\n",
    "    mu, std = norm.fit(shuffle_corr.ravel())\n",
    "    return mu, std, shuffle_corr.ravel()\n"
   ]
  },
  {
   "cell_type": "code",
   "execution_count": 15,
   "id": "71bfba00-1755-4ded-be2b-f14f2ebbf81c",
   "metadata": {
    "execution": {
     "iopub.execute_input": "2023-06-24T07:39:41.970590Z",
     "iopub.status.busy": "2023-06-24T07:39:41.970323Z",
     "iopub.status.idle": "2023-06-24T07:39:47.133506Z",
     "shell.execute_reply": "2023-06-24T07:39:47.132795Z",
     "shell.execute_reply.started": "2023-06-24T07:39:41.970572Z"
    },
    "tags": []
   },
   "outputs": [
    {
     "data": {
      "text/plain": [
       "(3.360401866366818e-06, 0.22354448644380281)"
      ]
     },
     "execution_count": 15,
     "metadata": {},
     "output_type": "execute_result"
    }
   ],
   "source": [
    "null_mu, null_std, shuffle_corr = shuffle_corr_norm(expr.loc[:,  expr.columns.isin(gene_meta.index)].T, comp)\n",
    "null_mu, null_std\n"
   ]
  },
  {
   "cell_type": "code",
   "execution_count": 16,
   "id": "29e72cc0-b00a-4e4b-a972-c581bbb24044",
   "metadata": {
    "execution": {
     "iopub.execute_input": "2023-06-24T07:39:47.286410Z",
     "iopub.status.busy": "2023-06-24T07:39:47.286236Z",
     "iopub.status.idle": "2023-06-24T07:39:47.290492Z",
     "shell.execute_reply": "2023-06-24T07:39:47.289687Z",
     "shell.execute_reply.started": "2023-06-24T07:39:47.286393Z"
    },
    "tags": []
   },
   "outputs": [
    {
     "data": {
      "text/plain": [
       "(27194755,)"
      ]
     },
     "execution_count": 16,
     "metadata": {},
     "output_type": "execute_result"
    }
   ],
   "source": [
    "shuffle_corr.shape"
   ]
  },
  {
   "cell_type": "code",
   "execution_count": null,
   "id": "8c5ab3c7-a366-402f-8a96-1419b37b83e0",
   "metadata": {},
   "outputs": [],
   "source": []
  },
  {
   "cell_type": "code",
   "execution_count": 17,
   "id": "b2f24734-0bfb-478c-acb3-804ab8ac9ba9",
   "metadata": {
    "execution": {
     "iopub.execute_input": "2023-06-24T07:40:11.370189Z",
     "iopub.status.busy": "2023-06-24T07:40:11.369905Z",
     "iopub.status.idle": "2023-06-24T07:40:11.373867Z",
     "shell.execute_reply": "2023-06-24T07:40:11.373260Z",
     "shell.execute_reply.started": "2023-06-24T07:40:11.370168Z"
    },
    "tags": []
   },
   "outputs": [],
   "source": [
    "gene_slop = 5000000\n"
   ]
  },
  {
   "cell_type": "code",
   "execution_count": 18,
   "id": "0c682f1e-9e9e-4351-94f5-8125a7ba43ad",
   "metadata": {
    "execution": {
     "iopub.execute_input": "2023-06-24T07:40:12.637617Z",
     "iopub.status.busy": "2023-06-24T07:40:12.636789Z",
     "iopub.status.idle": "2023-06-24T07:40:12.642245Z",
     "shell.execute_reply": "2023-06-24T07:40:12.641657Z",
     "shell.execute_reply.started": "2023-06-24T07:40:12.637591Z"
    },
    "tags": []
   },
   "outputs": [],
   "source": [
    "binall['pos'] = binall[['start', 'end']].mean(axis=1)"
   ]
  },
  {
   "cell_type": "code",
   "execution_count": 19,
   "id": "71d2056b-cc98-4efb-89ae-e57b12c74d19",
   "metadata": {
    "execution": {
     "iopub.execute_input": "2023-06-24T07:40:16.464544Z",
     "iopub.status.busy": "2023-06-24T07:40:16.464035Z",
     "iopub.status.idle": "2023-06-24T07:40:20.220088Z",
     "shell.execute_reply": "2023-06-24T07:40:20.219486Z",
     "shell.execute_reply.started": "2023-06-24T07:40:16.464518Z"
    },
    "tags": []
   },
   "outputs": [
    {
     "name": "stderr",
     "output_type": "stream",
     "text": [
      "100%|██████████| 1099/1099 [00:03<00:00, 293.25it/s]\n"
     ]
    }
   ],
   "source": [
    "gene_records = []\n",
    "for gene, row in tqdm(gene_meta.iterrows(), total=gene_meta.shape[0]):\n",
    "    gene_rna = expr[[gene]].T\n",
    "    \n",
    "    dmr_chrom = row['chrom']\n",
    "    dmr_start = row['start'] - gene_slop\n",
    "    dmr_end = row['end'] + gene_slop\n",
    "    sel_dmr = (binall['chrom']==dmr_chrom) & (binall['pos'] > dmr_start) & (binall['pos'] < dmr_end)\n",
    "    gene_dmr = comp.loc[sel_dmr]\n",
    "\n",
    "    gene_corr = corr_array(gene_rna, gene_dmr).ravel()\n",
    "    gene_corr = pd.Series(gene_corr, index=gene_dmr.index)\n",
    "\n",
    "    # pvalue = norm.sf(gene_corr.values, null_mu, null_std)\n",
    "    # pvalue[pvalue > 0.5] = 1 - pvalue[pvalue > 0.5]\n",
    "    # pvalue *= 2  # two tailed\n",
    "    # perform multi-test correction and  q-value\n",
    "    # _, q, *_ = fdrcorrection(pvalue)\n",
    "\n",
    "    gene_corr.name = 'corr'\n",
    "    gene_corr = gene_corr.reset_index()\n",
    "    gene_corr['gene'] = gene\n",
    "    # gene_corr[\"q\"] = q\n",
    "    \n",
    "    # minimum filter\n",
    "    # gene_corr = gene_corr[\n",
    "    #     (gene_corr[\"q\"] < min_q) & (gene_corr[\"corr\"].abs() > min_corr)\n",
    "    # ].set_index(\"dmr\")\n",
    "\n",
    "    # gene_records[gene] = gene_corr\n",
    "    gene_records.append(gene_corr)\n",
    "    "
   ]
  },
  {
   "cell_type": "code",
   "execution_count": 20,
   "id": "01ed7e49-c33f-41f8-902c-38dd8d16ae89",
   "metadata": {
    "execution": {
     "iopub.execute_input": "2023-06-24T07:40:25.821618Z",
     "iopub.status.busy": "2023-06-24T07:40:25.821404Z",
     "iopub.status.idle": "2023-06-24T07:40:25.939105Z",
     "shell.execute_reply": "2023-06-24T07:40:25.938580Z",
     "shell.execute_reply.started": "2023-06-24T07:40:25.821599Z"
    },
    "tags": []
   },
   "outputs": [
    {
     "data": {
      "text/html": [
       "<div>\n",
       "<style scoped>\n",
       "    .dataframe tbody tr th:only-of-type {\n",
       "        vertical-align: middle;\n",
       "    }\n",
       "\n",
       "    .dataframe tbody tr th {\n",
       "        vertical-align: top;\n",
       "    }\n",
       "\n",
       "    .dataframe thead th {\n",
       "        text-align: right;\n",
       "    }\n",
       "</style>\n",
       "<table border=\"1\" class=\"dataframe\">\n",
       "  <thead>\n",
       "    <tr style=\"text-align: right;\">\n",
       "      <th></th>\n",
       "      <th>index</th>\n",
       "      <th>corr</th>\n",
       "      <th>gene</th>\n",
       "    </tr>\n",
       "  </thead>\n",
       "  <tbody>\n",
       "    <tr>\n",
       "      <th>0</th>\n",
       "      <td>chr7_381</td>\n",
       "      <td>0.216611</td>\n",
       "      <td>ENSG00000002746.15</td>\n",
       "    </tr>\n",
       "    <tr>\n",
       "      <th>1</th>\n",
       "      <td>chr7_382</td>\n",
       "      <td>0.309620</td>\n",
       "      <td>ENSG00000002746.15</td>\n",
       "    </tr>\n",
       "    <tr>\n",
       "      <th>2</th>\n",
       "      <td>chr7_383</td>\n",
       "      <td>0.413378</td>\n",
       "      <td>ENSG00000002746.15</td>\n",
       "    </tr>\n",
       "    <tr>\n",
       "      <th>3</th>\n",
       "      <td>chr7_384</td>\n",
       "      <td>0.452824</td>\n",
       "      <td>ENSG00000002746.15</td>\n",
       "    </tr>\n",
       "    <tr>\n",
       "      <th>4</th>\n",
       "      <td>chr7_385</td>\n",
       "      <td>0.422503</td>\n",
       "      <td>ENSG00000002746.15</td>\n",
       "    </tr>\n",
       "    <tr>\n",
       "      <th>...</th>\n",
       "      <td>...</td>\n",
       "      <td>...</td>\n",
       "      <td>...</td>\n",
       "    </tr>\n",
       "    <tr>\n",
       "      <th>105394</th>\n",
       "      <td>chr11_859</td>\n",
       "      <td>0.110637</td>\n",
       "      <td>ENSG00000287912.1</td>\n",
       "    </tr>\n",
       "    <tr>\n",
       "      <th>105395</th>\n",
       "      <td>chr11_860</td>\n",
       "      <td>0.011490</td>\n",
       "      <td>ENSG00000287912.1</td>\n",
       "    </tr>\n",
       "    <tr>\n",
       "      <th>105396</th>\n",
       "      <td>chr11_861</td>\n",
       "      <td>0.264604</td>\n",
       "      <td>ENSG00000287912.1</td>\n",
       "    </tr>\n",
       "    <tr>\n",
       "      <th>105397</th>\n",
       "      <td>chr11_862</td>\n",
       "      <td>0.210742</td>\n",
       "      <td>ENSG00000287912.1</td>\n",
       "    </tr>\n",
       "    <tr>\n",
       "      <th>105398</th>\n",
       "      <td>chr11_863</td>\n",
       "      <td>0.257057</td>\n",
       "      <td>ENSG00000287912.1</td>\n",
       "    </tr>\n",
       "  </tbody>\n",
       "</table>\n",
       "<p>105399 rows × 3 columns</p>\n",
       "</div>"
      ],
      "text/plain": [
       "            index      corr                gene\n",
       "0        chr7_381  0.216611  ENSG00000002746.15\n",
       "1        chr7_382  0.309620  ENSG00000002746.15\n",
       "2        chr7_383  0.413378  ENSG00000002746.15\n",
       "3        chr7_384  0.452824  ENSG00000002746.15\n",
       "4        chr7_385  0.422503  ENSG00000002746.15\n",
       "...           ...       ...                 ...\n",
       "105394  chr11_859  0.110637   ENSG00000287912.1\n",
       "105395  chr11_860  0.011490   ENSG00000287912.1\n",
       "105396  chr11_861  0.264604   ENSG00000287912.1\n",
       "105397  chr11_862  0.210742   ENSG00000287912.1\n",
       "105398  chr11_863  0.257057   ENSG00000287912.1\n",
       "\n",
       "[105399 rows x 3 columns]"
      ]
     },
     "execution_count": 20,
     "metadata": {},
     "output_type": "execute_result"
    }
   ],
   "source": [
    "gene_records = pd.concat(gene_records, axis=0)\n",
    "gene_records.index = np.arange(gene_records.shape[0])\n",
    "gene_records"
   ]
  },
  {
   "cell_type": "code",
   "execution_count": 21,
   "id": "746e33d7-3f8d-439b-b55c-d04820092d93",
   "metadata": {
    "execution": {
     "iopub.execute_input": "2023-06-24T07:40:28.388016Z",
     "iopub.status.busy": "2023-06-24T07:40:28.387751Z",
     "iopub.status.idle": "2023-06-24T07:40:28.941505Z",
     "shell.execute_reply": "2023-06-24T07:40:28.940971Z",
     "shell.execute_reply.started": "2023-06-24T07:40:28.387997Z"
    },
    "tags": []
   },
   "outputs": [
    {
     "data": {
      "text/plain": [
       "<AxesSubplot:ylabel='Density'>"
      ]
     },
     "execution_count": 21,
     "metadata": {},
     "output_type": "execute_result"
    },
    {
     "name": "stderr",
     "output_type": "stream",
     "text": [
      "findfont: Font family ['sans-serif'] not found. Falling back to DejaVu Sans.\n",
      "findfont: Generic family 'sans-serif' not found because none of the following families were found: Helvetica\n"
     ]
    },
    {
     "data": {
      "image/png": "[encoded data removed]",
      "text/plain": [
       "<Figure size 432x288 with 1 Axes>"
      ]
     },
     "metadata": {
      "needs_background": "light"
     },
     "output_type": "display_data"
    }
   ],
   "source": [
    "fig, ax = plt.subplots()\n",
    "sns.distplot(np.random.choice(gene_records['corr'], 50000), ax=ax)\n",
    "sns.distplot(np.random.choice(shuffle_corr, 50000), ax=ax)"
   ]
  },
  {
   "cell_type": "code",
   "execution_count": 22,
   "id": "3053da93-b471-4ff3-82cc-48a7d0718458",
   "metadata": {
    "execution": {
     "iopub.execute_input": "2023-06-24T07:40:29.572130Z",
     "iopub.status.busy": "2023-06-24T07:40:29.571910Z",
     "iopub.status.idle": "2023-06-24T07:40:35.487649Z",
     "shell.execute_reply": "2023-06-24T07:40:35.486884Z",
     "shell.execute_reply.started": "2023-06-24T07:40:29.572111Z"
    },
    "tags": []
   },
   "outputs": [],
   "source": [
    "t1 = rankdata(np.concatenate((gene_records['corr'].values, shuffle_corr)))[:gene_records.shape[0]]\n",
    "t2 = rankdata(gene_records['corr'].values)\n"
   ]
  },
  {
   "cell_type": "code",
   "execution_count": 23,
   "id": "01d60012-429a-49bb-b3a3-1b7e4258651e",
   "metadata": {
    "execution": {
     "iopub.execute_input": "2023-06-24T07:40:35.646537Z",
     "iopub.status.busy": "2023-06-24T07:40:35.646357Z",
     "iopub.status.idle": "2023-06-24T07:40:35.651422Z",
     "shell.execute_reply": "2023-06-24T07:40:35.650837Z",
     "shell.execute_reply.started": "2023-06-24T07:40:35.646520Z"
    },
    "tags": []
   },
   "outputs": [],
   "source": [
    "gene_records['FDRneg'] = (t1 - t2) / len(shuffle_corr) / t2 * gene_records.shape[0]\n",
    "gene_records['FDRpos'] = (len(shuffle_corr) - t1 + t2) / len(shuffle_corr) / (gene_records.shape[0] - t2) * gene_records.shape[0]\n"
   ]
  },
  {
   "cell_type": "code",
   "execution_count": 24,
   "id": "e29bf64d-df61-4aa9-b3cb-fbc0ad362717",
   "metadata": {
    "execution": {
     "iopub.execute_input": "2023-06-24T07:40:35.652663Z",
     "iopub.status.busy": "2023-06-24T07:40:35.652477Z",
     "iopub.status.idle": "2023-06-24T07:40:35.657969Z",
     "shell.execute_reply": "2023-06-24T07:40:35.657342Z",
     "shell.execute_reply.started": "2023-06-24T07:40:35.652647Z"
    },
    "tags": []
   },
   "outputs": [
    {
     "name": "stdout",
     "output_type": "stream",
     "text": [
      "0.5029179099915155 -0.6172767127895147\n"
     ]
    }
   ],
   "source": [
    "threspos = gene_records.loc[gene_records['FDRpos']<0.1, 'corr'].min()\n",
    "thresneg = gene_records.loc[gene_records['FDRneg']<0.1, 'corr'].max()\n",
    "print(threspos, thresneg)\n"
   ]
  },
  {
   "cell_type": "code",
   "execution_count": 25,
   "id": "7ffa63b4-fadf-46c4-a525-708637e4a963",
   "metadata": {
    "execution": {
     "iopub.execute_input": "2023-06-24T07:40:38.877837Z",
     "iopub.status.busy": "2023-06-24T07:40:38.877556Z",
     "iopub.status.idle": "2023-06-24T07:40:38.886273Z",
     "shell.execute_reply": "2023-06-24T07:40:38.885742Z",
     "shell.execute_reply.started": "2023-06-24T07:40:38.877816Z"
    },
    "tags": []
   },
   "outputs": [],
   "source": [
    "gene_meta[['TSS', 'TES']] = gene_meta[['start', 'end']]\n",
    "selg = (gene_meta['strand']=='-')\n",
    "gene_meta.loc[selg, ['TSS', 'TES']] = gene_meta.loc[selg, ['TES', 'TSS']].values\n"
   ]
  },
  {
   "cell_type": "code",
   "execution_count": 26,
   "id": "9002a725-fc3b-4676-9480-da431fefd2b7",
   "metadata": {
    "execution": {
     "iopub.execute_input": "2023-06-24T07:40:39.468287Z",
     "iopub.status.busy": "2023-06-24T07:40:39.468083Z",
     "iopub.status.idle": "2023-06-24T07:40:39.574658Z",
     "shell.execute_reply": "2023-06-24T07:40:39.573974Z",
     "shell.execute_reply.started": "2023-06-24T07:40:39.468259Z"
    },
    "tags": []
   },
   "outputs": [],
   "source": [
    "gene_records['TSSdist'] = binall.loc[gene_records['index'], 'pos'].values - gene_meta.loc[gene_records['gene'], 'TSS'].values\n",
    "selg = (gene_meta.loc[gene_records['gene'], 'strand']=='-')\n",
    "gene_records.loc[selg.values, 'TSSdist'] = -gene_records.loc[selg.values, 'TSSdist'].values\n",
    "\n",
    "gene_records['TESdist'] = binall.loc[gene_records['index'], 'pos'].values - gene_meta.loc[gene_records['gene'], 'TES'].values\n",
    "selg = (gene_meta.loc[gene_records['gene'], 'strand']=='-')\n",
    "gene_records.loc[selg.values, 'TESdist'] = -gene_records.loc[selg.values, 'TESdist'].values\n"
   ]
  },
  {
   "cell_type": "code",
   "execution_count": 27,
   "id": "9b29ae8f-5694-4fc4-8314-d8fb024c415e",
   "metadata": {
    "execution": {
     "iopub.execute_input": "2023-06-24T07:40:39.917572Z",
     "iopub.status.busy": "2023-06-24T07:40:39.917382Z",
     "iopub.status.idle": "2023-06-24T07:40:39.928181Z",
     "shell.execute_reply": "2023-06-24T07:40:39.927545Z",
     "shell.execute_reply.started": "2023-06-24T07:40:39.917555Z"
    },
    "tags": []
   },
   "outputs": [],
   "source": [
    "gene_records['coord'] = 0\n",
    "selp = (gene_records['TSSdist']<=0)\n",
    "gene_records.loc[selp, 'coord'] = gene_records.loc[selp, 'TSSdist'] / res * 4 - 100\n",
    "\n",
    "selp = (gene_records['TESdist']>=0)\n",
    "gene_records.loc[selp, 'coord'] = gene_records.loc[selp, 'TESdist'] / res * 4 + 100\n",
    "\n",
    "selp = (gene_records['TESdist']<0) & (gene_records['TSSdist']>0)\n",
    "gene_records.loc[selp, 'coord'] = gene_records.loc[selp, 'TSSdist'] / (gene_records.loc[selp, 'TSSdist'] - gene_records.loc[selp, 'TESdist']) * 200 - 100\n"
   ]
  },
  {
   "cell_type": "code",
   "execution_count": 28,
   "id": "6dda5b96-c2df-437f-903f-2ec152c32d2b",
   "metadata": {
    "execution": {
     "iopub.execute_input": "2023-06-24T07:40:45.286443Z",
     "iopub.status.busy": "2023-06-24T07:40:45.286175Z",
     "iopub.status.idle": "2023-06-24T07:40:45.316610Z",
     "shell.execute_reply": "2023-06-24T07:40:45.316009Z",
     "shell.execute_reply.started": "2023-06-24T07:40:45.286424Z"
    },
    "tags": []
   },
   "outputs": [],
   "source": [
    "gene_records.to_hdf(f'{outdir}DEG_neu_comp_5M_corr.hdf', key='data')"
   ]
  },
  {
   "cell_type": "code",
   "execution_count": 5,
   "id": "ac1227dc-f52e-4702-b45b-4256b880feef",
   "metadata": {
    "execution": {
     "iopub.execute_input": "2023-05-26T05:33:01.431675Z",
     "iopub.status.busy": "2023-05-26T05:33:01.430677Z",
     "iopub.status.idle": "2023-05-26T05:33:02.178446Z",
     "shell.execute_reply": "2023-05-26T05:33:02.177737Z",
     "shell.execute_reply.started": "2023-05-26T05:33:01.431637Z"
    },
    "tags": []
   },
   "outputs": [],
   "source": [
    "gene_records = pd.read_hdf(f'{outdir}DEG_neu_comp_5M_corr.hdf', key='data')"
   ]
  },
  {
   "cell_type": "code",
   "execution_count": 29,
   "id": "39c092b6-7c64-4365-af02-4c0008c2ec1f",
   "metadata": {
    "execution": {
     "iopub.execute_input": "2023-06-24T07:40:52.491433Z",
     "iopub.status.busy": "2023-06-24T07:40:52.491176Z",
     "iopub.status.idle": "2023-06-24T07:40:52.502763Z",
     "shell.execute_reply": "2023-06-24T07:40:52.502176Z",
     "shell.execute_reply.started": "2023-06-24T07:40:52.491414Z"
    },
    "tags": []
   },
   "outputs": [],
   "source": [
    "thres = np.max(np.abs([thresneg, threspos]))\n",
    "gene_records['group'] = gene_records['coord']//2\n",
    "proppos = (gene_records.loc[gene_records['corr']>thres, 'group'].value_counts() / gene_records['group'].value_counts()).sort_index().fillna(0)\n",
    "propneg = (gene_records.loc[gene_records['corr']<-thres, 'group'].value_counts() / gene_records['group'].value_counts()).sort_index().fillna(0)\n"
   ]
  },
  {
   "cell_type": "code",
   "execution_count": 30,
   "id": "d934f41c-fd16-42b3-8d08-3f0c8bfd8009",
   "metadata": {
    "execution": {
     "iopub.execute_input": "2023-06-24T07:40:55.573615Z",
     "iopub.status.busy": "2023-06-24T07:40:55.573370Z",
     "iopub.status.idle": "2023-06-24T07:40:55.688181Z",
     "shell.execute_reply": "2023-06-24T07:40:55.687630Z",
     "shell.execute_reply.started": "2023-06-24T07:40:55.573597Z"
    },
    "tags": []
   },
   "outputs": [
    {
     "data": {
      "image/png": "[encoded data removed]",
      "text/plain": [
       "<Figure size 900x450 with 1 Axes>"
      ]
     },
     "metadata": {
      "needs_background": "light"
     },
     "output_type": "display_data"
    }
   ],
   "source": [
    "fig, ax = plt.subplots(figsize=(3, 1.5), dpi=300)\n",
    "ax.plot(np.arange(300), proppos, c='C0', label='Pos')\n",
    "ax.plot(np.arange(300), propneg, c='C1', label='Neg')\n",
    "ax.set_xticks([0, 100, 200, 300])\n",
    "ax.set_xticklabels(['-5M', 'TSS', 'TES', '+5M'])\n",
    "ax.legend()\n",
    "plt.tight_layout()\n",
    "# plt.savefig('proportion_corr_comp.pdf', transparent=True)\n"
   ]
  },
  {
   "cell_type": "code",
   "execution_count": 31,
   "id": "d8424f4e-32b0-4453-91a4-c084cda5a10f",
   "metadata": {
    "execution": {
     "iopub.execute_input": "2023-06-24T07:41:03.721721Z",
     "iopub.status.busy": "2023-06-24T07:41:03.721334Z",
     "iopub.status.idle": "2023-06-24T07:41:03.775363Z",
     "shell.execute_reply": "2023-06-24T07:41:03.769117Z",
     "shell.execute_reply.started": "2023-06-24T07:41:03.721689Z"
    },
    "tags": []
   },
   "outputs": [
    {
     "name": "stdout",
     "output_type": "stream",
     "text": [
      "450 0.4094631483166515\n",
      "12 0.01091901728844404\n",
      "462 0.42038216560509556\n"
     ]
    }
   ],
   "source": [
    "tmp = gene_records.loc[(gene_records['corr']>thres) & (gene_records['TSSdist']>-res) & (gene_records['TESdist']<res), 'gene'].unique()\n",
    "print(tmp.shape[0], tmp.shape[0]/gene_records['gene'].unique().shape[0])\n",
    "np.savetxt(f'{outdir}gene_compposcorr_genebody.csv.gz', tmp, delimiter='\\n', fmt='%s')\n",
    "\n",
    "tmp = gene_records.loc[(gene_records['corr']<-thres) & (gene_records['TSSdist']>-res) & (gene_records['TESdist']<res), 'gene'].unique()\n",
    "print(tmp.shape[0], tmp.shape[0]/gene_records['gene'].unique().shape[0])\n",
    "\n",
    "tmp = gene_records.loc[(gene_records['corr'].abs()>thres) & (gene_records['TSSdist']>-res) & (gene_records['TESdist']<res), 'gene'].unique()\n",
    "print(tmp.shape[0], tmp.shape[0]/gene_records['gene'].unique().shape[0])\n"
   ]
  },
  {
   "cell_type": "code",
   "execution_count": 33,
   "id": "29f512eb-ee58-4af2-91cd-db8670b22f7e",
   "metadata": {
    "execution": {
     "iopub.execute_input": "2023-06-24T07:41:19.019086Z",
     "iopub.status.busy": "2023-06-24T07:41:19.018821Z",
     "iopub.status.idle": "2023-06-24T07:41:19.362754Z",
     "shell.execute_reply": "2023-06-24T07:41:19.362127Z",
     "shell.execute_reply.started": "2023-06-24T07:41:19.019067Z"
    },
    "tags": []
   },
   "outputs": [
    {
     "data": {
      "text/plain": [
       "[Text(-300, 0, '-5M'),\n",
       " Text(-100, 0, 'TSS'),\n",
       " Text(100, 0, 'TES'),\n",
       " Text(300, 0, '+5M')]"
      ]
     },
     "execution_count": 33,
     "metadata": {},
     "output_type": "execute_result"
    },
    {
     "data": {
      "image/png": "[encoded data removed]",
      "text/plain": [
       "<Figure size 900x900 with 4 Axes>"
      ]
     },
     "metadata": {
      "needs_background": "light"
     },
     "output_type": "display_data"
    }
   ],
   "source": [
    "fig, axes = plt.subplots(2, 1, sharex='all', figsize=(3,3), dpi=300)\n",
    "ax = axes[0]\n",
    "tmp = gene_records.loc[gene_records['corr']>thres]\n",
    "sns.histplot(data=tmp, x='coord', y='corr', bins=300, ax=ax, cbar=True, cbar_kws=dict(ticks=[0,4], fraction=0.2, shrink=0.5))\n",
    "ax.set_yticks(np.arange(0.6, 1.05, 0.1))\n",
    "\n",
    "ax = axes[1]\n",
    "tmp = gene_records.loc[gene_records['corr']<-thres]\n",
    "# tmp = gene_records.loc[gene_records['corr']<-threspos]\n",
    "sns.histplot(data=tmp, x='coord', y='corr', bins=300, ax=ax, cbar=True, cbar_kws=dict(ticks=[0,3], fraction=0.2, shrink=0.5))\n",
    "# ax.set_yticks([-0.6, -0.7, -0.8, -0.9])\n",
    "ax.set_yticks(np.arange(-1.0, -0.55, 0.1))\n",
    "\n",
    "ax.set_xticks([-300, -100, 100, 300])\n",
    "ax.set_xticklabels(['-5M', 'TSS', 'TES', '+5M'])\n",
    "\n",
    "# plt.savefig('DEG_comp_sigcorr.pdf', transparent=True)\n"
   ]
  },
  {
   "cell_type": "code",
   "execution_count": null,
   "id": "5d7370ab-103b-4d85-a058-047b5c8d8258",
   "metadata": {},
   "outputs": [],
   "source": []
  }
 ],
 "metadata": {
  "kernelspec": {
   "display_name": "Python 3 (ipykernel)",
   "language": "python",
   "name": "python3"
  },
  "language_info": {
   "codemirror_mode": {
    "name": "ipython",
    "version": 3
   },
   "file_extension": ".py",
   "mimetype": "text/x-python",
   "name": "python",
   "nbconvert_exporter": "python",
   "pygments_lexer": "ipython3",
   "version": "3.7.12"
  }
 },
 "nbformat": 4,
 "nbformat_minor": 5
}
