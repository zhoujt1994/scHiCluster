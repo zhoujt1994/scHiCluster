{
 "cells": [
  {
   "cell_type": "markdown",
   "id": "711859c0-73bb-466c-91d6-2250b46604b3",
   "metadata": {},
   "source": [
    "# RNA correlated boundary"
   ]
  },
  {
   "cell_type": "code",
   "execution_count": 1,
   "id": "b7d43d83-9ed4-4858-8a1a-5a3af2562c9c",
   "metadata": {
    "execution": {
     "iopub.execute_input": "2023-06-24T07:31:35.377378Z",
     "iopub.status.busy": "2023-06-24T07:31:35.377129Z",
     "iopub.status.idle": "2023-06-24T07:31:36.725635Z",
     "shell.execute_reply": "2023-06-24T07:31:36.724837Z",
     "shell.execute_reply.started": "2023-06-24T07:31:35.377359Z"
    },
    "tags": []
   },
   "outputs": [],
   "source": [
    "import numpy as np\n",
    "import pandas as pd\n",
    "import cooler\n",
    "import anndata\n",
    "import scanpy as sc\n",
    "import matplotlib as mpl\n",
    "import matplotlib.pyplot as plt\n",
    "from matplotlib.colors import LogNorm\n",
    "from matplotlib import cm as cm\n",
    "import seaborn as sns\n",
    "\n",
    "mpl.style.use('default')\n",
    "mpl.rcParams['pdf.fonttype'] = 42\n",
    "mpl.rcParams['ps.fonttype'] = 42\n",
    "mpl.rcParams['font.family'] = 'sans-serif'\n",
    "mpl.rcParams['font.sans-serif'] = 'Helvetica'\n"
   ]
  },
  {
   "cell_type": "code",
   "execution_count": 2,
   "id": "68f9e975-0696-405a-8c59-cdae9a279069",
   "metadata": {
    "execution": {
     "iopub.execute_input": "2023-06-24T07:31:41.722299Z",
     "iopub.status.busy": "2023-06-24T07:31:41.722040Z",
     "iopub.status.idle": "2023-06-24T07:31:41.725927Z",
     "shell.execute_reply": "2023-06-24T07:31:41.725187Z",
     "shell.execute_reply.started": "2023-06-24T07:31:41.722272Z"
    },
    "tags": []
   },
   "outputs": [],
   "source": [
    "indir = '/data/hba/domain_majortype/'\n",
    "outdir = '/home/jzhou_salk_edu/sky_workdir/hba/rna_majortype/'"
   ]
  },
  {
   "cell_type": "code",
   "execution_count": 4,
   "id": "d842f034-2e5c-407c-a905-e8a18109cce9",
   "metadata": {
    "execution": {
     "iopub.execute_input": "2023-06-24T07:31:47.465839Z",
     "iopub.status.busy": "2023-06-24T07:31:47.465588Z",
     "iopub.status.idle": "2023-06-24T07:31:47.469753Z",
     "shell.execute_reply": "2023-06-24T07:31:47.469120Z",
     "shell.execute_reply.started": "2023-06-24T07:31:47.465820Z"
    },
    "tags": []
   },
   "outputs": [],
   "source": [
    "# no L5ET\n",
    "leg = ['L23_IT', 'L4_IT', 'L5_IT', 'L6_IT', 'L6_IT_Car3', 'L56_NP', 'L6_CT', 'L6b', 'Amy', \n",
    "       'Lamp5', 'Lamp5_LHX6', 'Sncg', 'Vip', 'Pvalb', 'Pvalb_ChC', 'Sst', 'CHD7', \n",
    "       'MSN_D1', 'MSN_D2', 'Foxp2', 'SubCtx', \n",
    "       # 'ASC', 'ODC', 'OPC', 'MGC', 'PC', 'EC', 'VLMC'\n",
    "      ]\n",
    "res = 25000\n"
   ]
  },
  {
   "cell_type": "code",
   "execution_count": 5,
   "id": "61a535c1-4448-4ebe-89cd-6840211ca072",
   "metadata": {
    "execution": {
     "iopub.execute_input": "2023-06-24T07:32:17.035597Z",
     "iopub.status.busy": "2023-06-24T07:32:17.035326Z",
     "iopub.status.idle": "2023-06-24T07:32:18.535482Z",
     "shell.execute_reply": "2023-06-24T07:32:18.534745Z",
     "shell.execute_reply.started": "2023-06-24T07:32:17.035574Z"
    },
    "tags": []
   },
   "outputs": [],
   "source": [
    "bound_count_ct = pd.read_hdf(f'{indir}MajorType_boundcount.hdf')\n",
    "cell_count_ct = pd.read_csv(f'{indir}MajorType_cellcount.csv.gz', header=0, index_col=0)['count_cell']"
   ]
  },
  {
   "cell_type": "code",
   "execution_count": 6,
   "id": "04a8c48a-c2c5-474b-b528-72212ec049b0",
   "metadata": {
    "execution": {
     "iopub.execute_input": "2023-06-24T07:32:22.626887Z",
     "iopub.status.busy": "2023-06-24T07:32:22.626710Z",
     "iopub.status.idle": "2023-06-24T07:32:22.644925Z",
     "shell.execute_reply": "2023-06-24T07:32:22.644222Z",
     "shell.execute_reply.started": "2023-06-24T07:32:22.626869Z"
    },
    "tags": []
   },
   "outputs": [],
   "source": [
    "bound_prob_ct = bound_count_ct.loc[leg] / cell_count_ct.loc[leg][:, None]\n"
   ]
  },
  {
   "cell_type": "code",
   "execution_count": 7,
   "id": "93685311-0fd1-46cd-a887-9edd426b799e",
   "metadata": {
    "execution": {
     "iopub.execute_input": "2023-06-24T07:32:31.832167Z",
     "iopub.status.busy": "2023-06-24T07:32:31.831874Z",
     "iopub.status.idle": "2023-06-24T07:32:31.874015Z",
     "shell.execute_reply": "2023-06-24T07:32:31.873383Z",
     "shell.execute_reply.started": "2023-06-24T07:32:31.832148Z"
    },
    "tags": []
   },
   "outputs": [],
   "source": [
    "expr = pd.read_hdf('/home/jzhou_salk_edu/sky_workdir/hba/rna_majortype/cluster_expr.hdf').loc[leg]\n"
   ]
  },
  {
   "cell_type": "code",
   "execution_count": 8,
   "id": "bbae0874-85ea-4dc0-beaf-c82c04e35d5a",
   "metadata": {
    "ExecuteTime": {
     "end_time": "2022-09-25T09:00:31.484241Z",
     "start_time": "2022-09-25T09:00:28.908273Z"
    },
    "execution": {
     "iopub.execute_input": "2023-06-24T07:32:33.828862Z",
     "iopub.status.busy": "2023-06-24T07:32:33.828670Z",
     "iopub.status.idle": "2023-06-24T07:32:34.280642Z",
     "shell.execute_reply": "2023-06-24T07:32:34.279894Z",
     "shell.execute_reply.started": "2023-06-24T07:32:33.828844Z"
    },
    "tags": []
   },
   "outputs": [
    {
     "name": "stdout",
     "output_type": "stream",
     "text": [
      "1131.0\n"
     ]
    }
   ],
   "source": [
    "from scipy.stats import rankdata\n",
    "\n",
    "deg = np.zeros(expr.shape[1])\n",
    "for i in range(len(leg)-1):\n",
    "    for j in range(i+1, len(leg)):\n",
    "        tmp = np.load(f'/home/jzhou_salk_edu/sky_workdir/hba/rna_majortype/DEG/{leg[i]}-{leg[j]}.npz')\n",
    "        # deg[np.logical_and(np.abs(tmp['fc'])>1, tmp['fdr']<1e-3)] = 1\n",
    "        rank = rankdata(tmp['fdr'])\n",
    "        deg[rank<=100] = 1\n",
    "\n",
    "print(deg.sum())\n"
   ]
  },
  {
   "cell_type": "code",
   "execution_count": 11,
   "id": "51709670-c4de-4efa-bdf6-b5f5b43a561d",
   "metadata": {
    "execution": {
     "iopub.execute_input": "2023-06-24T07:32:55.774616Z",
     "iopub.status.busy": "2023-06-24T07:32:55.774406Z",
     "iopub.status.idle": "2023-06-24T07:32:55.850395Z",
     "shell.execute_reply": "2023-06-24T07:32:55.849682Z",
     "shell.execute_reply.started": "2023-06-24T07:32:55.774596Z"
    },
    "tags": []
   },
   "outputs": [],
   "source": [
    "chrom_size_path = f'/data/hba/loop_majortype/hg38_with_chrl.main.chrom.sizes'\n",
    "chrom_sizes = cooler.read_chromsizes(chrom_size_path, all_names=True)\n"
   ]
  },
  {
   "cell_type": "code",
   "execution_count": 19,
   "id": "4d785b57-4e8b-439e-aba0-f54f711ccde5",
   "metadata": {
    "execution": {
     "iopub.execute_input": "2023-06-24T07:34:35.973003Z",
     "iopub.status.busy": "2023-06-24T07:34:35.972731Z",
     "iopub.status.idle": "2023-06-24T07:34:36.037569Z",
     "shell.execute_reply": "2023-06-24T07:34:36.036898Z",
     "shell.execute_reply.started": "2023-06-24T07:34:35.972984Z"
    },
    "tags": []
   },
   "outputs": [
    {
     "data": {
      "text/html": [
       "<div>\n",
       "<style scoped>\n",
       "    .dataframe tbody tr th:only-of-type {\n",
       "        vertical-align: middle;\n",
       "    }\n",
       "\n",
       "    .dataframe tbody tr th {\n",
       "        vertical-align: top;\n",
       "    }\n",
       "\n",
       "    .dataframe thead th {\n",
       "        text-align: right;\n",
       "    }\n",
       "</style>\n",
       "<table border=\"1\" class=\"dataframe\">\n",
       "  <thead>\n",
       "    <tr style=\"text-align: right;\">\n",
       "      <th></th>\n",
       "      <th>chrom</th>\n",
       "      <th>start</th>\n",
       "      <th>end</th>\n",
       "      <th>gene_name</th>\n",
       "      <th>strand</th>\n",
       "    </tr>\n",
       "    <tr>\n",
       "      <th>gene</th>\n",
       "      <th></th>\n",
       "      <th></th>\n",
       "      <th></th>\n",
       "      <th></th>\n",
       "      <th></th>\n",
       "    </tr>\n",
       "  </thead>\n",
       "  <tbody>\n",
       "    <tr>\n",
       "      <th>ENSG00000002746.15</th>\n",
       "      <td>chr7</td>\n",
       "      <td>43112629</td>\n",
       "      <td>43566001</td>\n",
       "      <td>HECW1</td>\n",
       "      <td>+</td>\n",
       "    </tr>\n",
       "    <tr>\n",
       "      <th>ENSG00000005108.16</th>\n",
       "      <td>chr7</td>\n",
       "      <td>11370365</td>\n",
       "      <td>11832198</td>\n",
       "      <td>THSD7A</td>\n",
       "      <td>-</td>\n",
       "    </tr>\n",
       "    <tr>\n",
       "      <th>ENSG00000006128.12</th>\n",
       "      <td>chr7</td>\n",
       "      <td>97732084</td>\n",
       "      <td>97740472</td>\n",
       "      <td>TAC1</td>\n",
       "      <td>+</td>\n",
       "    </tr>\n",
       "    <tr>\n",
       "      <th>ENSG00000006468.14</th>\n",
       "      <td>chr7</td>\n",
       "      <td>13891229</td>\n",
       "      <td>13991425</td>\n",
       "      <td>ETV1</td>\n",
       "      <td>-</td>\n",
       "    </tr>\n",
       "    <tr>\n",
       "      <th>ENSG00000007237.18</th>\n",
       "      <td>chr17</td>\n",
       "      <td>9910609</td>\n",
       "      <td>10198551</td>\n",
       "      <td>AC005747.1</td>\n",
       "      <td>-</td>\n",
       "    </tr>\n",
       "    <tr>\n",
       "      <th>...</th>\n",
       "      <td>...</td>\n",
       "      <td>...</td>\n",
       "      <td>...</td>\n",
       "      <td>...</td>\n",
       "      <td>...</td>\n",
       "    </tr>\n",
       "    <tr>\n",
       "      <th>ENSG00000286954.1</th>\n",
       "      <td>chr6</td>\n",
       "      <td>22663507</td>\n",
       "      <td>22675493</td>\n",
       "      <td>AL033539.2</td>\n",
       "      <td>+</td>\n",
       "    </tr>\n",
       "    <tr>\n",
       "      <th>ENSG00000287172.1</th>\n",
       "      <td>chr2</td>\n",
       "      <td>76185020</td>\n",
       "      <td>76399490</td>\n",
       "      <td>AC073091.3</td>\n",
       "      <td>+</td>\n",
       "    </tr>\n",
       "    <tr>\n",
       "      <th>ENSG00000287694.1</th>\n",
       "      <td>chr16</td>\n",
       "      <td>76277288</td>\n",
       "      <td>76819624</td>\n",
       "      <td>AC106741.2</td>\n",
       "      <td>+</td>\n",
       "    </tr>\n",
       "    <tr>\n",
       "      <th>ENSG00000287722.1</th>\n",
       "      <td>chr13</td>\n",
       "      <td>53207831</td>\n",
       "      <td>53801489</td>\n",
       "      <td>AL356295.1</td>\n",
       "      <td>+</td>\n",
       "    </tr>\n",
       "    <tr>\n",
       "      <th>ENSG00000287912.1</th>\n",
       "      <td>chr11</td>\n",
       "      <td>81175201</td>\n",
       "      <td>81431520</td>\n",
       "      <td>AP003464.1</td>\n",
       "      <td>+</td>\n",
       "    </tr>\n",
       "  </tbody>\n",
       "</table>\n",
       "<p>1099 rows × 5 columns</p>\n",
       "</div>"
      ],
      "text/plain": [
       "                    chrom     start       end   gene_name strand\n",
       "gene                                                            \n",
       "ENSG00000002746.15   chr7  43112629  43566001       HECW1      +\n",
       "ENSG00000005108.16   chr7  11370365  11832198      THSD7A      -\n",
       "ENSG00000006128.12   chr7  97732084  97740472        TAC1      +\n",
       "ENSG00000006468.14   chr7  13891229  13991425        ETV1      -\n",
       "ENSG00000007237.18  chr17   9910609  10198551  AC005747.1      -\n",
       "...                   ...       ...       ...         ...    ...\n",
       "ENSG00000286954.1    chr6  22663507  22675493  AL033539.2      +\n",
       "ENSG00000287172.1    chr2  76185020  76399490  AC073091.3      +\n",
       "ENSG00000287694.1   chr16  76277288  76819624  AC106741.2      +\n",
       "ENSG00000287722.1   chr13  53207831  53801489  AL356295.1      +\n",
       "ENSG00000287912.1   chr11  81175201  81431520  AP003464.1      +\n",
       "\n",
       "[1099 rows x 5 columns]"
      ]
     },
     "execution_count": 19,
     "metadata": {},
     "output_type": "execute_result"
    }
   ],
   "source": [
    "gene_meta = pd.read_csv('/home/jzhou_salk_edu/sky_workdir/hba/ref/gencode.v33.bed', sep='\\t', index_col=None, header=None)\n",
    "gene_meta.columns = ['chrom', 'start', 'end', 'gene_id', 'gene_name', 'strand']\n",
    "gene_meta = gene_meta.set_index('gene_id').loc[expr.columns[deg==1]]\n",
    "gene_meta = gene_meta.loc[gene_meta['chrom'].isin(chrom_sizes.index[:22])]\n",
    "gene_meta"
   ]
  },
  {
   "cell_type": "code",
   "execution_count": 9,
   "id": "52f5f94a-70bb-437f-bd6d-b4d0442344ad",
   "metadata": {
    "execution": {
     "iopub.execute_input": "2023-06-24T07:32:34.281612Z",
     "iopub.status.busy": "2023-06-24T07:32:34.281429Z",
     "iopub.status.idle": "2023-06-24T07:32:34.461894Z",
     "shell.execute_reply": "2023-06-24T07:32:34.461110Z",
     "shell.execute_reply.started": "2023-06-24T07:32:34.281596Z"
    },
    "tags": []
   },
   "outputs": [
    {
     "data": {
      "text/html": [
       "<div>\n",
       "<style scoped>\n",
       "    .dataframe tbody tr th:only-of-type {\n",
       "        vertical-align: middle;\n",
       "    }\n",
       "\n",
       "    .dataframe tbody tr th {\n",
       "        vertical-align: top;\n",
       "    }\n",
       "\n",
       "    .dataframe thead th {\n",
       "        text-align: right;\n",
       "    }\n",
       "</style>\n",
       "<table border=\"1\" class=\"dataframe\">\n",
       "  <thead>\n",
       "    <tr style=\"text-align: right;\">\n",
       "      <th></th>\n",
       "      <th>chrom</th>\n",
       "      <th>start</th>\n",
       "      <th>end</th>\n",
       "    </tr>\n",
       "  </thead>\n",
       "  <tbody>\n",
       "    <tr>\n",
       "      <th>chr1_0</th>\n",
       "      <td>chr1</td>\n",
       "      <td>0</td>\n",
       "      <td>25000</td>\n",
       "    </tr>\n",
       "    <tr>\n",
       "      <th>chr1_1</th>\n",
       "      <td>chr1</td>\n",
       "      <td>25000</td>\n",
       "      <td>50000</td>\n",
       "    </tr>\n",
       "    <tr>\n",
       "      <th>chr1_2</th>\n",
       "      <td>chr1</td>\n",
       "      <td>50000</td>\n",
       "      <td>75000</td>\n",
       "    </tr>\n",
       "    <tr>\n",
       "      <th>chr1_3</th>\n",
       "      <td>chr1</td>\n",
       "      <td>75000</td>\n",
       "      <td>100000</td>\n",
       "    </tr>\n",
       "    <tr>\n",
       "      <th>chr1_4</th>\n",
       "      <td>chr1</td>\n",
       "      <td>100000</td>\n",
       "      <td>125000</td>\n",
       "    </tr>\n",
       "    <tr>\n",
       "      <th>...</th>\n",
       "      <td>...</td>\n",
       "      <td>...</td>\n",
       "      <td>...</td>\n",
       "    </tr>\n",
       "    <tr>\n",
       "      <th>chr22_2028</th>\n",
       "      <td>chr22</td>\n",
       "      <td>50700000</td>\n",
       "      <td>50725000</td>\n",
       "    </tr>\n",
       "    <tr>\n",
       "      <th>chr22_2029</th>\n",
       "      <td>chr22</td>\n",
       "      <td>50725000</td>\n",
       "      <td>50750000</td>\n",
       "    </tr>\n",
       "    <tr>\n",
       "      <th>chr22_2030</th>\n",
       "      <td>chr22</td>\n",
       "      <td>50750000</td>\n",
       "      <td>50775000</td>\n",
       "    </tr>\n",
       "    <tr>\n",
       "      <th>chr22_2031</th>\n",
       "      <td>chr22</td>\n",
       "      <td>50775000</td>\n",
       "      <td>50800000</td>\n",
       "    </tr>\n",
       "    <tr>\n",
       "      <th>chr22_2032</th>\n",
       "      <td>chr22</td>\n",
       "      <td>50800000</td>\n",
       "      <td>50825000</td>\n",
       "    </tr>\n",
       "  </tbody>\n",
       "</table>\n",
       "<p>115009 rows × 3 columns</p>\n",
       "</div>"
      ],
      "text/plain": [
       "            chrom     start       end\n",
       "chr1_0       chr1         0     25000\n",
       "chr1_1       chr1     25000     50000\n",
       "chr1_2       chr1     50000     75000\n",
       "chr1_3       chr1     75000    100000\n",
       "chr1_4       chr1    100000    125000\n",
       "...           ...       ...       ...\n",
       "chr22_2028  chr22  50700000  50725000\n",
       "chr22_2029  chr22  50725000  50750000\n",
       "chr22_2030  chr22  50750000  50775000\n",
       "chr22_2031  chr22  50775000  50800000\n",
       "chr22_2032  chr22  50800000  50825000\n",
       "\n",
       "[115009 rows x 3 columns]"
      ]
     },
     "execution_count": 9,
     "metadata": {},
     "output_type": "execute_result"
    }
   ],
   "source": [
    "binall = pd.DataFrame(index=bound_count_ct.columns)\n",
    "binall['chrom'] = binall.index.str.split('_').str[0]\n",
    "binall['start'] = binall.index.str.split('_').str[1].astype(int) * res\n",
    "binall['end'] = binall['start'] + res\n",
    "binall"
   ]
  },
  {
   "cell_type": "code",
   "execution_count": 10,
   "id": "0389d1ea-0b77-4e1a-8a38-973a3ee3f330",
   "metadata": {
    "execution": {
     "iopub.execute_input": "2023-06-24T07:32:54.839705Z",
     "iopub.status.busy": "2023-06-24T07:32:54.839450Z",
     "iopub.status.idle": "2023-06-24T07:32:55.773016Z",
     "shell.execute_reply": "2023-06-24T07:32:55.772169Z",
     "shell.execute_reply.started": "2023-06-24T07:32:54.839686Z"
    },
    "tags": []
   },
   "outputs": [],
   "source": [
    "import joblib\n",
    "# from qnorm import quantile_normalize\n",
    "from scipy.stats import norm\n",
    "from statsmodels.sandbox.stats.multicomp import multipletests as FDR\n",
    "from tqdm import tqdm\n",
    "from ALLCools.mcds.correlation import corr_array\n"
   ]
  },
  {
   "cell_type": "code",
   "execution_count": 13,
   "id": "c021f6ac-df27-4a76-9c99-9eb816872b08",
   "metadata": {
    "execution": {
     "iopub.execute_input": "2023-06-24T07:33:53.271667Z",
     "iopub.status.busy": "2023-06-24T07:33:53.271404Z",
     "iopub.status.idle": "2023-06-24T07:33:53.857758Z",
     "shell.execute_reply": "2023-06-24T07:33:53.857060Z",
     "shell.execute_reply.started": "2023-06-24T07:33:53.271648Z"
    },
    "tags": []
   },
   "outputs": [
    {
     "name": "stdout",
     "output_type": "stream",
     "text": [
      "100643\n"
     ]
    }
   ],
   "source": [
    "bkl = pd.read_csv(f'/data/hba/loop_majortype/M1C.rowsumpb1000.blf50.merged.bed', sep='\\t', header=None, index_col=None)\n",
    "binall['bklfilter'] = True\n",
    "for c in chrom_sizes.index[:-1]:\n",
    "    chrfilter = (binall['chrom']==c)\n",
    "    tmp = binall.loc[chrfilter]\n",
    "    tmp.iloc[:10, -1] = False\n",
    "    tmp.iloc[-10:, -1] = False\n",
    "    for xx,yy in bkl.loc[bkl[0]==c, [1,2]].values // res:\n",
    "        tmp.iloc[max([0,xx-2]):(yy+2), -1] = False\n",
    "    binall.loc[chrfilter] = tmp.copy()\n",
    "\n",
    "print(binall['bklfilter'].sum())\n"
   ]
  },
  {
   "cell_type": "code",
   "execution_count": 14,
   "id": "6e0a618f-4aa1-4912-ac20-ea98f14645cf",
   "metadata": {
    "execution": {
     "iopub.execute_input": "2023-06-24T07:33:56.066168Z",
     "iopub.status.busy": "2023-06-24T07:33:56.065931Z",
     "iopub.status.idle": "2023-06-24T07:33:56.158458Z",
     "shell.execute_reply": "2023-06-24T07:33:56.157855Z",
     "shell.execute_reply.started": "2023-06-24T07:33:56.066150Z"
    },
    "tags": []
   },
   "outputs": [],
   "source": [
    "bound_prob_ct = bound_prob_ct.loc[:, binall['bklfilter']]\n",
    "binall = binall.loc[binall['bklfilter']]\n"
   ]
  },
  {
   "cell_type": "code",
   "execution_count": 15,
   "id": "636956e1-684f-49d6-a346-b82317a0375c",
   "metadata": {
    "execution": {
     "iopub.execute_input": "2023-06-24T07:34:00.278519Z",
     "iopub.status.busy": "2023-06-24T07:34:00.278336Z",
     "iopub.status.idle": "2023-06-24T07:34:00.283628Z",
     "shell.execute_reply": "2023-06-24T07:34:00.282992Z",
     "shell.execute_reply.started": "2023-06-24T07:34:00.278502Z"
    },
    "tags": []
   },
   "outputs": [],
   "source": [
    "def shuffle_corr_norm(rna_data, dmr_data):\n",
    "    \n",
    "    shuffle_rna_data = rna_data.copy()\n",
    "    for col, data in shuffle_rna_data.items():\n",
    "        n_gene = shuffle_rna_data.shape[0]\n",
    "        shuffle_rna_data[col] = shuffle_rna_data[col].sample(n_gene).values\n",
    "    \n",
    "    if dmr_data.shape[0] > 50000:\n",
    "        shuffle_dmr_data = dmr_data.sample(50000).copy()\n",
    "    else:\n",
    "        shuffle_dmr_data = dmr_data.copy()\n",
    "    for col, data in shuffle_dmr_data.items():\n",
    "        n_dmr = shuffle_dmr_data.shape[0]\n",
    "        shuffle_dmr_data[col] = shuffle_dmr_data[col].sample(n_dmr).values\n",
    "\n",
    "    # shuffle corr\n",
    "    shuffle_corr = corr_array(shuffle_rna_data, shuffle_dmr_data)\n",
    "    mu, std = norm.fit(shuffle_corr.ravel())\n",
    "    return mu, std, shuffle_corr.ravel()\n"
   ]
  },
  {
   "cell_type": "code",
   "execution_count": 16,
   "id": "71bfba00-1755-4ded-be2b-f14f2ebbf81c",
   "metadata": {
    "execution": {
     "iopub.execute_input": "2023-06-24T07:34:11.217123Z",
     "iopub.status.busy": "2023-06-24T07:34:11.216849Z",
     "iopub.status.idle": "2023-06-24T07:34:20.129440Z",
     "shell.execute_reply": "2023-06-24T07:34:20.128773Z",
     "shell.execute_reply.started": "2023-06-24T07:34:11.217103Z"
    },
    "tags": []
   },
   "outputs": [
    {
     "data": {
      "text/plain": [
       "(0.0019941576523659988, 0.2235632728434467)"
      ]
     },
     "execution_count": 16,
     "metadata": {},
     "output_type": "execute_result"
    }
   ],
   "source": [
    "null_mu, null_std, shuffle_corr = shuffle_corr_norm(expr.loc[:,  expr.columns.isin(gene_meta.index)].T, bound_prob_ct.T)\n",
    "null_mu, null_std\n"
   ]
  },
  {
   "cell_type": "code",
   "execution_count": 17,
   "id": "29e72cc0-b00a-4e4b-a972-c581bbb24044",
   "metadata": {
    "execution": {
     "iopub.execute_input": "2023-06-24T07:34:21.443530Z",
     "iopub.status.busy": "2023-06-24T07:34:21.443329Z",
     "iopub.status.idle": "2023-06-24T07:34:21.447685Z",
     "shell.execute_reply": "2023-06-24T07:34:21.447105Z",
     "shell.execute_reply.started": "2023-06-24T07:34:21.443512Z"
    },
    "tags": []
   },
   "outputs": [
    {
     "data": {
      "text/plain": [
       "(54950000,)"
      ]
     },
     "execution_count": 17,
     "metadata": {},
     "output_type": "execute_result"
    }
   ],
   "source": [
    "shuffle_corr.shape"
   ]
  },
  {
   "cell_type": "code",
   "execution_count": null,
   "id": "8c5ab3c7-a366-402f-8a96-1419b37b83e0",
   "metadata": {},
   "outputs": [],
   "source": []
  },
  {
   "cell_type": "code",
   "execution_count": 20,
   "id": "b2f24734-0bfb-478c-acb3-804ab8ac9ba9",
   "metadata": {
    "execution": {
     "iopub.execute_input": "2023-06-24T07:34:47.322662Z",
     "iopub.status.busy": "2023-06-24T07:34:47.321912Z",
     "iopub.status.idle": "2023-06-24T07:34:47.325522Z",
     "shell.execute_reply": "2023-06-24T07:34:47.324908Z",
     "shell.execute_reply.started": "2023-06-24T07:34:47.322640Z"
    },
    "tags": []
   },
   "outputs": [],
   "source": [
    "gene_slop = 5000000\n"
   ]
  },
  {
   "cell_type": "code",
   "execution_count": 21,
   "id": "71d2056b-cc98-4efb-89ae-e57b12c74d19",
   "metadata": {
    "execution": {
     "iopub.execute_input": "2023-06-24T07:34:49.630514Z",
     "iopub.status.busy": "2023-06-24T07:34:49.630204Z",
     "iopub.status.idle": "2023-06-24T07:35:10.974590Z",
     "shell.execute_reply": "2023-06-24T07:35:10.973731Z",
     "shell.execute_reply.started": "2023-06-24T07:34:49.630494Z"
    },
    "tags": []
   },
   "outputs": [
    {
     "name": "stderr",
     "output_type": "stream",
     "text": [
      "100%|██████████| 1099/1099 [00:21<00:00, 51.51it/s]\n"
     ]
    }
   ],
   "source": [
    "gene_records = []\n",
    "for gene, row in tqdm(gene_meta.iterrows(), total=gene_meta.shape[0]):\n",
    "    gene_rna = expr[[gene]].T\n",
    "    \n",
    "    dmr_chrom = row['chrom']\n",
    "    dmr_start = row['start'] - gene_slop\n",
    "    dmr_end = row['end'] + gene_slop\n",
    "    sel_dmr = (binall['chrom']==dmr_chrom) & (binall['start'] > dmr_start) & (binall['start'] < dmr_end)\n",
    "    gene_dmr = bound_prob_ct.T.loc[sel_dmr]\n",
    "\n",
    "    gene_corr = corr_array(gene_rna, gene_dmr).ravel()\n",
    "    gene_corr = pd.Series(gene_corr, index=gene_dmr.index)\n",
    "\n",
    "    # pvalue = norm.sf(gene_corr.values, null_mu, null_std)\n",
    "    # pvalue[pvalue > 0.5] = 1 - pvalue[pvalue > 0.5]\n",
    "    # pvalue *= 2  # two tailed\n",
    "    # perform multi-test correction and  q-value\n",
    "    # _, q, *_ = fdrcorrection(pvalue)\n",
    "\n",
    "    gene_corr.name = 'corr'\n",
    "    gene_corr = gene_corr.reset_index()\n",
    "    gene_corr['gene'] = gene\n",
    "    # gene_corr[\"q\"] = q\n",
    "    \n",
    "    # minimum filter\n",
    "    # gene_corr = gene_corr[\n",
    "    #     (gene_corr[\"q\"] < min_q) & (gene_corr[\"corr\"].abs() > min_corr)\n",
    "    # ].set_index(\"dmr\")\n",
    "\n",
    "    # gene_records[gene] = gene_corr\n",
    "    gene_records.append(gene_corr)\n",
    "    "
   ]
  },
  {
   "cell_type": "code",
   "execution_count": 22,
   "id": "01ed7e49-c33f-41f8-902c-38dd8d16ae89",
   "metadata": {
    "execution": {
     "iopub.execute_input": "2023-06-24T07:35:18.391407Z",
     "iopub.status.busy": "2023-06-24T07:35:18.391178Z",
     "iopub.status.idle": "2023-06-24T07:35:18.544291Z",
     "shell.execute_reply": "2023-06-24T07:35:18.543579Z",
     "shell.execute_reply.started": "2023-06-24T07:35:18.391358Z"
    },
    "tags": []
   },
   "outputs": [
    {
     "data": {
      "text/html": [
       "<div>\n",
       "<style scoped>\n",
       "    .dataframe tbody tr th:only-of-type {\n",
       "        vertical-align: middle;\n",
       "    }\n",
       "\n",
       "    .dataframe tbody tr th {\n",
       "        vertical-align: top;\n",
       "    }\n",
       "\n",
       "    .dataframe thead th {\n",
       "        text-align: right;\n",
       "    }\n",
       "</style>\n",
       "<table border=\"1\" class=\"dataframe\">\n",
       "  <thead>\n",
       "    <tr style=\"text-align: right;\">\n",
       "      <th></th>\n",
       "      <th>index</th>\n",
       "      <th>corr</th>\n",
       "      <th>gene</th>\n",
       "    </tr>\n",
       "  </thead>\n",
       "  <tbody>\n",
       "    <tr>\n",
       "      <th>0</th>\n",
       "      <td>chr7_1525</td>\n",
       "      <td>0.044345</td>\n",
       "      <td>ENSG00000002746.15</td>\n",
       "    </tr>\n",
       "    <tr>\n",
       "      <th>1</th>\n",
       "      <td>chr7_1526</td>\n",
       "      <td>-0.298720</td>\n",
       "      <td>ENSG00000002746.15</td>\n",
       "    </tr>\n",
       "    <tr>\n",
       "      <th>2</th>\n",
       "      <td>chr7_1527</td>\n",
       "      <td>-0.408159</td>\n",
       "      <td>ENSG00000002746.15</td>\n",
       "    </tr>\n",
       "    <tr>\n",
       "      <th>3</th>\n",
       "      <td>chr7_1528</td>\n",
       "      <td>-0.556742</td>\n",
       "      <td>ENSG00000002746.15</td>\n",
       "    </tr>\n",
       "    <tr>\n",
       "      <th>4</th>\n",
       "      <td>chr7_1529</td>\n",
       "      <td>-0.246539</td>\n",
       "      <td>ENSG00000002746.15</td>\n",
       "    </tr>\n",
       "    <tr>\n",
       "      <th>...</th>\n",
       "      <td>...</td>\n",
       "      <td>...</td>\n",
       "      <td>...</td>\n",
       "    </tr>\n",
       "    <tr>\n",
       "      <th>424261</th>\n",
       "      <td>chr11_3453</td>\n",
       "      <td>-0.259785</td>\n",
       "      <td>ENSG00000287912.1</td>\n",
       "    </tr>\n",
       "    <tr>\n",
       "      <th>424262</th>\n",
       "      <td>chr11_3454</td>\n",
       "      <td>-0.141301</td>\n",
       "      <td>ENSG00000287912.1</td>\n",
       "    </tr>\n",
       "    <tr>\n",
       "      <th>424263</th>\n",
       "      <td>chr11_3455</td>\n",
       "      <td>0.278937</td>\n",
       "      <td>ENSG00000287912.1</td>\n",
       "    </tr>\n",
       "    <tr>\n",
       "      <th>424264</th>\n",
       "      <td>chr11_3456</td>\n",
       "      <td>0.347317</td>\n",
       "      <td>ENSG00000287912.1</td>\n",
       "    </tr>\n",
       "    <tr>\n",
       "      <th>424265</th>\n",
       "      <td>chr11_3457</td>\n",
       "      <td>0.187560</td>\n",
       "      <td>ENSG00000287912.1</td>\n",
       "    </tr>\n",
       "  </tbody>\n",
       "</table>\n",
       "<p>424266 rows × 3 columns</p>\n",
       "</div>"
      ],
      "text/plain": [
       "             index      corr                gene\n",
       "0        chr7_1525  0.044345  ENSG00000002746.15\n",
       "1        chr7_1526 -0.298720  ENSG00000002746.15\n",
       "2        chr7_1527 -0.408159  ENSG00000002746.15\n",
       "3        chr7_1528 -0.556742  ENSG00000002746.15\n",
       "4        chr7_1529 -0.246539  ENSG00000002746.15\n",
       "...            ...       ...                 ...\n",
       "424261  chr11_3453 -0.259785   ENSG00000287912.1\n",
       "424262  chr11_3454 -0.141301   ENSG00000287912.1\n",
       "424263  chr11_3455  0.278937   ENSG00000287912.1\n",
       "424264  chr11_3456  0.347317   ENSG00000287912.1\n",
       "424265  chr11_3457  0.187560   ENSG00000287912.1\n",
       "\n",
       "[424266 rows x 3 columns]"
      ]
     },
     "execution_count": 22,
     "metadata": {},
     "output_type": "execute_result"
    }
   ],
   "source": [
    "gene_records = pd.concat(gene_records, axis=0)\n",
    "gene_records.index = np.arange(gene_records.shape[0])\n",
    "gene_records"
   ]
  },
  {
   "cell_type": "code",
   "execution_count": 23,
   "id": "746e33d7-3f8d-439b-b55c-d04820092d93",
   "metadata": {
    "execution": {
     "iopub.execute_input": "2023-06-24T07:35:18.545864Z",
     "iopub.status.busy": "2023-06-24T07:35:18.545666Z",
     "iopub.status.idle": "2023-06-24T07:35:19.087965Z",
     "shell.execute_reply": "2023-06-24T07:35:19.087408Z",
     "shell.execute_reply.started": "2023-06-24T07:35:18.545846Z"
    },
    "tags": []
   },
   "outputs": [
    {
     "data": {
      "text/plain": [
       "<AxesSubplot:ylabel='Density'>"
      ]
     },
     "execution_count": 23,
     "metadata": {},
     "output_type": "execute_result"
    },
    {
     "name": "stderr",
     "output_type": "stream",
     "text": [
      "findfont: Font family ['sans-serif'] not found. Falling back to DejaVu Sans.\n",
      "findfont: Generic family 'sans-serif' not found because none of the following families were found: Helvetica\n"
     ]
    },
    {
     "data": {
      "image/png": "[encoded data removed]",
      "text/plain": [
       "<Figure size 432x288 with 1 Axes>"
      ]
     },
     "metadata": {
      "needs_background": "light"
     },
     "output_type": "display_data"
    }
   ],
   "source": [
    "fig, ax = plt.subplots()\n",
    "sns.distplot(np.random.choice(gene_records['corr'], 50000), ax=ax)\n",
    "sns.distplot(np.random.choice(shuffle_corr, 50000), ax=ax)"
   ]
  },
  {
   "cell_type": "code",
   "execution_count": 24,
   "id": "3053da93-b471-4ff3-82cc-48a7d0718458",
   "metadata": {
    "execution": {
     "iopub.execute_input": "2023-06-24T07:35:19.088802Z",
     "iopub.status.busy": "2023-06-24T07:35:19.088630Z",
     "iopub.status.idle": "2023-06-24T07:35:31.820077Z",
     "shell.execute_reply": "2023-06-24T07:35:31.819329Z",
     "shell.execute_reply.started": "2023-06-24T07:35:19.088772Z"
    },
    "tags": []
   },
   "outputs": [],
   "source": [
    "t1 = rankdata(np.concatenate((gene_records['corr'].values, shuffle_corr)))[:gene_records.shape[0]]\n",
    "t2 = rankdata(gene_records['corr'].values)\n"
   ]
  },
  {
   "cell_type": "code",
   "execution_count": 25,
   "id": "01d60012-429a-49bb-b3a3-1b7e4258651e",
   "metadata": {
    "execution": {
     "iopub.execute_input": "2023-06-24T07:35:34.486919Z",
     "iopub.status.busy": "2023-06-24T07:35:34.486739Z",
     "iopub.status.idle": "2023-06-24T07:35:34.493264Z",
     "shell.execute_reply": "2023-06-24T07:35:34.492750Z",
     "shell.execute_reply.started": "2023-06-24T07:35:34.486901Z"
    },
    "tags": []
   },
   "outputs": [],
   "source": [
    "gene_records['FDRneg'] = (t1 - t2) / len(shuffle_corr) / t2 * gene_records.shape[0]\n",
    "gene_records['FDRpos'] = (len(shuffle_corr) - t1 + t2) / len(shuffle_corr) / (gene_records.shape[0] - t2) * gene_records.shape[0]\n"
   ]
  },
  {
   "cell_type": "code",
   "execution_count": 26,
   "id": "e29bf64d-df61-4aa9-b3cb-fbc0ad362717",
   "metadata": {
    "execution": {
     "iopub.execute_input": "2023-06-24T07:35:35.792340Z",
     "iopub.status.busy": "2023-06-24T07:35:35.792166Z",
     "iopub.status.idle": "2023-06-24T07:35:35.798109Z",
     "shell.execute_reply": "2023-06-24T07:35:35.797591Z",
     "shell.execute_reply.started": "2023-06-24T07:35:35.792322Z"
    },
    "tags": []
   },
   "outputs": [
    {
     "name": "stdout",
     "output_type": "stream",
     "text": [
      "0.681722215979567 -0.514844193782862\n"
     ]
    }
   ],
   "source": [
    "threspos = gene_records.loc[gene_records['FDRpos']<0.1, 'corr'].min()\n",
    "thresneg = gene_records.loc[gene_records['FDRneg']<0.1, 'corr'].max()\n",
    "print(threspos, thresneg)\n"
   ]
  },
  {
   "cell_type": "code",
   "execution_count": 27,
   "id": "7ffa63b4-fadf-46c4-a525-708637e4a963",
   "metadata": {
    "execution": {
     "iopub.execute_input": "2023-06-24T07:35:35.799645Z",
     "iopub.status.busy": "2023-06-24T07:35:35.799468Z",
     "iopub.status.idle": "2023-06-24T07:35:35.807014Z",
     "shell.execute_reply": "2023-06-24T07:35:35.806519Z",
     "shell.execute_reply.started": "2023-06-24T07:35:35.799628Z"
    },
    "tags": []
   },
   "outputs": [],
   "source": [
    "gene_meta[['TSS', 'TES']] = gene_meta[['start', 'end']]\n",
    "selg = (gene_meta['strand']=='-')\n",
    "gene_meta.loc[selg, ['TSS', 'TES']] = gene_meta.loc[selg, ['TES', 'TSS']].values\n"
   ]
  },
  {
   "cell_type": "code",
   "execution_count": 28,
   "id": "9002a725-fc3b-4676-9480-da431fefd2b7",
   "metadata": {
    "execution": {
     "iopub.execute_input": "2023-06-24T07:35:35.807747Z",
     "iopub.status.busy": "2023-06-24T07:35:35.807583Z",
     "iopub.status.idle": "2023-06-24T07:35:36.200073Z",
     "shell.execute_reply": "2023-06-24T07:35:36.199469Z",
     "shell.execute_reply.started": "2023-06-24T07:35:35.807732Z"
    },
    "tags": []
   },
   "outputs": [],
   "source": [
    "gene_records['TSSdist'] = binall.loc[gene_records['index'], 'start'].values - gene_meta.loc[gene_records['gene'], 'TSS'].values\n",
    "selg = (gene_meta.loc[gene_records['gene'], 'strand']=='-')\n",
    "gene_records.loc[selg.values, 'TSSdist'] = -gene_records.loc[selg.values, 'TSSdist'].values\n",
    "\n",
    "gene_records['TESdist'] = binall.loc[gene_records['index'], 'start'].values - gene_meta.loc[gene_records['gene'], 'TES'].values\n",
    "selg = (gene_meta.loc[gene_records['gene'], 'strand']=='-')\n",
    "gene_records.loc[selg.values, 'TESdist'] = -gene_records.loc[selg.values, 'TESdist'].values\n"
   ]
  },
  {
   "cell_type": "code",
   "execution_count": 29,
   "id": "9b29ae8f-5694-4fc4-8314-d8fb024c415e",
   "metadata": {
    "execution": {
     "iopub.execute_input": "2023-06-24T07:35:36.200944Z",
     "iopub.status.busy": "2023-06-24T07:35:36.200769Z",
     "iopub.status.idle": "2023-06-24T07:35:36.217881Z",
     "shell.execute_reply": "2023-06-24T07:35:36.217321Z",
     "shell.execute_reply.started": "2023-06-24T07:35:36.200922Z"
    },
    "tags": []
   },
   "outputs": [],
   "source": [
    "gene_records['coord'] = 0\n",
    "selp = (gene_records['TSSdist']<=0)\n",
    "gene_records.loc[selp, 'coord'] = gene_records.loc[selp, 'TSSdist'] / res - 100\n",
    "\n",
    "selp = (gene_records['TESdist']>=0)\n",
    "gene_records.loc[selp, 'coord'] = gene_records.loc[selp, 'TESdist'] / res + 100\n",
    "\n",
    "selp = (gene_records['TESdist']<0) & (gene_records['TSSdist']>0)\n",
    "gene_records.loc[selp, 'coord'] = gene_records.loc[selp, 'TSSdist'] / (gene_records.loc[selp, 'TSSdist'] - gene_records.loc[selp, 'TESdist']) * 200 - 100\n"
   ]
  },
  {
   "cell_type": "code",
   "execution_count": 30,
   "id": "6dda5b96-c2df-437f-903f-2ec152c32d2b",
   "metadata": {
    "execution": {
     "iopub.execute_input": "2023-06-24T07:35:42.809019Z",
     "iopub.status.busy": "2023-06-24T07:35:42.808843Z",
     "iopub.status.idle": "2023-06-24T07:35:42.890943Z",
     "shell.execute_reply": "2023-06-24T07:35:42.890343Z",
     "shell.execute_reply.started": "2023-06-24T07:35:42.809002Z"
    },
    "tags": []
   },
   "outputs": [],
   "source": [
    "gene_records.to_hdf(f'{outdir}DEG_neu_bound_5M_corr.hdf', key='data')"
   ]
  },
  {
   "cell_type": "code",
   "execution_count": 4,
   "id": "ac1227dc-f52e-4702-b45b-4256b880feef",
   "metadata": {
    "execution": {
     "iopub.execute_input": "2023-05-18T04:53:23.862498Z",
     "iopub.status.busy": "2023-05-18T04:53:23.862215Z",
     "iopub.status.idle": "2023-05-18T04:53:24.926265Z",
     "shell.execute_reply": "2023-05-18T04:53:24.925434Z",
     "shell.execute_reply.started": "2023-05-18T04:53:23.862477Z"
    },
    "tags": []
   },
   "outputs": [],
   "source": [
    "gene_records = pd.read_hdf(f'{outdir}DEG_neu_bound_5M_corr.hdf', key='data')"
   ]
  },
  {
   "cell_type": "code",
   "execution_count": 31,
   "id": "0a5d6235-91d5-4ee2-a09e-0cb020f0e3cf",
   "metadata": {
    "execution": {
     "iopub.execute_input": "2023-06-24T07:36:21.213792Z",
     "iopub.status.busy": "2023-06-24T07:36:21.213212Z",
     "iopub.status.idle": "2023-06-24T07:36:21.237058Z",
     "shell.execute_reply": "2023-06-24T07:36:21.236507Z",
     "shell.execute_reply.started": "2023-06-24T07:36:21.213773Z"
    },
    "tags": []
   },
   "outputs": [],
   "source": [
    "thres = np.max(np.abs([thresneg, threspos]))\n",
    "gene_records['group'] = gene_records['coord']//2\n",
    "proppos = (gene_records.loc[gene_records['corr']>thres, 'group'].value_counts() / gene_records['group'].value_counts()).sort_index().fillna(0)\n",
    "propneg = (gene_records.loc[gene_records['corr']<-thres, 'group'].value_counts() / gene_records['group'].value_counts()).sort_index().fillna(0)\n"
   ]
  },
  {
   "cell_type": "code",
   "execution_count": 32,
   "id": "9bab2570-9757-4565-a309-3a465569f361",
   "metadata": {
    "execution": {
     "iopub.execute_input": "2023-06-24T07:36:24.429005Z",
     "iopub.status.busy": "2023-06-24T07:36:24.428762Z",
     "iopub.status.idle": "2023-06-24T07:36:24.542341Z",
     "shell.execute_reply": "2023-06-24T07:36:24.541831Z",
     "shell.execute_reply.started": "2023-06-24T07:36:24.428985Z"
    },
    "tags": []
   },
   "outputs": [
    {
     "data": {
      "image/png": "[encoded data removed]",
      "text/plain": [
       "<Figure size 900x450 with 1 Axes>"
      ]
     },
     "metadata": {
      "needs_background": "light"
     },
     "output_type": "display_data"
    }
   ],
   "source": [
    "fig, ax = plt.subplots(figsize=(3, 1.5), dpi=300)\n",
    "ax.plot(np.arange(300), proppos, c='C0', label='Pos')\n",
    "ax.plot(np.arange(300), propneg, c='C1', label='Neg')\n",
    "ax.set_xticks([0, 100, 200, 300])\n",
    "ax.set_xticklabels(['-5M', 'TSS', 'TES', '+5M'])\n",
    "ax.legend()\n",
    "plt.tight_layout()\n",
    "# plt.savefig('proportion_corr_bound.pdf', transparent=True)\n"
   ]
  },
  {
   "cell_type": "code",
   "execution_count": 33,
   "id": "621e1fae-8b73-43de-89f3-671614005a93",
   "metadata": {
    "execution": {
     "iopub.execute_input": "2023-06-24T07:36:39.195467Z",
     "iopub.status.busy": "2023-06-24T07:36:39.195178Z",
     "iopub.status.idle": "2023-06-24T07:36:39.267999Z",
     "shell.execute_reply": "2023-06-24T07:36:39.267496Z",
     "shell.execute_reply.started": "2023-06-24T07:36:39.195446Z"
    },
    "tags": []
   },
   "outputs": [
    {
     "name": "stdout",
     "output_type": "stream",
     "text": [
      "285 0.25932666060054593\n",
      "271 0.24658780709736125\n",
      "466 0.4240218380345769\n"
     ]
    }
   ],
   "source": [
    "tmp = gene_records.loc[(gene_records['corr']>thres) & (gene_records['TSSdist']>-res) & (gene_records['TSSdist']<res), 'gene'].unique()\n",
    "print(tmp.shape[0], tmp.shape[0]/gene_records['gene'].unique().shape[0])\n",
    "np.savetxt(f'{outdir}gene_boundposcorr_tss.csv.gz', tmp, delimiter='\\n', fmt='%s')\n",
    "\n",
    "tmp = gene_records.loc[(gene_records['corr']>thres) & (gene_records['TESdist']>-res) & (gene_records['TESdist']<res), 'gene'].unique()\n",
    "print(tmp.shape[0], tmp.shape[0]/gene_records['gene'].unique().shape[0])\n",
    "np.savetxt(f'{outdir}gene_boundposcorr_tes.csv.gz', tmp, delimiter='\\n', fmt='%s')\n",
    "\n",
    "tmp = gene_records.loc[(gene_records['corr']>thres) & (((gene_records['TSSdist']>-res) & (gene_records['TSSdist']<res)) | ((gene_records['TESdist']>-res) & (gene_records['TESdist']<res))), 'gene'].unique()\n",
    "print(tmp.shape[0], tmp.shape[0]/gene_records['gene'].unique().shape[0])\n",
    "np.savetxt(f'{outdir}gene_boundposcorr_tsstes.csv.gz', tmp, delimiter='\\n', fmt='%s')\n"
   ]
  },
  {
   "cell_type": "code",
   "execution_count": 34,
   "id": "137b5551-59fb-4a4f-8e43-b76fb14e60c2",
   "metadata": {
    "execution": {
     "iopub.execute_input": "2023-06-24T07:36:51.016251Z",
     "iopub.status.busy": "2023-06-24T07:36:51.015994Z",
     "iopub.status.idle": "2023-06-24T07:36:51.085762Z",
     "shell.execute_reply": "2023-06-24T07:36:51.085229Z",
     "shell.execute_reply.started": "2023-06-24T07:36:51.016232Z"
    },
    "tags": []
   },
   "outputs": [
    {
     "name": "stdout",
     "output_type": "stream",
     "text": [
      "591 0.5377616014558689\n",
      "224 0.20382165605095542\n",
      "674 0.6132848043676069\n"
     ]
    }
   ],
   "source": [
    "tmp = gene_records.loc[(gene_records['corr']>thres) & (gene_records['TSSdist']>-res) & (gene_records['TESdist']<res), 'gene'].unique()\n",
    "print(tmp.shape[0], tmp.shape[0]/gene_records['gene'].unique().shape[0])\n",
    "np.savetxt(f'{outdir}gene_boundposcorr_genebody.csv.gz', tmp, delimiter='\\n', fmt='%s')\n",
    "\n",
    "tmp = gene_records.loc[(gene_records['corr']<-thres) & (gene_records['TSSdist']>-res) & (gene_records['TESdist']<res), 'gene'].unique()\n",
    "print(tmp.shape[0], tmp.shape[0]/gene_records['gene'].unique().shape[0])\n",
    "\n",
    "tmp = gene_records.loc[(gene_records['corr'].abs()>thres) & (gene_records['TSSdist']>-res) & (gene_records['TESdist']<res), 'gene'].unique()\n",
    "print(tmp.shape[0], tmp.shape[0]/gene_records['gene'].unique().shape[0])\n"
   ]
  },
  {
   "cell_type": "code",
   "execution_count": 36,
   "id": "29f512eb-ee58-4af2-91cd-db8670b22f7e",
   "metadata": {
    "execution": {
     "iopub.execute_input": "2023-06-24T07:37:10.518990Z",
     "iopub.status.busy": "2023-06-24T07:37:10.518748Z",
     "iopub.status.idle": "2023-06-24T07:37:10.858963Z",
     "shell.execute_reply": "2023-06-24T07:37:10.858330Z",
     "shell.execute_reply.started": "2023-06-24T07:37:10.518972Z"
    },
    "tags": []
   },
   "outputs": [
    {
     "data": {
      "text/plain": [
       "[Text(-300, 0, '-5M'),\n",
       " Text(-100, 0, 'TSS'),\n",
       " Text(100, 0, 'TES'),\n",
       " Text(300, 0, '+5M')]"
      ]
     },
     "execution_count": 36,
     "metadata": {},
     "output_type": "execute_result"
    },
    {
     "data": {
      "image/png": "[encoded data removed]",
      "text/plain": [
       "<Figure size 900x900 with 4 Axes>"
      ]
     },
     "metadata": {
      "needs_background": "light"
     },
     "output_type": "display_data"
    }
   ],
   "source": [
    "fig, axes = plt.subplots(2, 1, sharex='all', figsize=(3,3), dpi=300)\n",
    "ax = axes[0]\n",
    "tmp = gene_records.loc[gene_records['corr']>threspos]\n",
    "sns.histplot(data=tmp, x='coord', y='corr', bins=300, ax=ax, cbar=True, cbar_kws=dict(ticks=[0,7], fraction=0.2, shrink=0.5))\n",
    "ax.set_yticks([0.7, 0.8, 0.9, 1.0])\n",
    "\n",
    "ax = axes[1]\n",
    "# tmp = gene_records.loc[gene_records['corr']<thresneg]\n",
    "tmp = gene_records.loc[gene_records['corr']<-threspos]\n",
    "sns.histplot(data=tmp, x='coord', y='corr', bins=300, ax=ax, cbar=True, cbar_kws=dict(ticks=[0,3], fraction=0.2, shrink=0.5))\n",
    "# ax.set_yticks([-0.6, -0.7, -0.8, -0.9])\n",
    "ax.set_yticks([-0.7, -0.8, -0.9, -1.0])\n",
    "\n",
    "ax.set_xticks([-300, -100, 100, 300])\n",
    "ax.set_xticklabels(['-5M', 'TSS', 'TES', '+5M'])\n",
    "\n",
    "# plt.savefig('DEG_domain_sigcorr.pdf', transparent=True)\n"
   ]
  },
  {
   "cell_type": "code",
   "execution_count": null,
   "id": "5d7370ab-103b-4d85-a058-047b5c8d8258",
   "metadata": {},
   "outputs": [],
   "source": []
  }
 ],
 "metadata": {
  "kernelspec": {
   "display_name": "Python 3 (ipykernel)",
   "language": "python",
   "name": "python3"
  },
  "language_info": {
   "codemirror_mode": {
    "name": "ipython",
    "version": 3
   },
   "file_extension": ".py",
   "mimetype": "text/x-python",
   "name": "python",
   "nbconvert_exporter": "python",
   "pygments_lexer": "ipython3",
   "version": "3.7.12"
  }
 },
 "nbformat": 4,
 "nbformat_minor": 5
}
