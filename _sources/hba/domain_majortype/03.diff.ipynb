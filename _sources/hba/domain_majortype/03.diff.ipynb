{
 "cells": [
  {
   "cell_type": "markdown",
   "id": "1630b223-08d9-444f-9e04-735370a5b155",
   "metadata": {
    "execution": {
     "iopub.execute_input": "2023-06-23T18:28:05.335609Z",
     "iopub.status.busy": "2023-06-23T18:28:05.335046Z",
     "iopub.status.idle": "2023-06-23T18:28:05.342497Z",
     "shell.execute_reply": "2023-06-23T18:28:05.341760Z",
     "shell.execute_reply.started": "2023-06-23T18:28:05.335581Z"
    }
   },
   "source": [
    "# Differential boundary"
   ]
  },
  {
   "cell_type": "code",
   "execution_count": 1,
   "id": "9930eb62-d856-4912-b972-a0f996cd3f43",
   "metadata": {
    "ExecuteTime": {
     "end_time": "2022-10-09T08:30:37.324836Z",
     "start_time": "2022-10-09T08:30:37.315620Z"
    },
    "execution": {
     "iopub.execute_input": "2023-06-23T19:11:44.632242Z",
     "iopub.status.busy": "2023-06-23T19:11:44.631964Z",
     "iopub.status.idle": "2023-06-23T19:11:45.856057Z",
     "shell.execute_reply": "2023-06-23T19:11:45.855262Z",
     "shell.execute_reply.started": "2023-06-23T19:11:44.632221Z"
    },
    "tags": []
   },
   "outputs": [],
   "source": [
    "import numpy as np\n",
    "import pandas as pd\n",
    "import cooler\n",
    "from scipy.signal import find_peaks\n",
    "from scipy.stats import norm\n",
    "import xarray as xr\n"
   ]
  },
  {
   "cell_type": "code",
   "execution_count": 2,
   "id": "cc0e4c7c-b41a-4ff2-a0b7-faceb25d0bb1",
   "metadata": {
    "execution": {
     "iopub.execute_input": "2023-06-23T19:11:45.862698Z",
     "iopub.status.busy": "2023-06-23T19:11:45.862512Z",
     "iopub.status.idle": "2023-06-23T19:11:45.867568Z",
     "shell.execute_reply": "2023-06-23T19:11:45.866724Z",
     "shell.execute_reply.started": "2023-06-23T19:11:45.862680Z"
    },
    "tags": []
   },
   "outputs": [],
   "source": [
    "leg = ['L23_IT', 'L4_IT', 'L5_IT', 'L6_IT', 'L6_IT_Car3', 'L56_NP', 'L6_CT', 'L6b', 'L5_ET', 'Amy', \n",
    "       'Lamp5', 'Lamp5_LHX6', 'Sncg', 'Vip', 'Pvalb', 'Pvalb_ChC', 'Sst', 'CHD7', \n",
    "       'MSN_D1', 'MSN_D2', 'Foxp2', 'SubCtx', \n",
    "       'ASC', 'ODC', 'OPC', 'MGC', 'PC', 'EC', 'VLMC'\n",
    "      ]\n",
    "legname = ['L2/3-IT', 'L4-IT', 'L5-IT', 'L6-IT', 'L6-IT-Car3', 'L5/6-NP', 'L6-CT', 'L6b', 'L5-ET', 'Amy-Exc', \n",
    "       'Lamp5', 'Lamp5-Lhx6', 'Sncg', 'Vip', 'Pvalb', 'Pvalb-ChC', 'Sst', 'Chd7', \n",
    "       'MSN-D1', 'MSN-D2', 'Foxp2', 'SubCtx-Cplx', \n",
    "       'ASC', 'ODC', 'OPC', 'MGC', 'PC', 'EC', 'VLMC'\n",
    "      ]\n",
    "leg2name = {xx:yy for xx,yy in zip(leg, legname)}\n"
   ]
  },
  {
   "cell_type": "code",
   "execution_count": 3,
   "id": "4e1cb4d8-d51a-44d0-8950-9aba67be5a0f",
   "metadata": {
    "execution": {
     "iopub.execute_input": "2023-06-23T19:11:45.869647Z",
     "iopub.status.busy": "2023-06-23T19:11:45.869143Z",
     "iopub.status.idle": "2023-06-23T19:11:45.874434Z",
     "shell.execute_reply": "2023-06-23T19:11:45.873858Z",
     "shell.execute_reply.started": "2023-06-23T19:11:45.869623Z"
    },
    "tags": []
   },
   "outputs": [],
   "source": [
    "leg = {'exc': ['L23_IT', 'L4_IT', 'L5_IT', 'L6_IT', 'L6_IT_Car3', 'L56_NP', 'L6_CT', 'L6b', 'Amy'], \n",
    "       'inh': ['Lamp5', 'Lamp5_LHX6', 'Sncg', 'Vip', 'Pvalb', 'Pvalb_ChC', 'Sst', 'CHD7'], \n",
    "       'msn': ['MSN_D1', 'MSN_D2', 'Foxp2'], \n",
    "       'sub': ['SubCtx'], \n",
    "       'glia': ['ASC', 'ODC', 'OPC'], \n",
    "       'mgc': ['MGC'], \n",
    "       'smc': ['PC'], \n",
    "       'endo': ['EC'], \n",
    "       'fibro': ['VLMC'],\n",
    "      }\n",
    "leg['neu'] = leg['exc'] + leg['inh'] + leg['msn'] + leg['sub']\n",
    "leg['all'] = leg['neu'] + leg['glia'] + leg['mgc'] + leg['smc'] + leg['endo'] + leg['fibro']\n"
   ]
  },
  {
   "cell_type": "code",
   "execution_count": 4,
   "id": "4cbb7d2b-75b7-4ca0-aa0d-2a0252514c0b",
   "metadata": {
    "execution": {
     "iopub.execute_input": "2023-06-23T19:11:45.875268Z",
     "iopub.status.busy": "2023-06-23T19:11:45.875088Z",
     "iopub.status.idle": "2023-06-23T19:11:45.898425Z",
     "shell.execute_reply": "2023-06-23T19:11:45.897893Z",
     "shell.execute_reply.started": "2023-06-23T19:11:45.875252Z"
    },
    "tags": []
   },
   "outputs": [],
   "source": [
    "group_name = 'neu'"
   ]
  },
  {
   "cell_type": "code",
   "execution_count": 5,
   "id": "7fce0fd5-704e-4f4b-9623-e25dc6876501",
   "metadata": {
    "execution": {
     "iopub.execute_input": "2023-06-23T19:11:45.899208Z",
     "iopub.status.busy": "2023-06-23T19:11:45.899032Z",
     "iopub.status.idle": "2023-06-23T19:11:45.904717Z",
     "shell.execute_reply": "2023-06-23T19:11:45.904205Z",
     "shell.execute_reply.started": "2023-06-23T19:11:45.899192Z"
    },
    "tags": []
   },
   "outputs": [],
   "source": [
    "leg = pd.Index(leg[group_name])\n",
    "legname = leg.map(leg2name)\n",
    "res = 25000"
   ]
  },
  {
   "cell_type": "code",
   "execution_count": 6,
   "id": "4af755fe-f137-4939-aa32-1908f0fbb9f4",
   "metadata": {
    "execution": {
     "iopub.execute_input": "2023-06-23T19:11:45.905510Z",
     "iopub.status.busy": "2023-06-23T19:11:45.905329Z",
     "iopub.status.idle": "2023-06-23T19:11:45.910274Z",
     "shell.execute_reply": "2023-06-23T19:11:45.909747Z",
     "shell.execute_reply.started": "2023-06-23T19:11:45.905494Z"
    },
    "tags": []
   },
   "outputs": [],
   "source": [
    "indir = '/data/hba/domain_majortype/'\n",
    "outdir = f'/home/jzhou_salk_edu/sky_workdir/hba/domain_majortype/diff/{group_name}/'\n"
   ]
  },
  {
   "cell_type": "code",
   "execution_count": 7,
   "id": "41cb2564-8cf0-4e52-b497-a191ca8a67d9",
   "metadata": {
    "execution": {
     "iopub.execute_input": "2023-06-23T19:11:46.041078Z",
     "iopub.status.busy": "2023-06-23T19:11:46.040860Z",
     "iopub.status.idle": "2023-06-23T19:11:46.046586Z",
     "shell.execute_reply": "2023-06-23T19:11:46.046049Z",
     "shell.execute_reply.started": "2023-06-23T19:11:46.041058Z"
    },
    "tags": []
   },
   "outputs": [],
   "source": [
    "chrom_size_path = '/home/jzhou_salk_edu/sky_workdir/hba/ref/hg38.main.chrom.sizes'\n",
    "chrom_sizes = cooler.read_chromsizes(chrom_size_path, all_names=True)\n",
    "chrom_sizes = chrom_sizes.iloc[:22]\n"
   ]
  },
  {
   "cell_type": "code",
   "execution_count": null,
   "id": "2013a917-c612-4159-ad1f-d14da92a3210",
   "metadata": {},
   "outputs": [],
   "source": []
  },
  {
   "cell_type": "markdown",
   "id": "35c64cd0-135c-4f51-920f-6d331e698017",
   "metadata": {},
   "source": [
    "# naive differential boundary sc"
   ]
  },
  {
   "cell_type": "code",
   "execution_count": 8,
   "id": "b7c735dd-b1cf-481b-b6b4-287bc96812b4",
   "metadata": {
    "ExecuteTime": {
     "end_time": "2022-10-05T17:58:55.033503Z",
     "start_time": "2022-10-05T17:58:55.026484Z"
    },
    "execution": {
     "iopub.execute_input": "2023-06-23T19:11:47.808576Z",
     "iopub.status.busy": "2023-06-23T19:11:47.808309Z",
     "iopub.status.idle": "2023-06-23T19:11:47.821729Z",
     "shell.execute_reply": "2023-06-23T19:11:47.821182Z",
     "shell.execute_reply.started": "2023-06-23T19:11:47.808557Z"
    },
    "tags": []
   },
   "outputs": [],
   "source": [
    "from statsmodels.sandbox.stats.multicomp import multipletests as FDR\n",
    "from scipy.stats import chi2_contingency\n",
    "\n",
    "def diff_bound(bound_count_ct, cell_count_ct):\n",
    "    tmp = cell_count_ct[:,None] - bound_count_ct\n",
    "    stats = np.zeros(bound_count_ct.shape[1])\n",
    "    pv = np.ones(bound_count_ct.shape[1])\n",
    "    binfilter = np.logical_and(bound_count_ct.sum(axis=0)>0, tmp.sum(axis=0)>0)\n",
    "    for i in range(bound_count_ct.shape[1]):\n",
    "        if binfilter[i]:\n",
    "            contig = [bound_count_ct[:,i], tmp[:,i]]\n",
    "            stats[i], pv[i], _, _ = chi2_contingency(contig)\n",
    "    fdr = FDR(pv, 0.01, 'fdr_bh')[1]\n",
    "    return stats, fdr\n",
    "\n",
    "def shuffle_ct(i):\n",
    "    global cell_count_ct, sc_border, leg\n",
    "    np.random.seed(i)\n",
    "    label = np.random.permutation(sc_border.obs[f'{ct_key}'])\n",
    "    bound_count_ct = np.array([sc_border.X[label==xx].getnnz(axis=0) for xx in leg])\n",
    "    bound_prob_ct = bound_count_ct / cell_count_ct[:,None]\n",
    "    return diff_bound(bound_count_ct, cell_count_ct)[0]\n",
    "\n",
    "def diff_bound_bulk(ins_count):\n",
    "    stats = np.zeros(ins_count.shape[2])\n",
    "    pv = np.ones(ins_count.shape[2])\n",
    "    binfilter = (ins_count.min(axis=(0,1))>0)\n",
    "    for i in range(ins_count.shape[2]):\n",
    "        if binfilter[i]:\n",
    "            stats[i], pv[i], _, _ = chi2_contingency(ins_count[:,:,i])\n",
    "    fdr = FDR(pv, 0.01, 'fdr_bh')[1]\n",
    "    return stats, fdr\n"
   ]
  },
  {
   "cell_type": "code",
   "execution_count": 9,
   "id": "4ff2e3eb-951a-4765-8daf-09ac31709a1d",
   "metadata": {
    "ExecuteTime": {
     "end_time": "2022-10-05T18:24:54.953413Z",
     "start_time": "2022-10-05T18:24:54.671728Z"
    },
    "execution": {
     "iopub.execute_input": "2023-06-23T19:11:48.511104Z",
     "iopub.status.busy": "2023-06-23T19:11:48.510794Z",
     "iopub.status.idle": "2023-06-23T19:11:48.834616Z",
     "shell.execute_reply": "2023-06-23T19:11:48.833948Z",
     "shell.execute_reply.started": "2023-06-23T19:11:48.511082Z"
    },
    "tags": []
   },
   "outputs": [],
   "source": [
    "bound_count_ct = pd.read_hdf(f'{indir}MajorType_boundcount.hdf', key='data').loc[leg]\n",
    "cell_count_ct = pd.read_csv(f'{indir}MajorType_cellcount.csv.gz', index_col=0, header=0, squeeze=True).loc[leg]\n",
    "bound_prob_ct = (bound_count_ct / cell_count_ct[:,None]).T\n"
   ]
  },
  {
   "cell_type": "code",
   "execution_count": 10,
   "id": "d26e39f1-34a2-4897-828b-0cbfb1d1de00",
   "metadata": {
    "execution": {
     "iopub.execute_input": "2023-06-23T19:11:53.105494Z",
     "iopub.status.busy": "2023-06-23T19:11:53.105293Z",
     "iopub.status.idle": "2023-06-23T19:11:53.337057Z",
     "shell.execute_reply": "2023-06-23T19:11:53.336383Z",
     "shell.execute_reply.started": "2023-06-23T19:11:53.105466Z"
    },
    "tags": []
   },
   "outputs": [
    {
     "data": {
      "text/html": [
       "<div><svg style=\"position: absolute; width: 0; height: 0; overflow: hidden\">\n",
       "<defs>\n",
       "<symbol id=\"icon-database\" viewBox=\"0 0 32 32\">\n",
       "<path d=\"M16 0c-8.837 0-16 2.239-16 5v4c0 2.761 7.163 5 16 5s16-2.239 16-5v-4c0-2.761-7.163-5-16-5z\"></path>\n",
       "<path d=\"M16 17c-8.837 0-16-2.239-16-5v6c0 2.761 7.163 5 16 5s16-2.239 16-5v-6c0 2.761-7.163 5-16 5z\"></path>\n",
       "<path d=\"M16 26c-8.837 0-16-2.239-16-5v6c0 2.761 7.163 5 16 5s16-2.239 16-5v-6c0 2.761-7.163 5-16 5z\"></path>\n",
       "</symbol>\n",
       "<symbol id=\"icon-file-text2\" viewBox=\"0 0 32 32\">\n",
       "<path d=\"M28.681 7.159c-0.694-0.947-1.662-2.053-2.724-3.116s-2.169-2.030-3.116-2.724c-1.612-1.182-2.393-1.319-2.841-1.319h-15.5c-1.378 0-2.5 1.121-2.5 2.5v27c0 1.378 1.122 2.5 2.5 2.5h23c1.378 0 2.5-1.122 2.5-2.5v-19.5c0-0.448-0.137-1.23-1.319-2.841zM24.543 5.457c0.959 0.959 1.712 1.825 2.268 2.543h-4.811v-4.811c0.718 0.556 1.584 1.309 2.543 2.268zM28 29.5c0 0.271-0.229 0.5-0.5 0.5h-23c-0.271 0-0.5-0.229-0.5-0.5v-27c0-0.271 0.229-0.5 0.5-0.5 0 0 15.499-0 15.5 0v7c0 0.552 0.448 1 1 1h7v19.5z\"></path>\n",
       "<path d=\"M23 26h-14c-0.552 0-1-0.448-1-1s0.448-1 1-1h14c0.552 0 1 0.448 1 1s-0.448 1-1 1z\"></path>\n",
       "<path d=\"M23 22h-14c-0.552 0-1-0.448-1-1s0.448-1 1-1h14c0.552 0 1 0.448 1 1s-0.448 1-1 1z\"></path>\n",
       "<path d=\"M23 18h-14c-0.552 0-1-0.448-1-1s0.448-1 1-1h14c0.552 0 1 0.448 1 1s-0.448 1-1 1z\"></path>\n",
       "</symbol>\n",
       "</defs>\n",
       "</svg>\n",
       "<style>/* CSS stylesheet for displaying xarray objects in jupyterlab.\n",
       " *\n",
       " */\n",
       "\n",
       ":root {\n",
       "  --xr-font-color0: var(--jp-content-font-color0, rgba(0, 0, 0, 1));\n",
       "  --xr-font-color2: var(--jp-content-font-color2, rgba(0, 0, 0, 0.54));\n",
       "  --xr-font-color3: var(--jp-content-font-color3, rgba(0, 0, 0, 0.38));\n",
       "  --xr-border-color: var(--jp-border-color2, #e0e0e0);\n",
       "  --xr-disabled-color: var(--jp-layout-color3, #bdbdbd);\n",
       "  --xr-background-color: var(--jp-layout-color0, white);\n",
       "  --xr-background-color-row-even: var(--jp-layout-color1, white);\n",
       "  --xr-background-color-row-odd: var(--jp-layout-color2, #eeeeee);\n",
       "}\n",
       "\n",
       "html[theme=dark],\n",
       "body.vscode-dark {\n",
       "  --xr-font-color0: rgba(255, 255, 255, 1);\n",
       "  --xr-font-color2: rgba(255, 255, 255, 0.54);\n",
       "  --xr-font-color3: rgba(255, 255, 255, 0.38);\n",
       "  --xr-border-color: #1F1F1F;\n",
       "  --xr-disabled-color: #515151;\n",
       "  --xr-background-color: #111111;\n",
       "  --xr-background-color-row-even: #111111;\n",
       "  --xr-background-color-row-odd: #313131;\n",
       "}\n",
       "\n",
       ".xr-wrap {\n",
       "  display: block !important;\n",
       "  min-width: 300px;\n",
       "  max-width: 700px;\n",
       "}\n",
       "\n",
       ".xr-text-repr-fallback {\n",
       "  /* fallback to plain text repr when CSS is not injected (untrusted notebook) */\n",
       "  display: none;\n",
       "}\n",
       "\n",
       ".xr-header {\n",
       "  padding-top: 6px;\n",
       "  padding-bottom: 6px;\n",
       "  margin-bottom: 4px;\n",
       "  border-bottom: solid 1px var(--xr-border-color);\n",
       "}\n",
       "\n",
       ".xr-header > div,\n",
       ".xr-header > ul {\n",
       "  display: inline;\n",
       "  margin-top: 0;\n",
       "  margin-bottom: 0;\n",
       "}\n",
       "\n",
       ".xr-obj-type,\n",
       ".xr-array-name {\n",
       "  margin-left: 2px;\n",
       "  margin-right: 10px;\n",
       "}\n",
       "\n",
       ".xr-obj-type {\n",
       "  color: var(--xr-font-color2);\n",
       "}\n",
       "\n",
       ".xr-sections {\n",
       "  padding-left: 0 !important;\n",
       "  display: grid;\n",
       "  grid-template-columns: 150px auto auto 1fr 20px 20px;\n",
       "}\n",
       "\n",
       ".xr-section-item {\n",
       "  display: contents;\n",
       "}\n",
       "\n",
       ".xr-section-item input {\n",
       "  display: none;\n",
       "}\n",
       "\n",
       ".xr-section-item input + label {\n",
       "  color: var(--xr-disabled-color);\n",
       "}\n",
       "\n",
       ".xr-section-item input:enabled + label {\n",
       "  cursor: pointer;\n",
       "  color: var(--xr-font-color2);\n",
       "}\n",
       "\n",
       ".xr-section-item input:enabled + label:hover {\n",
       "  color: var(--xr-font-color0);\n",
       "}\n",
       "\n",
       ".xr-section-summary {\n",
       "  grid-column: 1;\n",
       "  color: var(--xr-font-color2);\n",
       "  font-weight: 500;\n",
       "}\n",
       "\n",
       ".xr-section-summary > span {\n",
       "  display: inline-block;\n",
       "  padding-left: 0.5em;\n",
       "}\n",
       "\n",
       ".xr-section-summary-in:disabled + label {\n",
       "  color: var(--xr-font-color2);\n",
       "}\n",
       "\n",
       ".xr-section-summary-in + label:before {\n",
       "  display: inline-block;\n",
       "  content: '►';\n",
       "  font-size: 11px;\n",
       "  width: 15px;\n",
       "  text-align: center;\n",
       "}\n",
       "\n",
       ".xr-section-summary-in:disabled + label:before {\n",
       "  color: var(--xr-disabled-color);\n",
       "}\n",
       "\n",
       ".xr-section-summary-in:checked + label:before {\n",
       "  content: '▼';\n",
       "}\n",
       "\n",
       ".xr-section-summary-in:checked + label > span {\n",
       "  display: none;\n",
       "}\n",
       "\n",
       ".xr-section-summary,\n",
       ".xr-section-inline-details {\n",
       "  padding-top: 4px;\n",
       "  padding-bottom: 4px;\n",
       "}\n",
       "\n",
       ".xr-section-inline-details {\n",
       "  grid-column: 2 / -1;\n",
       "}\n",
       "\n",
       ".xr-section-details {\n",
       "  display: none;\n",
       "  grid-column: 1 / -1;\n",
       "  margin-bottom: 5px;\n",
       "}\n",
       "\n",
       ".xr-section-summary-in:checked ~ .xr-section-details {\n",
       "  display: contents;\n",
       "}\n",
       "\n",
       ".xr-array-wrap {\n",
       "  grid-column: 1 / -1;\n",
       "  display: grid;\n",
       "  grid-template-columns: 20px auto;\n",
       "}\n",
       "\n",
       ".xr-array-wrap > label {\n",
       "  grid-column: 1;\n",
       "  vertical-align: top;\n",
       "}\n",
       "\n",
       ".xr-preview {\n",
       "  color: var(--xr-font-color3);\n",
       "}\n",
       "\n",
       ".xr-array-preview,\n",
       ".xr-array-data {\n",
       "  padding: 0 5px !important;\n",
       "  grid-column: 2;\n",
       "}\n",
       "\n",
       ".xr-array-data,\n",
       ".xr-array-in:checked ~ .xr-array-preview {\n",
       "  display: none;\n",
       "}\n",
       "\n",
       ".xr-array-in:checked ~ .xr-array-data,\n",
       ".xr-array-preview {\n",
       "  display: inline-block;\n",
       "}\n",
       "\n",
       ".xr-dim-list {\n",
       "  display: inline-block !important;\n",
       "  list-style: none;\n",
       "  padding: 0 !important;\n",
       "  margin: 0;\n",
       "}\n",
       "\n",
       ".xr-dim-list li {\n",
       "  display: inline-block;\n",
       "  padding: 0;\n",
       "  margin: 0;\n",
       "}\n",
       "\n",
       ".xr-dim-list:before {\n",
       "  content: '(';\n",
       "}\n",
       "\n",
       ".xr-dim-list:after {\n",
       "  content: ')';\n",
       "}\n",
       "\n",
       ".xr-dim-list li:not(:last-child):after {\n",
       "  content: ',';\n",
       "  padding-right: 5px;\n",
       "}\n",
       "\n",
       ".xr-has-index {\n",
       "  font-weight: bold;\n",
       "}\n",
       "\n",
       ".xr-var-list,\n",
       ".xr-var-item {\n",
       "  display: contents;\n",
       "}\n",
       "\n",
       ".xr-var-item > div,\n",
       ".xr-var-item label,\n",
       ".xr-var-item > .xr-var-name span {\n",
       "  background-color: var(--xr-background-color-row-even);\n",
       "  margin-bottom: 0;\n",
       "}\n",
       "\n",
       ".xr-var-item > .xr-var-name:hover span {\n",
       "  padding-right: 5px;\n",
       "}\n",
       "\n",
       ".xr-var-list > li:nth-child(odd) > div,\n",
       ".xr-var-list > li:nth-child(odd) > label,\n",
       ".xr-var-list > li:nth-child(odd) > .xr-var-name span {\n",
       "  background-color: var(--xr-background-color-row-odd);\n",
       "}\n",
       "\n",
       ".xr-var-name {\n",
       "  grid-column: 1;\n",
       "}\n",
       "\n",
       ".xr-var-dims {\n",
       "  grid-column: 2;\n",
       "}\n",
       "\n",
       ".xr-var-dtype {\n",
       "  grid-column: 3;\n",
       "  text-align: right;\n",
       "  color: var(--xr-font-color2);\n",
       "}\n",
       "\n",
       ".xr-var-preview {\n",
       "  grid-column: 4;\n",
       "}\n",
       "\n",
       ".xr-var-name,\n",
       ".xr-var-dims,\n",
       ".xr-var-dtype,\n",
       ".xr-preview,\n",
       ".xr-attrs dt {\n",
       "  white-space: nowrap;\n",
       "  overflow: hidden;\n",
       "  text-overflow: ellipsis;\n",
       "  padding-right: 10px;\n",
       "}\n",
       "\n",
       ".xr-var-name:hover,\n",
       ".xr-var-dims:hover,\n",
       ".xr-var-dtype:hover,\n",
       ".xr-attrs dt:hover {\n",
       "  overflow: visible;\n",
       "  width: auto;\n",
       "  z-index: 1;\n",
       "}\n",
       "\n",
       ".xr-var-attrs,\n",
       ".xr-var-data {\n",
       "  display: none;\n",
       "  background-color: var(--xr-background-color) !important;\n",
       "  padding-bottom: 5px !important;\n",
       "}\n",
       "\n",
       ".xr-var-attrs-in:checked ~ .xr-var-attrs,\n",
       ".xr-var-data-in:checked ~ .xr-var-data {\n",
       "  display: block;\n",
       "}\n",
       "\n",
       ".xr-var-data > table {\n",
       "  float: right;\n",
       "}\n",
       "\n",
       ".xr-var-name span,\n",
       ".xr-var-data,\n",
       ".xr-attrs {\n",
       "  padding-left: 25px !important;\n",
       "}\n",
       "\n",
       ".xr-attrs,\n",
       ".xr-var-attrs,\n",
       ".xr-var-data {\n",
       "  grid-column: 1 / -1;\n",
       "}\n",
       "\n",
       "dl.xr-attrs {\n",
       "  padding: 0;\n",
       "  margin: 0;\n",
       "  display: grid;\n",
       "  grid-template-columns: 125px auto;\n",
       "}\n",
       "\n",
       ".xr-attrs dt,\n",
       ".xr-attrs dd {\n",
       "  padding: 0;\n",
       "  margin: 0;\n",
       "  float: left;\n",
       "  padding-right: 10px;\n",
       "  width: auto;\n",
       "}\n",
       "\n",
       ".xr-attrs dt {\n",
       "  font-weight: normal;\n",
       "  grid-column: 1;\n",
       "}\n",
       "\n",
       ".xr-attrs dt:hover span {\n",
       "  display: inline-block;\n",
       "  background: var(--xr-background-color);\n",
       "  padding-right: 10px;\n",
       "}\n",
       "\n",
       ".xr-attrs dd {\n",
       "  grid-column: 2;\n",
       "  white-space: pre-wrap;\n",
       "  word-break: break-all;\n",
       "}\n",
       "\n",
       ".xr-icon-database,\n",
       ".xr-icon-file-text2 {\n",
       "  display: inline-block;\n",
       "  vertical-align: middle;\n",
       "  width: 1em;\n",
       "  height: 1.5em !important;\n",
       "  stroke-width: 0;\n",
       "  stroke: currentColor;\n",
       "  fill: currentColor;\n",
       "}\n",
       "</style><pre class='xr-text-repr-fallback'>&lt;xarray.Dataset&gt;\n",
       "Dimensions:                        (cell: 29, bin: 115009, type: 2)\n",
       "Coordinates:\n",
       "  * cell                           (cell) object &#x27;Amy&#x27; &#x27;ASC&#x27; ... &#x27;Vip&#x27; &#x27;VLMC&#x27;\n",
       "  * bin                            (bin) int64 0 1 2 3 ... 115006 115007 115008\n",
       "  * type                           (type) object &#x27;inter&#x27; &#x27;intra&#x27;\n",
       "    bin_chrom                      (bin) object &#x27;chr1&#x27; &#x27;chr1&#x27; ... &#x27;chr22&#x27;\n",
       "    bin_start                      (bin) int32 ...\n",
       "    bin_end                        (bin) int32 ...\n",
       "Data variables:\n",
       "    __xarray_dataarray_variable__  (cell, bin, type) float64 ...\n",
       "    ratio                          (cell, bin) float64 1.0 0.0 ... 0.03701</pre><div class='xr-wrap' style='display:none'><div class='xr-header'><div class='xr-obj-type'>xarray.Dataset</div></div><ul class='xr-sections'><li class='xr-section-item'><input id='section-e3ff459c-de8f-463e-9fb1-1c9b052b3ca5' class='xr-section-summary-in' type='checkbox' disabled ><label for='section-e3ff459c-de8f-463e-9fb1-1c9b052b3ca5' class='xr-section-summary'  title='Expand/collapse section'>Dimensions:</label><div class='xr-section-inline-details'><ul class='xr-dim-list'><li><span class='xr-has-index'>cell</span>: 29</li><li><span class='xr-has-index'>bin</span>: 115009</li><li><span class='xr-has-index'>type</span>: 2</li></ul></div><div class='xr-section-details'></div></li><li class='xr-section-item'><input id='section-7966ad56-2401-4911-9ced-28c4d0f0f278' class='xr-section-summary-in' type='checkbox'  checked><label for='section-7966ad56-2401-4911-9ced-28c4d0f0f278' class='xr-section-summary' >Coordinates: <span>(6)</span></label><div class='xr-section-inline-details'></div><div class='xr-section-details'><ul class='xr-var-list'><li class='xr-var-item'><div class='xr-var-name'><span class='xr-has-index'>cell</span></div><div class='xr-var-dims'>(cell)</div><div class='xr-var-dtype'>object</div><div class='xr-var-preview xr-preview'>&#x27;Amy&#x27; &#x27;ASC&#x27; &#x27;CHD7&#x27; ... &#x27;Vip&#x27; &#x27;VLMC&#x27;</div><input id='attrs-5e7b3461-e185-4b3c-89b3-eaf965bd17e0' class='xr-var-attrs-in' type='checkbox' disabled><label for='attrs-5e7b3461-e185-4b3c-89b3-eaf965bd17e0' title='Show/Hide attributes'><svg class='icon xr-icon-file-text2'><use xlink:href='#icon-file-text2'></use></svg></label><input id='data-3467862d-7454-4662-b8bf-d6ee3757883a' class='xr-var-data-in' type='checkbox'><label for='data-3467862d-7454-4662-b8bf-d6ee3757883a' title='Show/Hide data repr'><svg class='icon xr-icon-database'><use xlink:href='#icon-database'></use></svg></label><div class='xr-var-attrs'><dl class='xr-attrs'></dl></div><div class='xr-var-data'><pre>array([&#x27;Amy&#x27;, &#x27;ASC&#x27;, &#x27;CHD7&#x27;, &#x27;EC&#x27;, &#x27;Foxp2&#x27;, &#x27;L23_IT&#x27;, &#x27;L4_IT&#x27;, &#x27;L56_NP&#x27;,\n",
       "       &#x27;L5_ET&#x27;, &#x27;L5_IT&#x27;, &#x27;L6b&#x27;, &#x27;L6_CT&#x27;, &#x27;L6_IT_Car3&#x27;, &#x27;L6_IT&#x27;, &#x27;Lamp5&#x27;,\n",
       "       &#x27;Lamp5_LHX6&#x27;, &#x27;MGC&#x27;, &#x27;MSN_D1&#x27;, &#x27;MSN_D2&#x27;, &#x27;ODC&#x27;, &#x27;OPC&#x27;, &#x27;PC&#x27;, &#x27;Pvalb&#x27;,\n",
       "       &#x27;Pvalb_ChC&#x27;, &#x27;Sncg&#x27;, &#x27;Sst&#x27;, &#x27;SubCtx&#x27;, &#x27;Vip&#x27;, &#x27;VLMC&#x27;], dtype=object)</pre></div></li><li class='xr-var-item'><div class='xr-var-name'><span class='xr-has-index'>bin</span></div><div class='xr-var-dims'>(bin)</div><div class='xr-var-dtype'>int64</div><div class='xr-var-preview xr-preview'>0 1 2 3 ... 115006 115007 115008</div><input id='attrs-246507ae-cd02-4c8f-bbbe-230ac2eaaac0' class='xr-var-attrs-in' type='checkbox' disabled><label for='attrs-246507ae-cd02-4c8f-bbbe-230ac2eaaac0' title='Show/Hide attributes'><svg class='icon xr-icon-file-text2'><use xlink:href='#icon-file-text2'></use></svg></label><input id='data-ace98624-fd52-4d8f-9c5f-3462d082eff1' class='xr-var-data-in' type='checkbox'><label for='data-ace98624-fd52-4d8f-9c5f-3462d082eff1' title='Show/Hide data repr'><svg class='icon xr-icon-database'><use xlink:href='#icon-database'></use></svg></label><div class='xr-var-attrs'><dl class='xr-attrs'></dl></div><div class='xr-var-data'><pre>array([     0,      1,      2, ..., 115006, 115007, 115008])</pre></div></li><li class='xr-var-item'><div class='xr-var-name'><span class='xr-has-index'>type</span></div><div class='xr-var-dims'>(type)</div><div class='xr-var-dtype'>object</div><div class='xr-var-preview xr-preview'>&#x27;inter&#x27; &#x27;intra&#x27;</div><input id='attrs-61ba3763-e0b1-4c1b-b3a1-950912fdbaf6' class='xr-var-attrs-in' type='checkbox' disabled><label for='attrs-61ba3763-e0b1-4c1b-b3a1-950912fdbaf6' title='Show/Hide attributes'><svg class='icon xr-icon-file-text2'><use xlink:href='#icon-file-text2'></use></svg></label><input id='data-fb62af81-5e3d-434c-8bf5-b5960f6c891f' class='xr-var-data-in' type='checkbox'><label for='data-fb62af81-5e3d-434c-8bf5-b5960f6c891f' title='Show/Hide data repr'><svg class='icon xr-icon-database'><use xlink:href='#icon-database'></use></svg></label><div class='xr-var-attrs'><dl class='xr-attrs'></dl></div><div class='xr-var-data'><pre>array([&#x27;inter&#x27;, &#x27;intra&#x27;], dtype=object)</pre></div></li><li class='xr-var-item'><div class='xr-var-name'><span>bin_chrom</span></div><div class='xr-var-dims'>(bin)</div><div class='xr-var-dtype'>object</div><div class='xr-var-preview xr-preview'>&#x27;chr1&#x27; &#x27;chr1&#x27; ... &#x27;chr22&#x27; &#x27;chr22&#x27;</div><input id='attrs-eb6a5f6f-3e3b-46e0-9170-861d2768b862' class='xr-var-attrs-in' type='checkbox' disabled><label for='attrs-eb6a5f6f-3e3b-46e0-9170-861d2768b862' title='Show/Hide attributes'><svg class='icon xr-icon-file-text2'><use xlink:href='#icon-file-text2'></use></svg></label><input id='data-23ab5fd8-fc0b-40b1-ba61-8539d3d42910' class='xr-var-data-in' type='checkbox'><label for='data-23ab5fd8-fc0b-40b1-ba61-8539d3d42910' title='Show/Hide data repr'><svg class='icon xr-icon-database'><use xlink:href='#icon-database'></use></svg></label><div class='xr-var-attrs'><dl class='xr-attrs'></dl></div><div class='xr-var-data'><pre>array([&#x27;chr1&#x27;, &#x27;chr1&#x27;, &#x27;chr1&#x27;, ..., &#x27;chr22&#x27;, &#x27;chr22&#x27;, &#x27;chr22&#x27;], dtype=object)</pre></div></li><li class='xr-var-item'><div class='xr-var-name'><span>bin_start</span></div><div class='xr-var-dims'>(bin)</div><div class='xr-var-dtype'>int32</div><div class='xr-var-preview xr-preview'>...</div><input id='attrs-5a65d999-aac9-4109-ada5-277bf219abff' class='xr-var-attrs-in' type='checkbox' disabled><label for='attrs-5a65d999-aac9-4109-ada5-277bf219abff' title='Show/Hide attributes'><svg class='icon xr-icon-file-text2'><use xlink:href='#icon-file-text2'></use></svg></label><input id='data-ceac7278-37f4-4e4c-b620-5aad83ca19d2' class='xr-var-data-in' type='checkbox'><label for='data-ceac7278-37f4-4e4c-b620-5aad83ca19d2' title='Show/Hide data repr'><svg class='icon xr-icon-database'><use xlink:href='#icon-database'></use></svg></label><div class='xr-var-attrs'><dl class='xr-attrs'></dl></div><div class='xr-var-data'><pre>[115009 values with dtype=int32]</pre></div></li><li class='xr-var-item'><div class='xr-var-name'><span>bin_end</span></div><div class='xr-var-dims'>(bin)</div><div class='xr-var-dtype'>int32</div><div class='xr-var-preview xr-preview'>...</div><input id='attrs-70a227ac-1add-4593-9a90-cb4013443e37' class='xr-var-attrs-in' type='checkbox' disabled><label for='attrs-70a227ac-1add-4593-9a90-cb4013443e37' title='Show/Hide attributes'><svg class='icon xr-icon-file-text2'><use xlink:href='#icon-file-text2'></use></svg></label><input id='data-a2d717e6-9fe9-41a3-a8c5-26bee0b2b178' class='xr-var-data-in' type='checkbox'><label for='data-a2d717e6-9fe9-41a3-a8c5-26bee0b2b178' title='Show/Hide data repr'><svg class='icon xr-icon-database'><use xlink:href='#icon-database'></use></svg></label><div class='xr-var-attrs'><dl class='xr-attrs'></dl></div><div class='xr-var-data'><pre>[115009 values with dtype=int32]</pre></div></li></ul></div></li><li class='xr-section-item'><input id='section-8eb188f0-2b73-44e3-a79b-c0a6b59bf057' class='xr-section-summary-in' type='checkbox'  checked><label for='section-8eb188f0-2b73-44e3-a79b-c0a6b59bf057' class='xr-section-summary' >Data variables: <span>(2)</span></label><div class='xr-section-inline-details'></div><div class='xr-section-details'><ul class='xr-var-list'><li class='xr-var-item'><div class='xr-var-name'><span>__xarray_dataarray_variable__</span></div><div class='xr-var-dims'>(cell, bin, type)</div><div class='xr-var-dtype'>float64</div><div class='xr-var-preview xr-preview'>...</div><input id='attrs-7267928f-1b98-47d8-ad19-261f00998194' class='xr-var-attrs-in' type='checkbox' disabled><label for='attrs-7267928f-1b98-47d8-ad19-261f00998194' title='Show/Hide attributes'><svg class='icon xr-icon-file-text2'><use xlink:href='#icon-file-text2'></use></svg></label><input id='data-ff1355da-cbcc-40bc-a5b1-16f1f48a0237' class='xr-var-data-in' type='checkbox'><label for='data-ff1355da-cbcc-40bc-a5b1-16f1f48a0237' title='Show/Hide data repr'><svg class='icon xr-icon-database'><use xlink:href='#icon-database'></use></svg></label><div class='xr-var-attrs'><dl class='xr-attrs'></dl></div><div class='xr-var-data'><pre>[6670522 values with dtype=float64]</pre></div></li><li class='xr-var-item'><div class='xr-var-name'><span>ratio</span></div><div class='xr-var-dims'>(cell, bin)</div><div class='xr-var-dtype'>float64</div><div class='xr-var-preview xr-preview'>1.0 0.0 0.0 ... 0.0822 0.03701</div><input id='attrs-9c49cbd4-fdb3-41ac-bfcd-3494a39ea8d7' class='xr-var-attrs-in' type='checkbox' disabled><label for='attrs-9c49cbd4-fdb3-41ac-bfcd-3494a39ea8d7' title='Show/Hide attributes'><svg class='icon xr-icon-file-text2'><use xlink:href='#icon-file-text2'></use></svg></label><input id='data-16270551-e446-4a86-a4ed-57e38d96a774' class='xr-var-data-in' type='checkbox'><label for='data-16270551-e446-4a86-a4ed-57e38d96a774' title='Show/Hide data repr'><svg class='icon xr-icon-database'><use xlink:href='#icon-database'></use></svg></label><div class='xr-var-attrs'><dl class='xr-attrs'></dl></div><div class='xr-var-data'><pre>array([[1.        , 0.        , 0.        , ..., 0.16812632, 0.10848292,\n",
       "        0.04643996],\n",
       "       [1.        , 0.        , 0.        , ..., 0.12990385, 0.07955251,\n",
       "        0.03280964],\n",
       "       [1.        , 0.        , 0.        , ..., 0.14981555, 0.09723643,\n",
       "        0.04204067],\n",
       "       ...,\n",
       "       [1.        , 0.        , 0.        , ..., 0.15654415, 0.09799818,\n",
       "        0.04050131],\n",
       "       [1.        , 0.        , 0.        , ..., 0.17004774, 0.10757601,\n",
       "        0.04595703],\n",
       "       [1.        , 0.        , 0.        , ..., 0.12614729, 0.08219525,\n",
       "        0.03701178]])</pre></div></li></ul></div></li><li class='xr-section-item'><input id='section-53c794e3-1a8d-4982-82c4-d40645111761' class='xr-section-summary-in' type='checkbox' disabled ><label for='section-53c794e3-1a8d-4982-82c4-d40645111761' class='xr-section-summary'  title='Expand/collapse section'>Attributes: <span>(0)</span></label><div class='xr-section-inline-details'></div><div class='xr-section-details'><dl class='xr-attrs'></dl></div></li></ul></div></div>"
      ],
      "text/plain": [
       "<xarray.Dataset>\n",
       "Dimensions:                        (cell: 29, bin: 115009, type: 2)\n",
       "Coordinates:\n",
       "  * cell                           (cell) object 'Amy' 'ASC' ... 'Vip' 'VLMC'\n",
       "  * bin                            (bin) int64 0 1 2 3 ... 115006 115007 115008\n",
       "  * type                           (type) object 'inter' 'intra'\n",
       "    bin_chrom                      (bin) object 'chr1' 'chr1' ... 'chr22'\n",
       "    bin_start                      (bin) int32 ...\n",
       "    bin_end                        (bin) int32 ...\n",
       "Data variables:\n",
       "    __xarray_dataarray_variable__  (cell, bin, type) float64 ...\n",
       "    ratio                          (cell, bin) float64 1.0 0.0 ... 0.03701"
      ]
     },
     "execution_count": 10,
     "metadata": {},
     "output_type": "execute_result"
    }
   ],
   "source": [
    "ins_count = xr.open_dataset(f'{indir}MajorType_impute.insulation.nc')\n",
    "ins_count = ins_count.sel({'bin': (ins_count['bin_chrom']!='chrX')})\n",
    "ins_count['ratio'] = (ins_count.sel({'type':'inter'})['__xarray_dataarray_variable__'] / ins_count.sel({'type':'intra'}))['__xarray_dataarray_variable__']\n",
    "ins_count"
   ]
  },
  {
   "cell_type": "code",
   "execution_count": 11,
   "id": "d6afd9b4-186f-4bf0-b554-ab24050746c6",
   "metadata": {
    "execution": {
     "iopub.execute_input": "2023-06-23T19:11:53.338641Z",
     "iopub.status.busy": "2023-06-23T19:11:53.338428Z",
     "iopub.status.idle": "2023-06-23T19:11:53.345246Z",
     "shell.execute_reply": "2023-06-23T19:11:53.344630Z",
     "shell.execute_reply.started": "2023-06-23T19:11:53.338624Z"
    },
    "tags": []
   },
   "outputs": [
    {
     "data": {
      "text/plain": [
       "(21, 115009)"
      ]
     },
     "execution_count": 11,
     "metadata": {},
     "output_type": "execute_result"
    }
   ],
   "source": [
    "ins = ins_count['ratio'].to_pandas().loc[leg]\n",
    "ins.shape"
   ]
  },
  {
   "cell_type": "code",
   "execution_count": 12,
   "id": "7bd81a75-ab72-4beb-85b1-d72bb0a195c1",
   "metadata": {
    "ExecuteTime": {
     "end_time": "2022-10-05T20:46:47.823349Z",
     "start_time": "2022-10-05T20:46:47.817559Z"
    },
    "execution": {
     "iopub.execute_input": "2023-06-23T19:11:53.346103Z",
     "iopub.status.busy": "2023-06-23T19:11:53.345917Z",
     "iopub.status.idle": "2023-06-23T19:11:53.422391Z",
     "shell.execute_reply": "2023-06-23T19:11:53.421686Z",
     "shell.execute_reply.started": "2023-06-23T19:11:53.346087Z"
    },
    "tags": []
   },
   "outputs": [],
   "source": [
    "binall = ins_count[['bin_chrom', 'bin_start', 'bin_end']].to_pandas()\n",
    "binall.columns = binall.columns.str.split('_').str[1]\n",
    "binall.index = binall['chrom'] + '_' + (binall['start'] // res).astype(str)"
   ]
  },
  {
   "cell_type": "code",
   "execution_count": 13,
   "id": "f1c1b53b-accc-4464-bfc9-5d8bf78285e1",
   "metadata": {
    "ExecuteTime": {
     "end_time": "2022-10-05T20:46:48.571268Z",
     "start_time": "2022-10-05T20:46:48.283272Z"
    },
    "execution": {
     "iopub.execute_input": "2023-06-23T19:11:53.423426Z",
     "iopub.status.busy": "2023-06-23T19:11:53.423215Z",
     "iopub.status.idle": "2023-06-23T19:11:53.836157Z",
     "shell.execute_reply": "2023-06-23T19:11:53.835393Z",
     "shell.execute_reply.started": "2023-06-23T19:11:53.423405Z"
    },
    "tags": []
   },
   "outputs": [
    {
     "name": "stdout",
     "output_type": "stream",
     "text": [
      "100643\n"
     ]
    }
   ],
   "source": [
    "bkl = pd.read_csv(f'{indir}../loop_majortype/M1C.rowsumpb1000.blf50.merged.bed', sep='\\t', header=None, index_col=None)\n",
    "binall['bklfilter'] = True\n",
    "for c in chrom_sizes.index:\n",
    "    chrfilter = (binall['chrom']==c)\n",
    "    tmp = binall.loc[chrfilter.values]\n",
    "    tmp.iloc[:10, -1] = False\n",
    "    tmp.iloc[-10:, -1] = False\n",
    "    for xx,yy in bkl.loc[bkl[0]==c, [1,2]].values // res:\n",
    "        tmp.iloc[max([0,xx-2]):(yy+2), -1] = False\n",
    "    binall.loc[chrfilter] = tmp.copy()\n",
    "\n",
    "print(binall['bklfilter'].sum())\n"
   ]
  },
  {
   "cell_type": "code",
   "execution_count": 14,
   "id": "73b86dc6-ef8e-47d3-aa5b-d044e3ae9d13",
   "metadata": {
    "ExecuteTime": {
     "end_time": "2022-10-05T20:47:24.475190Z",
     "start_time": "2022-10-05T20:47:02.311436Z"
    },
    "execution": {
     "iopub.execute_input": "2023-06-23T19:11:53.837339Z",
     "iopub.status.busy": "2023-06-23T19:11:53.837105Z",
     "iopub.status.idle": "2023-06-23T19:12:14.719900Z",
     "shell.execute_reply": "2023-06-23T19:12:14.718915Z",
     "shell.execute_reply.started": "2023-06-23T19:11:53.837318Z"
    },
    "tags": []
   },
   "outputs": [],
   "source": [
    "chi2sc, fdr_sc = diff_bound(bound_count_ct.values, cell_count_ct.values)\n",
    "ave = np.mean(chi2sc[chi2sc>0])\n",
    "stdev = np.std(chi2sc[chi2sc>0])\n",
    "binall['chi2filter'] = (((chi2sc - ave) / stdev)>norm.isf(0.025))\n"
   ]
  },
  {
   "cell_type": "code",
   "execution_count": 15,
   "id": "eb8d6d36-b589-4c50-9f69-c6233eb7e2a1",
   "metadata": {
    "execution": {
     "iopub.execute_input": "2023-06-23T19:12:14.721656Z",
     "iopub.status.busy": "2023-06-23T19:12:14.721446Z",
     "iopub.status.idle": "2023-06-23T19:12:17.866945Z",
     "shell.execute_reply": "2023-06-23T19:12:17.866199Z",
     "shell.execute_reply.started": "2023-06-23T19:12:14.721636Z"
    },
    "tags": []
   },
   "outputs": [],
   "source": [
    "binall['ins_lm'] = 0\n",
    "for xx in leg:\n",
    "    sel = []\n",
    "    for c in chrom_sizes.index:\n",
    "        idx = np.where(binall['chrom']==c)[0]\n",
    "        if len(idx)>0:\n",
    "            data = -ins.loc[xx, idx]\n",
    "            peaks, _ = find_peaks(data, distance=5)\n",
    "            sel.append(idx.min() + peaks)\n",
    "    sel = np.concatenate(sel)\n",
    "    binall.loc[binall.index[sel], 'ins_lm'] = 1\n",
    "\n",
    "binall['probdiff'] = (bound_prob_ct.max(axis=1) - bound_prob_ct.min(axis=1)).values\n",
    "binall['chi2_sc'] = chi2sc.copy()\n",
    "binall['insfc'] = ((ins.max(axis=0)+0.01) / (ins.min(axis=0)+0.01)).values\n"
   ]
  },
  {
   "cell_type": "code",
   "execution_count": 16,
   "id": "c9523e79-8b31-4786-8c34-f312f7dbca8d",
   "metadata": {
    "execution": {
     "iopub.execute_input": "2023-06-23T19:12:17.869062Z",
     "iopub.status.busy": "2023-06-23T19:12:17.868845Z",
     "iopub.status.idle": "2023-06-23T19:12:18.070222Z",
     "shell.execute_reply": "2023-06-23T19:12:18.069530Z",
     "shell.execute_reply.started": "2023-06-23T19:12:17.869044Z"
    },
    "tags": []
   },
   "outputs": [],
   "source": [
    "sel = []\n",
    "thres = np.min(chi2sc[fdr_sc<1e-3])\n",
    "for c in chrom_sizes.index:\n",
    "    idx = np.where(binall['chrom']==c)[0]\n",
    "    if len(idx)>0:\n",
    "        data = chi2sc[idx]\n",
    "        peaks, _ = find_peaks(data, height=thres, distance=5)\n",
    "        sel.append(idx.min() + peaks)\n",
    "        \n",
    "sel = np.concatenate(sel)\n",
    "\n",
    "binall['diff_sc'] = 0\n",
    "binall.loc[binall.index[sel], 'diff_sc'] = 1\n",
    "binall.loc[:, binall.dtypes=='category'] = binall.loc[:, binall.dtypes=='category'].astype(str)\n",
    "binall.to_hdf(f'{outdir}bin_stats.hdf', key='data')\n"
   ]
  },
  {
   "cell_type": "code",
   "execution_count": 17,
   "id": "adb87735-f76c-4f7d-9b6e-32bbfc1334e3",
   "metadata": {
    "ExecuteTime": {
     "end_time": "2022-10-05T20:47:24.482641Z",
     "start_time": "2022-10-05T20:47:24.477057Z"
    },
    "execution": {
     "iopub.execute_input": "2023-06-23T19:12:18.071317Z",
     "iopub.status.busy": "2023-06-23T19:12:18.071101Z",
     "iopub.status.idle": "2023-06-23T19:12:18.076658Z",
     "shell.execute_reply": "2023-06-23T19:12:18.076121Z",
     "shell.execute_reply.started": "2023-06-23T19:12:18.071298Z"
    },
    "tags": []
   },
   "outputs": [
    {
     "name": "stdout",
     "output_type": "stream",
     "text": [
      "1720\n"
     ]
    }
   ],
   "source": [
    "print((binall['chi2filter'] \n",
    "       & binall['diff_sc'] \n",
    "       & binall['bklfilter'] \n",
    "       & binall['ins_lm'] \n",
    "       & (binall['probdiff']>0.05) \n",
    "       #& (binall['insfc']>1.2)\n",
    "      ).sum())"
   ]
  },
  {
   "cell_type": "code",
   "execution_count": null,
   "id": "bb3c565e-c027-42ec-b13d-db1d399fd1ba",
   "metadata": {},
   "outputs": [],
   "source": []
  }
 ],
 "metadata": {
  "kernelspec": {
   "display_name": "Python 3 (ipykernel)",
   "language": "python",
   "name": "python3"
  },
  "language_info": {
   "codemirror_mode": {
    "name": "ipython",
    "version": 3
   },
   "file_extension": ".py",
   "mimetype": "text/x-python",
   "name": "python",
   "nbconvert_exporter": "python",
   "pygments_lexer": "ipython3",
   "version": "3.9.0"
  }
 },
 "nbformat": 4,
 "nbformat_minor": 5
}
