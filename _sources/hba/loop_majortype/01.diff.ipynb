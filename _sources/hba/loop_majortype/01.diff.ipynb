{
 "cells": [
  {
   "cell_type": "markdown",
   "id": "5f2acf50-f0af-4b19-906c-3a6bd06ae1b5",
   "metadata": {},
   "source": [
    "# ANOVA of loop matrices across cell types"
   ]
  },
  {
   "cell_type": "code",
   "execution_count": 1,
   "id": "c3946686",
   "metadata": {
    "ExecuteTime": {
     "end_time": "2022-10-12T08:05:53.241887Z",
     "start_time": "2022-10-12T08:05:53.235330Z"
    },
    "execution": {
     "iopub.execute_input": "2023-06-23T06:31:21.205795Z",
     "iopub.status.busy": "2023-06-23T06:31:21.205532Z",
     "iopub.status.idle": "2023-06-23T06:31:24.220919Z",
     "shell.execute_reply": "2023-06-23T06:31:24.220036Z",
     "shell.execute_reply.started": "2023-06-23T06:31:21.205777Z"
    },
    "papermill": {
     "duration": 4.029058,
     "end_time": "2023-05-05T18:29:50.564169",
     "exception": false,
     "start_time": "2023-05-05T18:29:46.535111",
     "status": "completed"
    },
    "tags": []
   },
   "outputs": [],
   "source": [
    "import os\n",
    "import cooler\n",
    "import pathlib\n",
    "import numpy as np\n",
    "import pandas as pd\n",
    "from scipy.sparse import load_npz, save_npz, vstack, csr_matrix, triu\n",
    "from scipy.stats import f, zscore, ranksums\n",
    "from schicluster.cool.utilities import get_chrom_offsets\n",
    "from multiprocessing import Pool\n",
    "from concurrent.futures import ProcessPoolExecutor, as_completed\n"
   ]
  },
  {
   "cell_type": "code",
   "execution_count": 2,
   "id": "82dcdedb",
   "metadata": {
    "ExecuteTime": {
     "end_time": "2022-10-05T21:00:43.223109Z",
     "start_time": "2022-10-05T21:00:43.220077Z"
    },
    "execution": {
     "iopub.execute_input": "2023-06-23T06:31:24.228361Z",
     "iopub.status.busy": "2023-06-23T06:31:24.228191Z",
     "iopub.status.idle": "2023-06-23T06:31:24.232978Z",
     "shell.execute_reply": "2023-06-23T06:31:24.232394Z",
     "shell.execute_reply.started": "2023-06-23T06:31:24.228345Z"
    },
    "papermill": {
     "duration": 0.044677,
     "end_time": "2023-05-05T18:29:50.612560",
     "exception": false,
     "start_time": "2023-05-05T18:29:50.567883",
     "status": "completed"
    },
    "tags": []
   },
   "outputs": [],
   "source": [
    "leg = {'exc': ['L23_IT', 'L4_IT', 'L5_IT', 'L6_IT', 'L6_IT_Car3', 'L56_NP', 'L6_CT', 'L6b', 'Amy'], \n",
    "       'inh': ['Lamp5', 'Lamp5_LHX6', 'Sncg', 'Vip', 'Pvalb', 'Pvalb_ChC', 'Sst', 'CHD7'], \n",
    "       'msn': ['MSN_D1', 'MSN_D2', 'Foxp2'], \n",
    "       'sub': ['SubCtx'], \n",
    "       'glia': ['ASC', 'ODC', 'OPC'], \n",
    "       'mgc': ['MGC'], \n",
    "       'smc': ['PC'], \n",
    "       'endo': ['EC'], \n",
    "       'fibro': ['VLMC'],\n",
    "      }\n",
    "leg['neu'] = leg['exc'] + leg['inh'] + leg['msn'] + leg['sub']\n",
    "leg['all'] = leg['neu'] + leg['glia'] + leg['mgc'] + leg['smc'] + leg['endo'] + leg['fibro']\n"
   ]
  },
  {
   "cell_type": "code",
   "execution_count": 3,
   "id": "493bc847",
   "metadata": {
    "execution": {
     "iopub.execute_input": "2023-06-23T06:31:24.234241Z",
     "iopub.status.busy": "2023-06-23T06:31:24.234052Z",
     "iopub.status.idle": "2023-06-23T06:31:24.261171Z",
     "shell.execute_reply": "2023-06-23T06:31:24.260654Z",
     "shell.execute_reply.started": "2023-06-23T06:31:24.234224Z"
    },
    "papermill": {
     "duration": 0.034866,
     "end_time": "2023-05-05T18:29:50.679259",
     "exception": false,
     "start_time": "2023-05-05T18:29:50.644393",
     "status": "completed"
    },
    "tags": [
     "parameters"
    ]
   },
   "outputs": [],
   "source": [
    "group_name = 'neu'\n"
   ]
  },
  {
   "cell_type": "code",
   "execution_count": 4,
   "id": "dc1a276f",
   "metadata": {
    "execution": {
     "iopub.execute_input": "2023-06-23T06:31:39.820605Z",
     "iopub.status.busy": "2023-06-23T06:31:39.820096Z",
     "iopub.status.idle": "2023-06-23T06:31:39.824005Z",
     "shell.execute_reply": "2023-06-23T06:31:39.823467Z",
     "shell.execute_reply.started": "2023-06-23T06:31:39.820583Z"
    },
    "papermill": {
     "duration": 0.039151,
     "end_time": "2023-05-05T18:29:50.768187",
     "exception": false,
     "start_time": "2023-05-05T18:29:50.729036",
     "status": "completed"
    },
    "tags": []
   },
   "outputs": [],
   "source": [
    "ctgroup = []\n",
    "if '_' in group_name:\n",
    "    for xx in group_name.split('_'):\n",
    "        ctgroup.append(leg[xx])\n",
    "else:\n",
    "    for xx in leg[group_name]:\n",
    "        ctgroup.append([xx])\n",
    "        "
   ]
  },
  {
   "cell_type": "code",
   "execution_count": 5,
   "id": "b54bee0f",
   "metadata": {
    "execution": {
     "iopub.execute_input": "2023-06-23T06:31:40.948205Z",
     "iopub.status.busy": "2023-06-23T06:31:40.947678Z",
     "iopub.status.idle": "2023-06-23T06:31:40.952223Z",
     "shell.execute_reply": "2023-06-23T06:31:40.951705Z",
     "shell.execute_reply.started": "2023-06-23T06:31:40.948185Z"
    },
    "papermill": {
     "duration": 0.037006,
     "end_time": "2023-05-05T18:29:50.905258",
     "exception": false,
     "start_time": "2023-05-05T18:29:50.868252",
     "status": "completed"
    },
    "tags": []
   },
   "outputs": [
    {
     "data": {
      "text/plain": [
       "[['L23_IT'],\n",
       " ['L4_IT'],\n",
       " ['L5_IT'],\n",
       " ['L6_IT'],\n",
       " ['L6_IT_Car3'],\n",
       " ['L56_NP'],\n",
       " ['L6_CT'],\n",
       " ['L6b'],\n",
       " ['Amy'],\n",
       " ['Lamp5'],\n",
       " ['Lamp5_LHX6'],\n",
       " ['Sncg'],\n",
       " ['Vip'],\n",
       " ['Pvalb'],\n",
       " ['Pvalb_ChC'],\n",
       " ['Sst'],\n",
       " ['CHD7'],\n",
       " ['MSN_D1'],\n",
       " ['MSN_D2'],\n",
       " ['Foxp2'],\n",
       " ['SubCtx']]"
      ]
     },
     "execution_count": 5,
     "metadata": {},
     "output_type": "execute_result"
    }
   ],
   "source": [
    "ctgroup"
   ]
  },
  {
   "cell_type": "code",
   "execution_count": 6,
   "id": "5176678f",
   "metadata": {
    "ExecuteTime": {
     "end_time": "2022-10-12T08:05:57.124634Z",
     "start_time": "2022-10-12T08:05:57.122898Z"
    },
    "execution": {
     "iopub.execute_input": "2023-06-23T06:32:02.748649Z",
     "iopub.status.busy": "2023-06-23T06:32:02.748254Z",
     "iopub.status.idle": "2023-06-23T06:32:02.760893Z",
     "shell.execute_reply": "2023-06-23T06:32:02.759858Z",
     "shell.execute_reply.started": "2023-06-23T06:32:02.748622Z"
    },
    "papermill": {
     "duration": 0.023512,
     "end_time": "2023-05-05T18:29:50.935850",
     "exception": false,
     "start_time": "2023-05-05T18:29:50.912338",
     "status": "completed"
    },
    "tags": []
   },
   "outputs": [],
   "source": [
    "indir = '/home/jzhou_salk_edu/sky_workdir/hba/loop_majortype/'\n",
    "outdir = '/home/jzhou_salk_edu/sky_workdir/hba/loop_majortype/'\n",
    "res = 10000\n",
    "group = group_name\n"
   ]
  },
  {
   "cell_type": "code",
   "execution_count": 7,
   "id": "dee4bf5a",
   "metadata": {
    "execution": {
     "iopub.execute_input": "2023-06-23T06:32:04.460529Z",
     "iopub.status.busy": "2023-06-23T06:32:04.460149Z",
     "iopub.status.idle": "2023-06-23T06:32:04.678690Z",
     "shell.execute_reply": "2023-06-23T06:32:04.676991Z",
     "shell.execute_reply.started": "2023-06-23T06:32:04.460492Z"
    },
    "papermill": {
     "duration": 0.089658,
     "end_time": "2023-05-05T18:29:51.029416",
     "exception": false,
     "start_time": "2023-05-05T18:29:50.939758",
     "status": "completed"
    },
    "tags": []
   },
   "outputs": [],
   "source": [
    "chrom_size_path = f'{indir}hg38_with_chrl.main.chrom.sizes'\n",
    "chrom_sizes = cooler.read_chromsizes(chrom_size_path, all_names=True)\n",
    "bins_df = cooler.binnify(chrom_sizes, res)\n",
    "chrom_offset = get_chrom_offsets(bins_df)\n"
   ]
  },
  {
   "cell_type": "code",
   "execution_count": 8,
   "id": "5526a762",
   "metadata": {
    "ExecuteTime": {
     "end_time": "2022-10-05T21:00:58.713453Z",
     "start_time": "2022-10-05T21:00:58.699515Z"
    },
    "execution": {
     "iopub.execute_input": "2023-06-23T06:32:14.096419Z",
     "iopub.status.busy": "2023-06-23T06:32:14.095759Z",
     "iopub.status.idle": "2023-06-23T06:32:14.121719Z",
     "shell.execute_reply": "2023-06-23T06:32:14.121216Z",
     "shell.execute_reply.started": "2023-06-23T06:32:14.096398Z"
    },
    "papermill": {
     "duration": 0.024014,
     "end_time": "2023-05-05T18:29:51.058247",
     "exception": false,
     "start_time": "2023-05-05T18:29:51.034233",
     "status": "completed"
    },
    "tags": []
   },
   "outputs": [],
   "source": [
    "bkl = pd.read_csv(f'{indir}M1C.rowsumpb1000.blf50.merged.bed', sep='\\t', header=None, index_col=None)\n"
   ]
  },
  {
   "cell_type": "code",
   "execution_count": 10,
   "id": "eb888624",
   "metadata": {
    "ExecuteTime": {
     "end_time": "2022-10-05T21:01:17.975146Z",
     "start_time": "2022-10-05T21:01:17.960633Z"
    },
    "execution": {
     "iopub.execute_input": "2023-06-23T06:32:51.208356Z",
     "iopub.status.busy": "2023-06-23T06:32:51.208103Z",
     "iopub.status.idle": "2023-06-23T06:32:51.216449Z",
     "shell.execute_reply": "2023-06-23T06:32:51.215845Z",
     "shell.execute_reply.started": "2023-06-23T06:32:51.208337Z"
    },
    "papermill": {
     "duration": 0.031668,
     "end_time": "2023-05-05T18:29:51.093864",
     "exception": false,
     "start_time": "2023-05-05T18:29:51.062196",
     "status": "completed"
    },
    "tags": []
   },
   "outputs": [],
   "source": [
    "def compute_anova(c, matrix):\n",
    "    # c, matrix = args\n",
    "    ngene = int(chrom_sizes.loc[c] // res) + 1\n",
    "    bkl_tmp = bkl.loc[(bkl[0]==c), [1,2]].values // res\n",
    "    cov = np.zeros(ngene)\n",
    "    for xx,yy in bkl_tmp:\n",
    "        cov[xx-7:yy+7] = 1\n",
    "    tot, last = 0, 0\n",
    "    Esum, E2sum, Elast, E2last, ss_intra = [csr_matrix((ngene, ngene)) for i in range(5)]\n",
    "    for ctlist in ctgroup:\n",
    "        for ct in ctlist:\n",
    "            cool_e = cooler.Cooler(f'{indir}/{ct}/{ct}/{ct}.{matrix}.cool')\n",
    "            E = triu(cool_e.matrix(balance=False, sparse=True).fetch(c))\n",
    "            cool_e2 = cooler.Cooler(f'{indir}/{ct}/{ct}/{ct}.{matrix}2.cool')\n",
    "            E2 = triu(cool_e2.matrix(balance=False, sparse=True).fetch(c))\n",
    "            n = cool_e.info['group_n_cells']\n",
    "            Esum += E * n\n",
    "            E2sum += E2 * n\n",
    "            tot += n\n",
    "            # print(c, ct)\n",
    "        Egroup = Esum - Elast\n",
    "        E2group = E2sum - E2last\n",
    "        Egroup.data = Egroup.data ** 2 / (tot - last)\n",
    "        ss_intra += (E2group - Egroup)\n",
    "        Elast = Esum.copy()\n",
    "        E2last = E2sum.copy()\n",
    "        last = tot\n",
    "    Esum.data = Esum.data ** 2 / tot\n",
    "    ss_total = E2sum - Esum\n",
    "    ss_intra.data = 1 / ss_intra.data\n",
    "    ss_total = ss_total.multiply(ss_intra)\n",
    "    # print(c, ss_total.data.min(), ss_intra.data.min())\n",
    "\n",
    "    ss_total.data = (ss_total.data - 1) * (tot - len(ctgroup)) / (len(ctgroup) - 1)\n",
    "    ss_total = ss_total.tocoo()\n",
    "    bklfilter = np.logical_and(cov[ss_total.row]==0, cov[ss_total.col]==0)\n",
    "    distfilter = np.logical_and((ss_total.col-ss_total.row)>5, (ss_total.col-ss_total.row)<500)\n",
    "    idxfilter = np.logical_and(bklfilter, distfilter)\n",
    "    # print(idxfilter.sum(), len(idxfilter))\n",
    "    ss_total = csr_matrix((ss_total.data[idxfilter], (ss_total.row[idxfilter], ss_total.col[idxfilter])), (ngene, ngene))\n",
    "    save_npz(f'{outdir}diff/{group}/majortype_{matrix}pv_{c}.npz', ss_total)\n",
    "\n",
    "    return [c, matrix, tot]\n",
    "\n"
   ]
  },
  {
   "cell_type": "code",
   "execution_count": 11,
   "id": "3cb11845",
   "metadata": {
    "execution": {
     "iopub.execute_input": "2023-06-23T06:32:52.737825Z",
     "iopub.status.busy": "2023-06-23T06:32:52.737558Z",
     "iopub.status.idle": "2023-06-23T06:43:05.393682Z",
     "shell.execute_reply": "2023-06-23T06:43:05.388716Z",
     "shell.execute_reply.started": "2023-06-23T06:32:52.737806Z"
    },
    "papermill": {
     "duration": 1240.503806,
     "end_time": "2023-05-05T18:50:31.618134",
     "exception": false,
     "start_time": "2023-05-05T18:29:51.114328",
     "status": "completed"
    },
    "tags": []
   },
   "outputs": [
    {
     "name": "stdout",
     "output_type": "stream",
     "text": [
      "chr3 E finished\n",
      "chr4 Q finished\n",
      "chr3 Q finished\n",
      "chr3 T finished\n",
      "chr1 E finished\n",
      "chr1 Q finished\n",
      "chr2 E finished\n",
      "chr2 Q finished\n",
      "chr1 T finished\n",
      "chr2 T finished\n",
      "chr7 Q finished\n",
      "chr6 Q finished\n",
      "chr7 E finished\n",
      "chr6 E finished\n",
      "chr5 E finished\n",
      "chr5 Q finished\n",
      "chr4 E finished\n",
      "chr4 T finished\n",
      "chr5 T finished\n",
      "chr6 T finished\n",
      "chr9 Q finished\n",
      "chr8 Q finished\n",
      "chr9 E finished\n",
      "chr8 E finished\n",
      "chr10 Q finished\n",
      "chr9 T finished\n",
      "chr10 T finished\n",
      "chr8 T finished\n",
      "chr10 E finished\n",
      "chr7 T finished\n",
      "chr14 Q finished\n",
      "chr13 Q finished\n",
      "chr13 E finished\n",
      "chr11 Q finished\n",
      "chr11 E finished\n",
      "chr12 Q finished\n",
      "chr13 T finished\n",
      "chr12 E finished\n",
      "chr11 T finished\n",
      "chr12 T finished\n",
      "chr16 Q finished\n",
      "chr15 Q finished\n",
      "chr14 T finished\n",
      "chr14 E finished\n",
      "chr16 E finished\n",
      "chr15 E finished\n",
      "chr17 E finished\n",
      "chr15 T finished\n",
      "chr16 T finished\n",
      "chr17 Q finished\n",
      "chr19 Q finished\n",
      "chr18 Q finished\n",
      "chr19 E finished\n",
      "chr20 Q finished\n",
      "chr19 T finished\n",
      "chr20 T finished\n",
      "chr18 E finished\n",
      "chr17 T finished\n",
      "chr18 T finished\n",
      "chr20 E finished\n",
      "chr21 Q finished\n",
      "chr22 Q finished\n",
      "chr21 E finished\n",
      "chr21 T finished\n",
      "chr22 E finished\n",
      "chr22 T finished\n",
      "chrX E finished\n",
      "chrX Q finished\n",
      "chrX T finished\n"
     ]
    }
   ],
   "source": [
    "cpu = 10\n",
    "with ProcessPoolExecutor(cpu) as executor:\n",
    "    futures = []\n",
    "    for x in chrom_sizes.index:\n",
    "        for y in ['Q', 'E', 'T']:\n",
    "            future = executor.submit(\n",
    "                compute_anova,\n",
    "                c=x,\n",
    "                matrix=y,\n",
    "            )\n",
    "            futures.append(future)\n",
    "\n",
    "    # result = []\n",
    "    for future in as_completed(futures):\n",
    "        # result.append(future.result())\n",
    "        # c1, c2 = result[-1][0], result[-1][1]\n",
    "        tmp = future.result()\n",
    "        print(f'{tmp[0]} {tmp[1]} finished')\n",
    "        "
   ]
  },
  {
   "cell_type": "code",
   "execution_count": 12,
   "id": "74335784",
   "metadata": {
    "ExecuteTime": {
     "end_time": "2022-10-05T21:20:38.930119Z",
     "start_time": "2022-10-05T21:20:38.927018Z"
    },
    "execution": {
     "iopub.execute_input": "2023-06-23T06:43:05.421036Z",
     "iopub.status.busy": "2023-06-23T06:43:05.420659Z",
     "iopub.status.idle": "2023-06-23T06:43:05.450297Z",
     "shell.execute_reply": "2023-06-23T06:43:05.443129Z",
     "shell.execute_reply.started": "2023-06-23T06:43:05.421005Z"
    },
    "papermill": {
     "duration": 0.038416,
     "end_time": "2023-05-05T18:50:31.766543",
     "exception": false,
     "start_time": "2023-05-05T18:50:31.728127",
     "status": "completed"
    },
    "tags": []
   },
   "outputs": [],
   "source": [
    "def chrom_iterator(input_dir, chrom_order, chrom_offset):\n",
    "    for chrom in chrom_order:\n",
    "        output_path = f'{input_dir}_{chrom}.npz'\n",
    "        if not pathlib.Path(output_path).exists():\n",
    "            continue\n",
    "        chunk_size = 5000000\n",
    "        data = load_npz(output_path).tocoo()\n",
    "        df = pd.DataFrame({'bin1_id': data.row, 'bin2_id': data.col, 'count': data.data})\n",
    "        df = df[df['bin1_id'] <= df['bin2_id']]\n",
    "        for i, chunk_start in enumerate(range(0, df.shape[0], chunk_size)):\n",
    "            chunk = df.iloc[chunk_start:chunk_start + chunk_size]\n",
    "            chunk.iloc[:, :2] += chrom_offset[chrom]\n",
    "            yield chunk\n"
   ]
  },
  {
   "cell_type": "code",
   "execution_count": 13,
   "id": "ceee0166",
   "metadata": {
    "execution": {
     "iopub.execute_input": "2023-06-23T06:43:05.459545Z",
     "iopub.status.busy": "2023-06-23T06:43:05.452521Z",
     "iopub.status.idle": "2023-06-23T06:45:11.784939Z",
     "shell.execute_reply": "2023-06-23T06:45:11.783744Z",
     "shell.execute_reply.started": "2023-06-23T06:43:05.459469Z"
    },
    "papermill": {
     "duration": 252.352073,
     "end_time": "2023-05-05T18:54:44.144905",
     "exception": false,
     "start_time": "2023-05-05T18:50:31.792832",
     "status": "completed"
    },
    "tags": []
   },
   "outputs": [],
   "source": [
    "for matrix in ['Q', 'E', 'T']:\n",
    "    output_path = f'{outdir}diff/{group}/majortype_{matrix}pv'\n",
    "    cooler.create_cooler(cool_uri=f'{output_path}.cool',\n",
    "                         bins=bins_df,\n",
    "                         pixels=chrom_iterator(input_dir=output_path,\n",
    "                                               chrom_order=chrom_sizes.index,\n",
    "                                               chrom_offset=chrom_offset\n",
    "                                              ),\n",
    "                         ordered=True,\n",
    "                         dtypes={'count': np.float32})\n"
   ]
  },
  {
   "cell_type": "code",
   "execution_count": 14,
   "id": "f7dbee48",
   "metadata": {
    "execution": {
     "iopub.execute_input": "2023-06-23T06:45:11.786460Z",
     "iopub.status.busy": "2023-06-23T06:45:11.786223Z",
     "iopub.status.idle": "2023-06-23T06:45:11.985995Z",
     "shell.execute_reply": "2023-06-23T06:45:11.985232Z",
     "shell.execute_reply.started": "2023-06-23T06:45:11.786438Z"
    },
    "papermill": {
     "duration": 0.33789,
     "end_time": "2023-05-05T18:54:44.554624",
     "exception": false,
     "start_time": "2023-05-05T18:54:44.216734",
     "status": "completed"
    },
    "tags": []
   },
   "outputs": [
    {
     "data": {
      "text/plain": [
       "0"
      ]
     },
     "execution_count": 14,
     "metadata": {},
     "output_type": "execute_result"
    }
   ],
   "source": [
    "os.system(f'rm {outdir}diff/{group}/majortype_*pv_c*.npz')"
   ]
  },
  {
   "cell_type": "code",
   "execution_count": null,
   "id": "9b680151",
   "metadata": {
    "papermill": {
     "duration": 0.06467,
     "end_time": "2023-05-05T18:54:44.690792",
     "exception": false,
     "start_time": "2023-05-05T18:54:44.626122",
     "status": "completed"
    },
    "tags": []
   },
   "outputs": [],
   "source": []
  }
 ],
 "metadata": {
  "kernelspec": {
   "display_name": "Python 3 (ipykernel)",
   "language": "python",
   "name": "python3"
  },
  "language_info": {
   "codemirror_mode": {
    "name": "ipython",
    "version": 3
   },
   "file_extension": ".py",
   "mimetype": "text/x-python",
   "name": "python",
   "nbconvert_exporter": "python",
   "pygments_lexer": "ipython3",
   "version": "3.7.12"
  },
  "papermill": {
   "default_parameters": {},
   "duration": 1500.649502,
   "end_time": "2023-05-05T18:54:45.792375",
   "environment_variables": {},
   "exception": null,
   "input_path": "/home/jzhou_salk_edu/sky_workdir/hba/loop_majortype/diff/notebooks/01.diff_loop.ipynb",
   "output_path": "neu/01.diff_loop.ipynb",
   "parameters": {
    "cpu": 10,
    "group_name": "neu",
    "mem_gb": 40
   },
   "start_time": "2023-05-05T18:29:45.142873",
   "version": "2.4.0"
  },
  "toc": {
   "base_numbering": 1,
   "nav_menu": {},
   "number_sections": true,
   "sideBar": true,
   "skip_h1_title": false,
   "title_cell": "Table of Contents",
   "title_sidebar": "Contents",
   "toc_cell": false,
   "toc_position": {},
   "toc_section_display": true,
   "toc_window_display": false
  }
 },
 "nbformat": 4,
 "nbformat_minor": 5
}
